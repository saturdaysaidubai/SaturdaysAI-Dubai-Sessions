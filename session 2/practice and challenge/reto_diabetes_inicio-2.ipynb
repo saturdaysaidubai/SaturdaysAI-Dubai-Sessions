{
 "cells": [
  {
   "cell_type": "markdown",
   "metadata": {
    "colab_type": "text",
    "id": "cVtZXn9Yq-d-"
   },
   "source": [
    "# **AISaturdays Diabetes Challenge**\n",
    "\n",
    "![AISaturdays](https://www.saturdays.ai/assets/images/ai-saturdays-122x122.png)\n",
    "\n",
    "Welcome to the challenge of **AISaturdays** of Artificial Intelligence for the detection of Diabetes.\n",
    "This exercise aims to find out the people who may have diabetes, given a set of patient data.\n",
    "\n",
    "**Instructions:**\n",
    "- The Python 3 programming language will be used.\n",
    "- The python libraries will be used: Pandas, MatPlotLib, Numpy.\n",
    "\n",
    "**Through this exercise, we will learn:**\n",
    "- Understand and run NoteBooks with Python.\n",
    "- Being able to use Python functions and additional libraries.\n",
    "- Dataset:\n",
    " - Get the dataset and preview the dataset information.\n",
    " - Clean and normalize the dataset information.\n",
    " - Represent and analyze the dataset information.\n",
    "- Create and understand the concept of\"*Training data set*\"  and \"Test data sets \"\n",
    "- Create and understand the concept of\"*Sorter*\" to analyze the data, predict and draw conclusions.\n",
    "- Improve prediction\n",
    "\n",
    "\n",
    "Let us begin!"
   ]
  },
  {
   "cell_type": "markdown",
   "metadata": {
    "colab_type": "text",
    "id": "k9egJuQsFMyC"
   },
   "source": [
    "#1. Import of libraries\n",
    "\n",
    "\n",
    "\n",
    "\n"
   ]
  },
  {
   "cell_type": "markdown",
   "metadata": {
    "colab_type": "text",
    "id": "ZWOVrIAUohI0"
   },
   "source": [
    "We will download the tools that we are going to use.\n",
    "To run each cell (box), **Shift + Enter**."
   ]
  },
  {
   "cell_type": "code",
   "execution_count": 0,
   "metadata": {
    "colab": {},
    "colab_type": "code",
    "id": "1iwkIWeaji6I"
   },
   "outputs": [],
   "source": [
    "import pandas as pd\n",
    "import matplotlib.pyplot as plt\n",
    "import numpy as np"
   ]
  },
  {
   "cell_type": "markdown",
   "metadata": {
    "colab_type": "text",
    "id": "jR6A5Y82FV0m"
   },
   "source": [
    "#2. Dataset\n",
    "![texto alternativo](https://i.imgur.com/TMvhIbd.png)\n",
    "\n",
    "\n"
   ]
  },
  {
   "cell_type": "markdown",
   "metadata": {
    "colab_type": "text",
    "id": "gAsJT8fGFsGA"
   },
   "source": [
    "### Get the dataset and preview the dataset information.\n",
    "\n",
    "\n"
   ]
  },
  {
   "cell_type": "markdown",
   "metadata": {
    "colab_type": "text",
    "id": "SDpTRX-No8Jv"
   },
   "source": [
    " Our table! In order to view and clean the data, we will convert the CSV file. \n",
    " \n",
    " The data will be stored in a dataframe called**df**."
   ]
  },
  {
   "cell_type": "code",
   "execution_count": 0,
   "metadata": {
    "colab": {},
    "colab_type": "code",
    "id": "7n3RZM58ji6e"
   },
   "outputs": [],
   "source": [
    "df = pd.read_csv('diabetes.csv')"
   ]
  },
  {
   "cell_type": "markdown",
   "metadata": {
    "colab_type": "text",
    "id": "ZBkYU7TWp3zf"
   },
   "source": [
    "\n",
    "0. It shows the first values ​​of the CSV file to get an idea of ​​the content of the table with the code: df.head ()\n",
    "\n",
    "\n",
    "---"
   ]
  },
  {
   "cell_type": "code",
   "execution_count": 0,
   "metadata": {
    "colab": {
     "base_uri": "https://localhost:8080/",
     "height": 195
    },
    "colab_type": "code",
    "id": "NGdy_ZdBji6n",
    "outputId": "257d3948-1905-4fcf-b015-c8edab47cd93"
   },
   "outputs": [
    {
     "data": {
      "text/html": [
       "<div>\n",
       "<style scoped>\n",
       "    .dataframe tbody tr th:only-of-type {\n",
       "        vertical-align: middle;\n",
       "    }\n",
       "\n",
       "    .dataframe tbody tr th {\n",
       "        vertical-align: top;\n",
       "    }\n",
       "\n",
       "    .dataframe thead th {\n",
       "        text-align: right;\n",
       "    }\n",
       "</style>\n",
       "<table border=\"1\" class=\"dataframe\">\n",
       "  <thead>\n",
       "    <tr style=\"text-align: right;\">\n",
       "      <th></th>\n",
       "      <th>Pregnancies</th>\n",
       "      <th>Glucose</th>\n",
       "      <th>BloodPressure</th>\n",
       "      <th>SkinThickness</th>\n",
       "      <th>Insulin</th>\n",
       "      <th>BMI</th>\n",
       "      <th>DiabetesPedigreeFunction</th>\n",
       "      <th>Age</th>\n",
       "      <th>Outcome</th>\n",
       "    </tr>\n",
       "  </thead>\n",
       "  <tbody>\n",
       "    <tr>\n",
       "      <th>0</th>\n",
       "      <td>6</td>\n",
       "      <td>148</td>\n",
       "      <td>72</td>\n",
       "      <td>35</td>\n",
       "      <td>0</td>\n",
       "      <td>33.6</td>\n",
       "      <td>0.627</td>\n",
       "      <td>50</td>\n",
       "      <td>1</td>\n",
       "    </tr>\n",
       "    <tr>\n",
       "      <th>1</th>\n",
       "      <td>1</td>\n",
       "      <td>85</td>\n",
       "      <td>66</td>\n",
       "      <td>29</td>\n",
       "      <td>0</td>\n",
       "      <td>26.6</td>\n",
       "      <td>0.351</td>\n",
       "      <td>31</td>\n",
       "      <td>0</td>\n",
       "    </tr>\n",
       "    <tr>\n",
       "      <th>2</th>\n",
       "      <td>8</td>\n",
       "      <td>183</td>\n",
       "      <td>64</td>\n",
       "      <td>0</td>\n",
       "      <td>0</td>\n",
       "      <td>23.3</td>\n",
       "      <td>0.672</td>\n",
       "      <td>32</td>\n",
       "      <td>1</td>\n",
       "    </tr>\n",
       "    <tr>\n",
       "      <th>3</th>\n",
       "      <td>1</td>\n",
       "      <td>89</td>\n",
       "      <td>66</td>\n",
       "      <td>23</td>\n",
       "      <td>94</td>\n",
       "      <td>28.1</td>\n",
       "      <td>0.167</td>\n",
       "      <td>21</td>\n",
       "      <td>0</td>\n",
       "    </tr>\n",
       "    <tr>\n",
       "      <th>4</th>\n",
       "      <td>0</td>\n",
       "      <td>137</td>\n",
       "      <td>40</td>\n",
       "      <td>35</td>\n",
       "      <td>168</td>\n",
       "      <td>43.1</td>\n",
       "      <td>2.288</td>\n",
       "      <td>33</td>\n",
       "      <td>1</td>\n",
       "    </tr>\n",
       "  </tbody>\n",
       "</table>\n",
       "</div>"
      ],
      "text/plain": [
       "   Pregnancies  Glucose  BloodPressure  ...  DiabetesPedigreeFunction  Age  Outcome\n",
       "0            6      148             72  ...                     0.627   50        1\n",
       "1            1       85             66  ...                     0.351   31        0\n",
       "2            8      183             64  ...                     0.672   32        1\n",
       "3            1       89             66  ...                     0.167   21        0\n",
       "4            0      137             40  ...                     2.288   33        1\n",
       "\n",
       "[5 rows x 9 columns]"
      ]
     },
     "execution_count": 7,
     "metadata": {
      "tags": []
     },
     "output_type": "execute_result"
    }
   ],
   "source": [
    "# Only with one line of code\n"
   ]
  },
  {
   "cell_type": "markdown",
   "metadata": {
    "colab_type": "text",
    "id": "KZuuBCcsZ8LF"
   },
   "source": [
    "### Variables\n",
    "\n",
    "\n",
    "\n",
    "*   **Pregnancies:**  Number of pregnancies.\n",
    "\n",
    "* **Glucose:** Nutrient (sugars).\n",
    "\n",
    "* **Insulin:** Hormone that regulates glucose.\n",
    "\n",
    "* **BloodPressure:** Blood pressure.\n",
    "\n",
    "* **SkinThickness:** Skin thickness. Diabetes is related to increased collagen, which makes the skin thicker.\n",
    "\n",
    "* **BMI:**  Body mass index, which relates height and weight. The usual values ​​are between 18.5 and 30.\n",
    "* **DiabetesPedigreeFunction:**  Function that evaluates the probability of developing diabetes based on family history. The higher you are, the more likely you are to have diabetes.\n",
    "* **Age:** Age\n",
    "* **Outcome:**  The result! 0 means that the person does not have diabetes, 1 means that they do have diabetes.\n",
    "\n",
    "\n",
    "\n",
    "\n"
   ]
  },
  {
   "cell_type": "markdown",
   "metadata": {
    "colab_type": "text",
    "id": "rl9bPOUhLn0Q"
   },
   "source": [
    "### Analyze dataset:\n",
    "\n",
    "To understand the distribution of the data, we will observe:\n",
    "\n",
    "-  The amount of data (count)\n",
    "- Distribution of data by quartiles (25%, 50%, 75%)\n",
    "-  Data mean (mean)\n",
    "- Minimum and maximum (min, max)\n",
    "- Variance (std)\n",
    "- ...\n"
   ]
  },
  {
   "cell_type": "markdown",
   "metadata": {
    "colab_type": "text",
    "id": "8W4D9QonU-uG"
   },
   "source": [
    "1. Your turn, use the .describe () function to analyze the distribution of the data\n",
    "\n",
    "\n",
    "---\n",
    "\n"
   ]
  },
  {
   "cell_type": "code",
   "execution_count": 0,
   "metadata": {
    "colab": {
     "base_uri": "https://localhost:8080/",
     "height": 297
    },
    "colab_type": "code",
    "id": "lUi7mi68ji6y",
    "outputId": "eb22a1e9-67ee-43d6-b196-bb9674ce2ddf"
   },
   "outputs": [
    {
     "data": {
      "text/html": [
       "<div>\n",
       "<style scoped>\n",
       "    .dataframe tbody tr th:only-of-type {\n",
       "        vertical-align: middle;\n",
       "    }\n",
       "\n",
       "    .dataframe tbody tr th {\n",
       "        vertical-align: top;\n",
       "    }\n",
       "\n",
       "    .dataframe thead th {\n",
       "        text-align: right;\n",
       "    }\n",
       "</style>\n",
       "<table border=\"1\" class=\"dataframe\">\n",
       "  <thead>\n",
       "    <tr style=\"text-align: right;\">\n",
       "      <th></th>\n",
       "      <th>Pregnancies</th>\n",
       "      <th>Glucose</th>\n",
       "      <th>BloodPressure</th>\n",
       "      <th>SkinThickness</th>\n",
       "      <th>Insulin</th>\n",
       "      <th>BMI</th>\n",
       "      <th>DiabetesPedigreeFunction</th>\n",
       "      <th>Age</th>\n",
       "      <th>Outcome</th>\n",
       "    </tr>\n",
       "  </thead>\n",
       "  <tbody>\n",
       "    <tr>\n",
       "      <th>count</th>\n",
       "      <td>768.000000</td>\n",
       "      <td>768.000000</td>\n",
       "      <td>768.000000</td>\n",
       "      <td>768.000000</td>\n",
       "      <td>768.000000</td>\n",
       "      <td>768.000000</td>\n",
       "      <td>768.000000</td>\n",
       "      <td>768.000000</td>\n",
       "      <td>768.000000</td>\n",
       "    </tr>\n",
       "    <tr>\n",
       "      <th>mean</th>\n",
       "      <td>3.845052</td>\n",
       "      <td>120.894531</td>\n",
       "      <td>69.105469</td>\n",
       "      <td>20.536458</td>\n",
       "      <td>79.799479</td>\n",
       "      <td>31.992578</td>\n",
       "      <td>0.471876</td>\n",
       "      <td>33.240885</td>\n",
       "      <td>0.348958</td>\n",
       "    </tr>\n",
       "    <tr>\n",
       "      <th>std</th>\n",
       "      <td>3.369578</td>\n",
       "      <td>31.972618</td>\n",
       "      <td>19.355807</td>\n",
       "      <td>15.952218</td>\n",
       "      <td>115.244002</td>\n",
       "      <td>7.884160</td>\n",
       "      <td>0.331329</td>\n",
       "      <td>11.760232</td>\n",
       "      <td>0.476951</td>\n",
       "    </tr>\n",
       "    <tr>\n",
       "      <th>min</th>\n",
       "      <td>0.000000</td>\n",
       "      <td>0.000000</td>\n",
       "      <td>0.000000</td>\n",
       "      <td>0.000000</td>\n",
       "      <td>0.000000</td>\n",
       "      <td>0.000000</td>\n",
       "      <td>0.078000</td>\n",
       "      <td>21.000000</td>\n",
       "      <td>0.000000</td>\n",
       "    </tr>\n",
       "    <tr>\n",
       "      <th>25%</th>\n",
       "      <td>1.000000</td>\n",
       "      <td>99.000000</td>\n",
       "      <td>62.000000</td>\n",
       "      <td>0.000000</td>\n",
       "      <td>0.000000</td>\n",
       "      <td>27.300000</td>\n",
       "      <td>0.243750</td>\n",
       "      <td>24.000000</td>\n",
       "      <td>0.000000</td>\n",
       "    </tr>\n",
       "    <tr>\n",
       "      <th>50%</th>\n",
       "      <td>3.000000</td>\n",
       "      <td>117.000000</td>\n",
       "      <td>72.000000</td>\n",
       "      <td>23.000000</td>\n",
       "      <td>30.500000</td>\n",
       "      <td>32.000000</td>\n",
       "      <td>0.372500</td>\n",
       "      <td>29.000000</td>\n",
       "      <td>0.000000</td>\n",
       "    </tr>\n",
       "    <tr>\n",
       "      <th>75%</th>\n",
       "      <td>6.000000</td>\n",
       "      <td>140.250000</td>\n",
       "      <td>80.000000</td>\n",
       "      <td>32.000000</td>\n",
       "      <td>127.250000</td>\n",
       "      <td>36.600000</td>\n",
       "      <td>0.626250</td>\n",
       "      <td>41.000000</td>\n",
       "      <td>1.000000</td>\n",
       "    </tr>\n",
       "    <tr>\n",
       "      <th>max</th>\n",
       "      <td>17.000000</td>\n",
       "      <td>199.000000</td>\n",
       "      <td>122.000000</td>\n",
       "      <td>99.000000</td>\n",
       "      <td>846.000000</td>\n",
       "      <td>67.100000</td>\n",
       "      <td>2.420000</td>\n",
       "      <td>81.000000</td>\n",
       "      <td>1.000000</td>\n",
       "    </tr>\n",
       "  </tbody>\n",
       "</table>\n",
       "</div>"
      ],
      "text/plain": [
       "       Pregnancies     Glucose  ...         Age     Outcome\n",
       "count   768.000000  768.000000  ...  768.000000  768.000000\n",
       "mean      3.845052  120.894531  ...   33.240885    0.348958\n",
       "std       3.369578   31.972618  ...   11.760232    0.476951\n",
       "min       0.000000    0.000000  ...   21.000000    0.000000\n",
       "25%       1.000000   99.000000  ...   24.000000    0.000000\n",
       "50%       3.000000  117.000000  ...   29.000000    0.000000\n",
       "75%       6.000000  140.250000  ...   41.000000    1.000000\n",
       "max      17.000000  199.000000  ...   81.000000    1.000000\n",
       "\n",
       "[8 rows x 9 columns]"
      ]
     },
     "execution_count": 9,
     "metadata": {
      "tags": []
     },
     "output_type": "execute_result"
    }
   ],
   "source": [
    "#Only with one line of code\n"
   ]
  },
  {
   "cell_type": "markdown",
   "metadata": {
    "colab_type": "text",
    "id": "qXzql_vLm_wj"
   },
   "source": [
    "Write here all the relevant information you detect in the table above:"
   ]
  },
  {
   "cell_type": "markdown",
   "metadata": {
    "colab_type": "text",
    "id": "wl5wG7HiGnqh"
   },
   "source": [
    "2. Get the total diabetic and non-diabetic people from the dataframe, from the column 'Outcome'\n",
    "\n",
    "\n",
    "---\n",
    "\n"
   ]
  },
  {
   "cell_type": "code",
   "execution_count": 0,
   "metadata": {
    "colab": {
     "base_uri": "https://localhost:8080/",
     "height": 68
    },
    "colab_type": "code",
    "id": "nlN7eBSVji66",
    "outputId": "0760b8da-7fc2-435e-e1f9-43c17c0235a3"
   },
   "outputs": [
    {
     "data": {
      "text/plain": [
       "0    500\n",
       "1    268\n",
       "Name: Outcome, dtype: int64"
      ]
     },
     "execution_count": 8,
     "metadata": {
      "tags": []
     },
     "output_type": "execute_result"
    }
   ],
   "source": [
    " # Only with one line of code\n"
   ]
  },
  {
   "cell_type": "markdown",
   "metadata": {
    "colab_type": "text",
    "id": "CrcNk9nUHJ6a"
   },
   "source": [
    "### Clean and normalize dataset information\n",
    "![texto alternativo](https://i.imgur.com/8u4xTI7.png)\n",
    "\n",
    "This section aims to correct information in the dataset that may be missing or is not correct.\n",
    "\n",
    "This step is necessary to improve any future predictions made with the dataset..\n",
    "\n",
    "There are different techniques to correct and improve the quality and integrity of information in our dataset.\n",
    "\n"
   ]
  },
  {
   "cell_type": "markdown",
   "metadata": {
    "colab_type": "text",
    "id": "l0yc2lmEERar"
   },
   "source": [
    "\n",
    "\n",
    "\n",
    "**!** Note the minimums (min) in the table above.\n",
    "\n",
    " It makes sense for someone to have 0 pregnancies. But 0 blood glucose concentration? Would be dead.\n",
    "\n",
    " Datasets are usually not perfect, there is incomplete and incorrect data that reduces the efficiency of the model. So we need to clean it. [Hint](https://new.paradigmadigital.com/wp-content/uploads/2019/02/Pandas_cheatsheet.pdf)"
   ]
  },
  {
   "cell_type": "markdown",
   "metadata": {
    "colab_type": "text",
    "id": "1w_qLjGoWlHy"
   },
   "source": [
    "3. For which variables does it not make sense that there is a value of 0? Write here all the relevant information.\n",
    "\n",
    "---\n",
    "\n"
   ]
  },
  {
   "cell_type": "markdown",
   "metadata": {
    "colab_type": "text",
    "id": "hp3V_5egZ9YI"
   },
   "source": []
  },
  {
   "cell_type": "markdown",
   "metadata": {
    "colab_type": "text",
    "id": "yE3qVD9YVe0u"
   },
   "source": [
    "4. Replace the wrong 0 values ​​in the dataset with np.NaN (null).\n",
    "\n",
    "\n",
    "---\n",
    "\n"
   ]
  },
  {
   "cell_type": "code",
   "execution_count": 0,
   "metadata": {
    "colab": {},
    "colab_type": "code",
    "id": "aR6CXds7ji7E"
   },
   "outputs": [],
   "source": [
    " # one line of code\n"
   ]
  },
  {
   "cell_type": "markdown",
   "metadata": {
    "colab_type": "text",
    "id": "ayug5Ci1IKoq"
   },
   "source": [
    "###  Analyze relationships of dataset information"
   ]
  },
  {
   "cell_type": "markdown",
   "metadata": {
    "colab_type": "text",
    "id": "LDONagn6wgca"
   },
   "source": [
    "Which of these variables is related to diabetes, and which is not? Are they related to each other?"
   ]
  },
  {
   "cell_type": "markdown",
   "metadata": {
    "colab_type": "text",
    "id": "r1W4bn51IQXD"
   },
   "source": [
    "Create a visual correlation matrix"
   ]
  },
  {
   "cell_type": "markdown",
   "metadata": {
    "colab_type": "text",
    "id": "A0dUPDP8YJuj"
   },
   "source": [
    "5. Create a visual correlation matrix using .corr ()\n",
    "\n",
    "\n",
    "---"
   ]
  },
  {
   "cell_type": "code",
   "execution_count": 0,
   "metadata": {
    "colab": {
     "base_uri": "https://localhost:8080/",
     "height": 229
    },
    "colab_type": "code",
    "id": "VpyMA_vUji7L",
    "outputId": "2245f2dd-c8fc-40c4-af42-ce4ae16ceeb7"
   },
   "outputs": [
    {
     "data": {
      "text/html": [
       "<style  type=\"text/css\" >\n",
       "    #T_c23a289c_4477_11ea_b403_0242ac1c0002row0_col0 {\n",
       "            background-color:  #b40426;\n",
       "            color:  #f1f1f1;\n",
       "        }    #T_c23a289c_4477_11ea_b403_0242ac1c0002row0_col1 {\n",
       "            background-color:  #3b4cc0;\n",
       "            color:  #f1f1f1;\n",
       "        }    #T_c23a289c_4477_11ea_b403_0242ac1c0002row0_col2 {\n",
       "            background-color:  #81a4fb;\n",
       "            color:  #000000;\n",
       "        }    #T_c23a289c_4477_11ea_b403_0242ac1c0002row0_col3 {\n",
       "            background-color:  #3b4cc0;\n",
       "            color:  #f1f1f1;\n",
       "        }    #T_c23a289c_4477_11ea_b403_0242ac1c0002row0_col4 {\n",
       "            background-color:  #3b4cc0;\n",
       "            color:  #f1f1f1;\n",
       "        }    #T_c23a289c_4477_11ea_b403_0242ac1c0002row0_col5 {\n",
       "            background-color:  #3b4cc0;\n",
       "            color:  #f1f1f1;\n",
       "        }    #T_c23a289c_4477_11ea_b403_0242ac1c0002row0_col6 {\n",
       "            background-color:  #3b4cc0;\n",
       "            color:  #f1f1f1;\n",
       "        }    #T_c23a289c_4477_11ea_b403_0242ac1c0002row0_col7 {\n",
       "            background-color:  #e5d8d1;\n",
       "            color:  #000000;\n",
       "        }    #T_c23a289c_4477_11ea_b403_0242ac1c0002row0_col8 {\n",
       "            background-color:  #4c66d6;\n",
       "            color:  #000000;\n",
       "        }    #T_c23a289c_4477_11ea_b403_0242ac1c0002row1_col0 {\n",
       "            background-color:  #6c8ff1;\n",
       "            color:  #000000;\n",
       "        }    #T_c23a289c_4477_11ea_b403_0242ac1c0002row1_col1 {\n",
       "            background-color:  #b40426;\n",
       "            color:  #f1f1f1;\n",
       "        }    #T_c23a289c_4477_11ea_b403_0242ac1c0002row1_col2 {\n",
       "            background-color:  #84a7fc;\n",
       "            color:  #000000;\n",
       "        }    #T_c23a289c_4477_11ea_b403_0242ac1c0002row1_col3 {\n",
       "            background-color:  #6788ee;\n",
       "            color:  #000000;\n",
       "        }    #T_c23a289c_4477_11ea_b403_0242ac1c0002row1_col4 {\n",
       "            background-color:  #e8d6cc;\n",
       "            color:  #000000;\n",
       "        }    #T_c23a289c_4477_11ea_b403_0242ac1c0002row1_col5 {\n",
       "            background-color:  #81a4fb;\n",
       "            color:  #000000;\n",
       "        }    #T_c23a289c_4477_11ea_b403_0242ac1c0002row1_col6 {\n",
       "            background-color:  #6f92f3;\n",
       "            color:  #000000;\n",
       "        }    #T_c23a289c_4477_11ea_b403_0242ac1c0002row1_col7 {\n",
       "            background-color:  #8caffe;\n",
       "            color:  #000000;\n",
       "        }    #T_c23a289c_4477_11ea_b403_0242ac1c0002row1_col8 {\n",
       "            background-color:  #bed2f6;\n",
       "            color:  #000000;\n",
       "        }    #T_c23a289c_4477_11ea_b403_0242ac1c0002row2_col0 {\n",
       "            background-color:  #89acfd;\n",
       "            color:  #000000;\n",
       "        }    #T_c23a289c_4477_11ea_b403_0242ac1c0002row2_col1 {\n",
       "            background-color:  #5b7ae5;\n",
       "            color:  #000000;\n",
       "        }    #T_c23a289c_4477_11ea_b403_0242ac1c0002row2_col2 {\n",
       "            background-color:  #b40426;\n",
       "            color:  #f1f1f1;\n",
       "        }    #T_c23a289c_4477_11ea_b403_0242ac1c0002row2_col3 {\n",
       "            background-color:  #6788ee;\n",
       "            color:  #000000;\n",
       "        }    #T_c23a289c_4477_11ea_b403_0242ac1c0002row2_col4 {\n",
       "            background-color:  #3f53c6;\n",
       "            color:  #f1f1f1;\n",
       "        }    #T_c23a289c_4477_11ea_b403_0242ac1c0002row2_col5 {\n",
       "            background-color:  #96b7ff;\n",
       "            color:  #000000;\n",
       "        }    #T_c23a289c_4477_11ea_b403_0242ac1c0002row2_col6 {\n",
       "            background-color:  #4358cb;\n",
       "            color:  #f1f1f1;\n",
       "        }    #T_c23a289c_4477_11ea_b403_0242ac1c0002row2_col7 {\n",
       "            background-color:  #a2c1ff;\n",
       "            color:  #000000;\n",
       "        }    #T_c23a289c_4477_11ea_b403_0242ac1c0002row2_col8 {\n",
       "            background-color:  #3b4cc0;\n",
       "            color:  #f1f1f1;\n",
       "        }    #T_c23a289c_4477_11ea_b403_0242ac1c0002row3_col0 {\n",
       "            background-color:  #6384eb;\n",
       "            color:  #000000;\n",
       "        }    #T_c23a289c_4477_11ea_b403_0242ac1c0002row3_col1 {\n",
       "            background-color:  #5e7de7;\n",
       "            color:  #000000;\n",
       "        }    #T_c23a289c_4477_11ea_b403_0242ac1c0002row3_col2 {\n",
       "            background-color:  #85a8fc;\n",
       "            color:  #000000;\n",
       "        }    #T_c23a289c_4477_11ea_b403_0242ac1c0002row3_col3 {\n",
       "            background-color:  #b40426;\n",
       "            color:  #f1f1f1;\n",
       "        }    #T_c23a289c_4477_11ea_b403_0242ac1c0002row3_col4 {\n",
       "            background-color:  #5d7ce6;\n",
       "            color:  #000000;\n",
       "        }    #T_c23a289c_4477_11ea_b403_0242ac1c0002row3_col5 {\n",
       "            background-color:  #f5c0a7;\n",
       "            color:  #000000;\n",
       "        }    #T_c23a289c_4477_11ea_b403_0242ac1c0002row3_col6 {\n",
       "            background-color:  #6788ee;\n",
       "            color:  #000000;\n",
       "        }    #T_c23a289c_4477_11ea_b403_0242ac1c0002row3_col7 {\n",
       "            background-color:  #688aef;\n",
       "            color:  #000000;\n",
       "        }    #T_c23a289c_4477_11ea_b403_0242ac1c0002row3_col8 {\n",
       "            background-color:  #5b7ae5;\n",
       "            color:  #000000;\n",
       "        }    #T_c23a289c_4477_11ea_b403_0242ac1c0002row4_col0 {\n",
       "            background-color:  #5d7ce6;\n",
       "            color:  #000000;\n",
       "        }    #T_c23a289c_4477_11ea_b403_0242ac1c0002row4_col1 {\n",
       "            background-color:  #e2dad5;\n",
       "            color:  #000000;\n",
       "        }    #T_c23a289c_4477_11ea_b403_0242ac1c0002row4_col2 {\n",
       "            background-color:  #5977e3;\n",
       "            color:  #000000;\n",
       "        }    #T_c23a289c_4477_11ea_b403_0242ac1c0002row4_col3 {\n",
       "            background-color:  #5875e1;\n",
       "            color:  #000000;\n",
       "        }    #T_c23a289c_4477_11ea_b403_0242ac1c0002row4_col4 {\n",
       "            background-color:  #b40426;\n",
       "            color:  #f1f1f1;\n",
       "        }    #T_c23a289c_4477_11ea_b403_0242ac1c0002row4_col5 {\n",
       "            background-color:  #7ea1fa;\n",
       "            color:  #000000;\n",
       "        }    #T_c23a289c_4477_11ea_b403_0242ac1c0002row4_col6 {\n",
       "            background-color:  #6c8ff1;\n",
       "            color:  #000000;\n",
       "        }    #T_c23a289c_4477_11ea_b403_0242ac1c0002row4_col7 {\n",
       "            background-color:  #7b9ff9;\n",
       "            color:  #000000;\n",
       "        }    #T_c23a289c_4477_11ea_b403_0242ac1c0002row4_col8 {\n",
       "            background-color:  #6e90f2;\n",
       "            color:  #000000;\n",
       "        }    #T_c23a289c_4477_11ea_b403_0242ac1c0002row5_col0 {\n",
       "            background-color:  #4a63d3;\n",
       "            color:  #f1f1f1;\n",
       "        }    #T_c23a289c_4477_11ea_b403_0242ac1c0002row5_col1 {\n",
       "            background-color:  #5f7fe8;\n",
       "            color:  #000000;\n",
       "        }    #T_c23a289c_4477_11ea_b403_0242ac1c0002row5_col2 {\n",
       "            background-color:  #9bbcff;\n",
       "            color:  #000000;\n",
       "        }    #T_c23a289c_4477_11ea_b403_0242ac1c0002row5_col3 {\n",
       "            background-color:  #f2c9b4;\n",
       "            color:  #000000;\n",
       "        }    #T_c23a289c_4477_11ea_b403_0242ac1c0002row5_col4 {\n",
       "            background-color:  #6c8ff1;\n",
       "            color:  #000000;\n",
       "        }    #T_c23a289c_4477_11ea_b403_0242ac1c0002row5_col5 {\n",
       "            background-color:  #b40426;\n",
       "            color:  #f1f1f1;\n",
       "        }    #T_c23a289c_4477_11ea_b403_0242ac1c0002row5_col6 {\n",
       "            background-color:  #7597f6;\n",
       "            color:  #000000;\n",
       "        }    #T_c23a289c_4477_11ea_b403_0242ac1c0002row5_col7 {\n",
       "            background-color:  #3b4cc0;\n",
       "            color:  #f1f1f1;\n",
       "        }    #T_c23a289c_4477_11ea_b403_0242ac1c0002row5_col8 {\n",
       "            background-color:  #7295f4;\n",
       "            color:  #000000;\n",
       "        }    #T_c23a289c_4477_11ea_b403_0242ac1c0002row6_col0 {\n",
       "            background-color:  #3b4cc0;\n",
       "            color:  #f1f1f1;\n",
       "        }    #T_c23a289c_4477_11ea_b403_0242ac1c0002row6_col1 {\n",
       "            background-color:  #3d50c3;\n",
       "            color:  #f1f1f1;\n",
       "        }    #T_c23a289c_4477_11ea_b403_0242ac1c0002row6_col2 {\n",
       "            background-color:  #3b4cc0;\n",
       "            color:  #f1f1f1;\n",
       "        }    #T_c23a289c_4477_11ea_b403_0242ac1c0002row6_col3 {\n",
       "            background-color:  #3f53c6;\n",
       "            color:  #f1f1f1;\n",
       "        }    #T_c23a289c_4477_11ea_b403_0242ac1c0002row6_col4 {\n",
       "            background-color:  #4a63d3;\n",
       "            color:  #f1f1f1;\n",
       "        }    #T_c23a289c_4477_11ea_b403_0242ac1c0002row6_col5 {\n",
       "            background-color:  #6485ec;\n",
       "            color:  #000000;\n",
       "        }    #T_c23a289c_4477_11ea_b403_0242ac1c0002row6_col6 {\n",
       "            background-color:  #b40426;\n",
       "            color:  #f1f1f1;\n",
       "        }    #T_c23a289c_4477_11ea_b403_0242ac1c0002row6_col7 {\n",
       "            background-color:  #3d50c3;\n",
       "            color:  #f1f1f1;\n",
       "        }    #T_c23a289c_4477_11ea_b403_0242ac1c0002row6_col8 {\n",
       "            background-color:  #3c4ec2;\n",
       "            color:  #f1f1f1;\n",
       "        }    #T_c23a289c_4477_11ea_b403_0242ac1c0002row7_col0 {\n",
       "            background-color:  #ebd3c6;\n",
       "            color:  #000000;\n",
       "        }    #T_c23a289c_4477_11ea_b403_0242ac1c0002row7_col1 {\n",
       "            background-color:  #6c8ff1;\n",
       "            color:  #000000;\n",
       "        }    #T_c23a289c_4477_11ea_b403_0242ac1c0002row7_col2 {\n",
       "            background-color:  #a9c6fd;\n",
       "            color:  #000000;\n",
       "        }    #T_c23a289c_4477_11ea_b403_0242ac1c0002row7_col3 {\n",
       "            background-color:  #506bda;\n",
       "            color:  #000000;\n",
       "        }    #T_c23a289c_4477_11ea_b403_0242ac1c0002row7_col4 {\n",
       "            background-color:  #6a8bef;\n",
       "            color:  #000000;\n",
       "        }    #T_c23a289c_4477_11ea_b403_0242ac1c0002row7_col5 {\n",
       "            background-color:  #3c4ec2;\n",
       "            color:  #f1f1f1;\n",
       "        }    #T_c23a289c_4477_11ea_b403_0242ac1c0002row7_col6 {\n",
       "            background-color:  #4e68d8;\n",
       "            color:  #000000;\n",
       "        }    #T_c23a289c_4477_11ea_b403_0242ac1c0002row7_col7 {\n",
       "            background-color:  #b40426;\n",
       "            color:  #f1f1f1;\n",
       "        }    #T_c23a289c_4477_11ea_b403_0242ac1c0002row7_col8 {\n",
       "            background-color:  #536edd;\n",
       "            color:  #000000;\n",
       "        }    #T_c23a289c_4477_11ea_b403_0242ac1c0002row8_col0 {\n",
       "            background-color:  #8caffe;\n",
       "            color:  #000000;\n",
       "        }    #T_c23a289c_4477_11ea_b403_0242ac1c0002row8_col1 {\n",
       "            background-color:  #c6d6f1;\n",
       "            color:  #000000;\n",
       "        }    #T_c23a289c_4477_11ea_b403_0242ac1c0002row8_col2 {\n",
       "            background-color:  #7295f4;\n",
       "            color:  #000000;\n",
       "        }    #T_c23a289c_4477_11ea_b403_0242ac1c0002row8_col3 {\n",
       "            background-color:  #7396f5;\n",
       "            color:  #000000;\n",
       "        }    #T_c23a289c_4477_11ea_b403_0242ac1c0002row8_col4 {\n",
       "            background-color:  #89acfd;\n",
       "            color:  #000000;\n",
       "        }    #T_c23a289c_4477_11ea_b403_0242ac1c0002row8_col5 {\n",
       "            background-color:  #9ebeff;\n",
       "            color:  #000000;\n",
       "        }    #T_c23a289c_4477_11ea_b403_0242ac1c0002row8_col6 {\n",
       "            background-color:  #7b9ff9;\n",
       "            color:  #000000;\n",
       "        }    #T_c23a289c_4477_11ea_b403_0242ac1c0002row8_col7 {\n",
       "            background-color:  #81a4fb;\n",
       "            color:  #000000;\n",
       "        }    #T_c23a289c_4477_11ea_b403_0242ac1c0002row8_col8 {\n",
       "            background-color:  #b40426;\n",
       "            color:  #f1f1f1;\n",
       "        }</style><table id=\"T_c23a289c_4477_11ea_b403_0242ac1c0002\" ><thead>    <tr>        <th class=\"blank level0\" ></th>        <th class=\"col_heading level0 col0\" >Pregnancies</th>        <th class=\"col_heading level0 col1\" >Glucose</th>        <th class=\"col_heading level0 col2\" >BloodPressure</th>        <th class=\"col_heading level0 col3\" >SkinThickness</th>        <th class=\"col_heading level0 col4\" >Insulin</th>        <th class=\"col_heading level0 col5\" >BMI</th>        <th class=\"col_heading level0 col6\" >DiabetesPedigreeFunction</th>        <th class=\"col_heading level0 col7\" >Age</th>        <th class=\"col_heading level0 col8\" >Outcome</th>    </tr></thead><tbody>\n",
       "                <tr>\n",
       "                        <th id=\"T_c23a289c_4477_11ea_b403_0242ac1c0002level0_row0\" class=\"row_heading level0 row0\" >Pregnancies</th>\n",
       "                        <td id=\"T_c23a289c_4477_11ea_b403_0242ac1c0002row0_col0\" class=\"data row0 col0\" >1</td>\n",
       "                        <td id=\"T_c23a289c_4477_11ea_b403_0242ac1c0002row0_col1\" class=\"data row0 col1\" >0.128135</td>\n",
       "                        <td id=\"T_c23a289c_4477_11ea_b403_0242ac1c0002row0_col2\" class=\"data row0 col2\" >0.214178</td>\n",
       "                        <td id=\"T_c23a289c_4477_11ea_b403_0242ac1c0002row0_col3\" class=\"data row0 col3\" >0.100239</td>\n",
       "                        <td id=\"T_c23a289c_4477_11ea_b403_0242ac1c0002row0_col4\" class=\"data row0 col4\" >0.082171</td>\n",
       "                        <td id=\"T_c23a289c_4477_11ea_b403_0242ac1c0002row0_col5\" class=\"data row0 col5\" >0.0217189</td>\n",
       "                        <td id=\"T_c23a289c_4477_11ea_b403_0242ac1c0002row0_col6\" class=\"data row0 col6\" >-0.0335227</td>\n",
       "                        <td id=\"T_c23a289c_4477_11ea_b403_0242ac1c0002row0_col7\" class=\"data row0 col7\" >0.544341</td>\n",
       "                        <td id=\"T_c23a289c_4477_11ea_b403_0242ac1c0002row0_col8\" class=\"data row0 col8\" >0.221898</td>\n",
       "            </tr>\n",
       "            <tr>\n",
       "                        <th id=\"T_c23a289c_4477_11ea_b403_0242ac1c0002level0_row1\" class=\"row_heading level0 row1\" >Glucose</th>\n",
       "                        <td id=\"T_c23a289c_4477_11ea_b403_0242ac1c0002row1_col0\" class=\"data row1 col0\" >0.128135</td>\n",
       "                        <td id=\"T_c23a289c_4477_11ea_b403_0242ac1c0002row1_col1\" class=\"data row1 col1\" >1</td>\n",
       "                        <td id=\"T_c23a289c_4477_11ea_b403_0242ac1c0002row1_col2\" class=\"data row1 col2\" >0.223192</td>\n",
       "                        <td id=\"T_c23a289c_4477_11ea_b403_0242ac1c0002row1_col3\" class=\"data row1 col3\" >0.228043</td>\n",
       "                        <td id=\"T_c23a289c_4477_11ea_b403_0242ac1c0002row1_col4\" class=\"data row1 col4\" >0.581186</td>\n",
       "                        <td id=\"T_c23a289c_4477_11ea_b403_0242ac1c0002row1_col5\" class=\"data row1 col5\" >0.232771</td>\n",
       "                        <td id=\"T_c23a289c_4477_11ea_b403_0242ac1c0002row1_col6\" class=\"data row1 col6\" >0.137246</td>\n",
       "                        <td id=\"T_c23a289c_4477_11ea_b403_0242ac1c0002row1_col7\" class=\"data row1 col7\" >0.267136</td>\n",
       "                        <td id=\"T_c23a289c_4477_11ea_b403_0242ac1c0002row1_col8\" class=\"data row1 col8\" >0.49465</td>\n",
       "            </tr>\n",
       "            <tr>\n",
       "                        <th id=\"T_c23a289c_4477_11ea_b403_0242ac1c0002level0_row2\" class=\"row_heading level0 row2\" >BloodPressure</th>\n",
       "                        <td id=\"T_c23a289c_4477_11ea_b403_0242ac1c0002row2_col0\" class=\"data row2 col0\" >0.214178</td>\n",
       "                        <td id=\"T_c23a289c_4477_11ea_b403_0242ac1c0002row2_col1\" class=\"data row2 col1\" >0.223192</td>\n",
       "                        <td id=\"T_c23a289c_4477_11ea_b403_0242ac1c0002row2_col2\" class=\"data row2 col2\" >1</td>\n",
       "                        <td id=\"T_c23a289c_4477_11ea_b403_0242ac1c0002row2_col3\" class=\"data row2 col3\" >0.226839</td>\n",
       "                        <td id=\"T_c23a289c_4477_11ea_b403_0242ac1c0002row2_col4\" class=\"data row2 col4\" >0.0982723</td>\n",
       "                        <td id=\"T_c23a289c_4477_11ea_b403_0242ac1c0002row2_col5\" class=\"data row2 col5\" >0.28923</td>\n",
       "                        <td id=\"T_c23a289c_4477_11ea_b403_0242ac1c0002row2_col6\" class=\"data row2 col6\" >-0.00280453</td>\n",
       "                        <td id=\"T_c23a289c_4477_11ea_b403_0242ac1c0002row2_col7\" class=\"data row2 col7\" >0.330107</td>\n",
       "                        <td id=\"T_c23a289c_4477_11ea_b403_0242ac1c0002row2_col8\" class=\"data row2 col8\" >0.170589</td>\n",
       "            </tr>\n",
       "            <tr>\n",
       "                        <th id=\"T_c23a289c_4477_11ea_b403_0242ac1c0002level0_row3\" class=\"row_heading level0 row3\" >SkinThickness</th>\n",
       "                        <td id=\"T_c23a289c_4477_11ea_b403_0242ac1c0002row3_col0\" class=\"data row3 col0\" >0.100239</td>\n",
       "                        <td id=\"T_c23a289c_4477_11ea_b403_0242ac1c0002row3_col1\" class=\"data row3 col1\" >0.228043</td>\n",
       "                        <td id=\"T_c23a289c_4477_11ea_b403_0242ac1c0002row3_col2\" class=\"data row3 col2\" >0.226839</td>\n",
       "                        <td id=\"T_c23a289c_4477_11ea_b403_0242ac1c0002row3_col3\" class=\"data row3 col3\" >1</td>\n",
       "                        <td id=\"T_c23a289c_4477_11ea_b403_0242ac1c0002row3_col4\" class=\"data row3 col4\" >0.184888</td>\n",
       "                        <td id=\"T_c23a289c_4477_11ea_b403_0242ac1c0002row3_col5\" class=\"data row3 col5\" >0.648214</td>\n",
       "                        <td id=\"T_c23a289c_4477_11ea_b403_0242ac1c0002row3_col6\" class=\"data row3 col6\" >0.115016</td>\n",
       "                        <td id=\"T_c23a289c_4477_11ea_b403_0242ac1c0002row3_col7\" class=\"data row3 col7\" >0.166816</td>\n",
       "                        <td id=\"T_c23a289c_4477_11ea_b403_0242ac1c0002row3_col8\" class=\"data row3 col8\" >0.259491</td>\n",
       "            </tr>\n",
       "            <tr>\n",
       "                        <th id=\"T_c23a289c_4477_11ea_b403_0242ac1c0002level0_row4\" class=\"row_heading level0 row4\" >Insulin</th>\n",
       "                        <td id=\"T_c23a289c_4477_11ea_b403_0242ac1c0002row4_col0\" class=\"data row4 col0\" >0.082171</td>\n",
       "                        <td id=\"T_c23a289c_4477_11ea_b403_0242ac1c0002row4_col1\" class=\"data row4 col1\" >0.581186</td>\n",
       "                        <td id=\"T_c23a289c_4477_11ea_b403_0242ac1c0002row4_col2\" class=\"data row4 col2\" >0.0982723</td>\n",
       "                        <td id=\"T_c23a289c_4477_11ea_b403_0242ac1c0002row4_col3\" class=\"data row4 col3\" >0.184888</td>\n",
       "                        <td id=\"T_c23a289c_4477_11ea_b403_0242ac1c0002row4_col4\" class=\"data row4 col4\" >1</td>\n",
       "                        <td id=\"T_c23a289c_4477_11ea_b403_0242ac1c0002row4_col5\" class=\"data row4 col5\" >0.22805</td>\n",
       "                        <td id=\"T_c23a289c_4477_11ea_b403_0242ac1c0002row4_col6\" class=\"data row4 col6\" >0.130395</td>\n",
       "                        <td id=\"T_c23a289c_4477_11ea_b403_0242ac1c0002row4_col7\" class=\"data row4 col7\" >0.220261</td>\n",
       "                        <td id=\"T_c23a289c_4477_11ea_b403_0242ac1c0002row4_col8\" class=\"data row4 col8\" >0.303454</td>\n",
       "            </tr>\n",
       "            <tr>\n",
       "                        <th id=\"T_c23a289c_4477_11ea_b403_0242ac1c0002level0_row5\" class=\"row_heading level0 row5\" >BMI</th>\n",
       "                        <td id=\"T_c23a289c_4477_11ea_b403_0242ac1c0002row5_col0\" class=\"data row5 col0\" >0.0217189</td>\n",
       "                        <td id=\"T_c23a289c_4477_11ea_b403_0242ac1c0002row5_col1\" class=\"data row5 col1\" >0.232771</td>\n",
       "                        <td id=\"T_c23a289c_4477_11ea_b403_0242ac1c0002row5_col2\" class=\"data row5 col2\" >0.28923</td>\n",
       "                        <td id=\"T_c23a289c_4477_11ea_b403_0242ac1c0002row5_col3\" class=\"data row5 col3\" >0.648214</td>\n",
       "                        <td id=\"T_c23a289c_4477_11ea_b403_0242ac1c0002row5_col4\" class=\"data row5 col4\" >0.22805</td>\n",
       "                        <td id=\"T_c23a289c_4477_11ea_b403_0242ac1c0002row5_col5\" class=\"data row5 col5\" >1</td>\n",
       "                        <td id=\"T_c23a289c_4477_11ea_b403_0242ac1c0002row5_col6\" class=\"data row5 col6\" >0.155382</td>\n",
       "                        <td id=\"T_c23a289c_4477_11ea_b403_0242ac1c0002row5_col7\" class=\"data row5 col7\" >0.0258415</td>\n",
       "                        <td id=\"T_c23a289c_4477_11ea_b403_0242ac1c0002row5_col8\" class=\"data row5 col8\" >0.31368</td>\n",
       "            </tr>\n",
       "            <tr>\n",
       "                        <th id=\"T_c23a289c_4477_11ea_b403_0242ac1c0002level0_row6\" class=\"row_heading level0 row6\" >DiabetesPedigreeFunction</th>\n",
       "                        <td id=\"T_c23a289c_4477_11ea_b403_0242ac1c0002row6_col0\" class=\"data row6 col0\" >-0.0335227</td>\n",
       "                        <td id=\"T_c23a289c_4477_11ea_b403_0242ac1c0002row6_col1\" class=\"data row6 col1\" >0.137246</td>\n",
       "                        <td id=\"T_c23a289c_4477_11ea_b403_0242ac1c0002row6_col2\" class=\"data row6 col2\" >-0.00280453</td>\n",
       "                        <td id=\"T_c23a289c_4477_11ea_b403_0242ac1c0002row6_col3\" class=\"data row6 col3\" >0.115016</td>\n",
       "                        <td id=\"T_c23a289c_4477_11ea_b403_0242ac1c0002row6_col4\" class=\"data row6 col4\" >0.130395</td>\n",
       "                        <td id=\"T_c23a289c_4477_11ea_b403_0242ac1c0002row6_col5\" class=\"data row6 col5\" >0.155382</td>\n",
       "                        <td id=\"T_c23a289c_4477_11ea_b403_0242ac1c0002row6_col6\" class=\"data row6 col6\" >1</td>\n",
       "                        <td id=\"T_c23a289c_4477_11ea_b403_0242ac1c0002row6_col7\" class=\"data row6 col7\" >0.0335613</td>\n",
       "                        <td id=\"T_c23a289c_4477_11ea_b403_0242ac1c0002row6_col8\" class=\"data row6 col8\" >0.173844</td>\n",
       "            </tr>\n",
       "            <tr>\n",
       "                        <th id=\"T_c23a289c_4477_11ea_b403_0242ac1c0002level0_row7\" class=\"row_heading level0 row7\" >Age</th>\n",
       "                        <td id=\"T_c23a289c_4477_11ea_b403_0242ac1c0002row7_col0\" class=\"data row7 col0\" >0.544341</td>\n",
       "                        <td id=\"T_c23a289c_4477_11ea_b403_0242ac1c0002row7_col1\" class=\"data row7 col1\" >0.267136</td>\n",
       "                        <td id=\"T_c23a289c_4477_11ea_b403_0242ac1c0002row7_col2\" class=\"data row7 col2\" >0.330107</td>\n",
       "                        <td id=\"T_c23a289c_4477_11ea_b403_0242ac1c0002row7_col3\" class=\"data row7 col3\" >0.166816</td>\n",
       "                        <td id=\"T_c23a289c_4477_11ea_b403_0242ac1c0002row7_col4\" class=\"data row7 col4\" >0.220261</td>\n",
       "                        <td id=\"T_c23a289c_4477_11ea_b403_0242ac1c0002row7_col5\" class=\"data row7 col5\" >0.0258415</td>\n",
       "                        <td id=\"T_c23a289c_4477_11ea_b403_0242ac1c0002row7_col6\" class=\"data row7 col6\" >0.0335613</td>\n",
       "                        <td id=\"T_c23a289c_4477_11ea_b403_0242ac1c0002row7_col7\" class=\"data row7 col7\" >1</td>\n",
       "                        <td id=\"T_c23a289c_4477_11ea_b403_0242ac1c0002row7_col8\" class=\"data row7 col8\" >0.238356</td>\n",
       "            </tr>\n",
       "            <tr>\n",
       "                        <th id=\"T_c23a289c_4477_11ea_b403_0242ac1c0002level0_row8\" class=\"row_heading level0 row8\" >Outcome</th>\n",
       "                        <td id=\"T_c23a289c_4477_11ea_b403_0242ac1c0002row8_col0\" class=\"data row8 col0\" >0.221898</td>\n",
       "                        <td id=\"T_c23a289c_4477_11ea_b403_0242ac1c0002row8_col1\" class=\"data row8 col1\" >0.49465</td>\n",
       "                        <td id=\"T_c23a289c_4477_11ea_b403_0242ac1c0002row8_col2\" class=\"data row8 col2\" >0.170589</td>\n",
       "                        <td id=\"T_c23a289c_4477_11ea_b403_0242ac1c0002row8_col3\" class=\"data row8 col3\" >0.259491</td>\n",
       "                        <td id=\"T_c23a289c_4477_11ea_b403_0242ac1c0002row8_col4\" class=\"data row8 col4\" >0.303454</td>\n",
       "                        <td id=\"T_c23a289c_4477_11ea_b403_0242ac1c0002row8_col5\" class=\"data row8 col5\" >0.31368</td>\n",
       "                        <td id=\"T_c23a289c_4477_11ea_b403_0242ac1c0002row8_col6\" class=\"data row8 col6\" >0.173844</td>\n",
       "                        <td id=\"T_c23a289c_4477_11ea_b403_0242ac1c0002row8_col7\" class=\"data row8 col7\" >0.238356</td>\n",
       "                        <td id=\"T_c23a289c_4477_11ea_b403_0242ac1c0002row8_col8\" class=\"data row8 col8\" >1</td>\n",
       "            </tr>\n",
       "    </tbody></table>"
      ],
      "text/plain": [
       "<pandas.io.formats.style.Styler at 0x7fa55051bb38>"
      ]
     },
     "execution_count": 11,
     "metadata": {
      "tags": []
     },
     "output_type": "execute_result"
    }
   ],
   "source": [
    " # one line of code\n",
    "crr.style.background_gradient(cmap='coolwarm')"
   ]
  },
  {
   "cell_type": "markdown",
   "metadata": {
    "colab_type": "text",
    "id": "GfdmngILc5wx"
   },
   "source": [
    "The red a cell, the more correlation there is. What are the features (variables) that are most related to the outcome (diabetes)?\n",
    "\n"
   ]
  },
  {
   "cell_type": "markdown",
   "metadata": {
    "colab_type": "text",
    "id": "WO2bGGEMoFQg"
   },
   "source": [
    " Write here all the relevant information you detect in the table above:"
   ]
  },
  {
   "cell_type": "markdown",
   "metadata": {
    "colab_type": "text",
    "id": "Wv8f9Dr7GTzp"
   },
   "source": [
    "**Clean dataset**\n",
    "\n",
    "  To clean up the dataset, we can substitute null values ​​with a more representative value. \n",
    "\n",
    " We calculate the median insulin level for diabetics and non-diabetics\n",
    "\n",
    "*   Explain why you think the following code should apply\n",
    "*   What could be used to improve the data instead of the median? Write here:\n",
    "\n"
   ]
  },
  {
   "cell_type": "code",
   "execution_count": 0,
   "metadata": {
    "colab": {
     "base_uri": "https://localhost:8080/",
     "height": 136
    },
    "colab_type": "code",
    "id": "0treiHjLji7T",
    "outputId": "fe0b9cc1-df38-40cf-9759-73d1e71ecabe"
   },
   "outputs": [
    {
     "data": {
      "text/html": [
       "<div>\n",
       "<style scoped>\n",
       "    .dataframe tbody tr th:only-of-type {\n",
       "        vertical-align: middle;\n",
       "    }\n",
       "\n",
       "    .dataframe tbody tr th {\n",
       "        vertical-align: top;\n",
       "    }\n",
       "\n",
       "    .dataframe thead th {\n",
       "        text-align: right;\n",
       "    }\n",
       "</style>\n",
       "<table border=\"1\" class=\"dataframe\">\n",
       "  <thead>\n",
       "    <tr style=\"text-align: right;\">\n",
       "      <th></th>\n",
       "      <th>Insulin</th>\n",
       "    </tr>\n",
       "    <tr>\n",
       "      <th>Outcome</th>\n",
       "      <th></th>\n",
       "    </tr>\n",
       "  </thead>\n",
       "  <tbody>\n",
       "    <tr>\n",
       "      <th>0</th>\n",
       "      <td>102.5</td>\n",
       "    </tr>\n",
       "    <tr>\n",
       "      <th>1</th>\n",
       "      <td>169.5</td>\n",
       "    </tr>\n",
       "  </tbody>\n",
       "</table>\n",
       "</div>"
      ],
      "text/plain": [
       "         Insulin\n",
       "Outcome         \n",
       "0          102.5\n",
       "1          169.5"
      ]
     },
     "execution_count": 9,
     "metadata": {
      "tags": []
     },
     "output_type": "execute_result"
    }
   ],
   "source": [
    "df[[\"Insulin\",\"Outcome\"]].groupby([\"Outcome\"])[[\"Insulin\"]].median()"
   ]
  },
  {
   "cell_type": "markdown",
   "metadata": {
    "colab_type": "text",
    "id": "h3gC7_EmGt6y"
   },
   "source": [
    "We are going to replace the null values ​​of insulin by the medians:\n",
    "\n",
    "**102.5** will be the new insulin value for people without diabetes.\n",
    "\n",
    "**169.5** It will be the new insulin value for people with diabetes.\n",
    "\n",
    "\n"
   ]
  },
  {
   "cell_type": "code",
   "execution_count": 0,
   "metadata": {
    "colab": {},
    "colab_type": "code",
    "id": "aGNncpzmji7b"
   },
   "outputs": [],
   "source": [
    "df.loc[(df[\"Outcome\"] == 0) & (df[\"Insulin\"].isnull()),\"Insulin\"] = 102.5"
   ]
  },
  {
   "cell_type": "code",
   "execution_count": 0,
   "metadata": {
    "colab": {},
    "colab_type": "code",
    "id": "7-CvGCV5ji7j"
   },
   "outputs": [],
   "source": [
    "df.loc[(df[\"Outcome\"] == 1) & (df[\"Insulin\"].isnull()),\"Insulin\"] = 169.5"
   ]
  },
  {
   "cell_type": "markdown",
   "metadata": {
    "colab_type": "text",
    "id": "Iq5N6QYbI9Mw"
   },
   "source": [
    "Done. Now you try!\n"
   ]
  },
  {
   "cell_type": "markdown",
   "metadata": {
    "colab_type": "text",
    "id": "LNSO1JPmYf8K"
   },
   "source": [
    "6. Calculate the median glucose.\n",
    "\n",
    "\n",
    "---"
   ]
  },
  {
   "cell_type": "code",
   "execution_count": 0,
   "metadata": {
    "colab": {
     "base_uri": "https://localhost:8080/",
     "height": 142
    },
    "colab_type": "code",
    "id": "swWKBgGGji7r",
    "outputId": "23191c26-4c73-4bf3-9cf0-f1119f8962a4"
   },
   "outputs": [
    {
     "data": {
      "text/html": [
       "<div>\n",
       "<style scoped>\n",
       "    .dataframe tbody tr th:only-of-type {\n",
       "        vertical-align: middle;\n",
       "    }\n",
       "\n",
       "    .dataframe tbody tr th {\n",
       "        vertical-align: top;\n",
       "    }\n",
       "\n",
       "    .dataframe thead th {\n",
       "        text-align: right;\n",
       "    }\n",
       "</style>\n",
       "<table border=\"1\" class=\"dataframe\">\n",
       "  <thead>\n",
       "    <tr style=\"text-align: right;\">\n",
       "      <th></th>\n",
       "      <th>Glucose</th>\n",
       "    </tr>\n",
       "    <tr>\n",
       "      <th>Outcome</th>\n",
       "      <th></th>\n",
       "    </tr>\n",
       "  </thead>\n",
       "  <tbody>\n",
       "    <tr>\n",
       "      <th>0</th>\n",
       "      <td>107.0</td>\n",
       "    </tr>\n",
       "    <tr>\n",
       "      <th>1</th>\n",
       "      <td>140.0</td>\n",
       "    </tr>\n",
       "  </tbody>\n",
       "</table>\n",
       "</div>"
      ],
      "text/plain": [
       "         Glucose\n",
       "Outcome         \n",
       "0          107.0\n",
       "1          140.0"
      ]
     },
     "execution_count": 14,
     "metadata": {
      "tags": []
     },
     "output_type": "execute_result"
    }
   ],
   "source": [
    "# one line of code\n"
   ]
  },
  {
   "cell_type": "markdown",
   "metadata": {
    "colab_type": "text",
    "id": "hY7mzsPsJ07t"
   },
   "source": [
    "7. Now, use those values ​​to substitute nulls for glucose levels.\n",
    "---\n"
   ]
  },
  {
   "cell_type": "code",
   "execution_count": 0,
   "metadata": {
    "colab": {},
    "colab_type": "code",
    "id": "gz8KoB9BJ1Sd"
   },
   "outputs": [],
   "source": [
    "#two lines of code\n"
   ]
  },
  {
   "cell_type": "markdown",
   "metadata": {
    "colab_type": "text",
    "id": "pw6A1cAEKKCn"
   },
   "source": [
    "8. Can you repeat the same process for SkinThickness, BloodPressure and BMI?\n",
    "---"
   ]
  },
  {
   "cell_type": "markdown",
   "metadata": {
    "colab_type": "text",
    "id": "vDL0qIunMNUD"
   },
   "source": [
    "#####SkinThickness"
   ]
  },
  {
   "cell_type": "code",
   "execution_count": 0,
   "metadata": {
    "colab": {
     "base_uri": "https://localhost:8080/",
     "height": 142
    },
    "colab_type": "code",
    "id": "YJyTWZy3ji8A",
    "outputId": "965325a1-c8f9-4a73-8f04-f4c008b669d5"
   },
   "outputs": [
    {
     "data": {
      "text/html": [
       "<div>\n",
       "<style scoped>\n",
       "    .dataframe tbody tr th:only-of-type {\n",
       "        vertical-align: middle;\n",
       "    }\n",
       "\n",
       "    .dataframe tbody tr th {\n",
       "        vertical-align: top;\n",
       "    }\n",
       "\n",
       "    .dataframe thead th {\n",
       "        text-align: right;\n",
       "    }\n",
       "</style>\n",
       "<table border=\"1\" class=\"dataframe\">\n",
       "  <thead>\n",
       "    <tr style=\"text-align: right;\">\n",
       "      <th></th>\n",
       "      <th>SkinThickness</th>\n",
       "    </tr>\n",
       "    <tr>\n",
       "      <th>Outcome</th>\n",
       "      <th></th>\n",
       "    </tr>\n",
       "  </thead>\n",
       "  <tbody>\n",
       "    <tr>\n",
       "      <th>0</th>\n",
       "      <td>27.0</td>\n",
       "    </tr>\n",
       "    <tr>\n",
       "      <th>1</th>\n",
       "      <td>32.0</td>\n",
       "    </tr>\n",
       "  </tbody>\n",
       "</table>\n",
       "</div>"
      ],
      "text/plain": [
       "         SkinThickness\n",
       "Outcome               \n",
       "0                 27.0\n",
       "1                 32.0"
      ]
     },
     "execution_count": 17,
     "metadata": {
      "tags": []
     },
     "output_type": "execute_result"
    }
   ],
   "source": [
    "# one line of code\n"
   ]
  },
  {
   "cell_type": "code",
   "execution_count": 0,
   "metadata": {
    "colab": {},
    "colab_type": "code",
    "id": "WCga0SVlji8J"
   },
   "outputs": [],
   "source": [
    "#two lines of code\n"
   ]
  },
  {
   "cell_type": "markdown",
   "metadata": {
    "colab_type": "text",
    "id": "qixBtGWNMWKM"
   },
   "source": [
    "#####BloodPressure"
   ]
  },
  {
   "cell_type": "code",
   "execution_count": 0,
   "metadata": {
    "colab": {
     "base_uri": "https://localhost:8080/",
     "height": 142
    },
    "colab_type": "code",
    "id": "SLiEm54Yji8R",
    "outputId": "9ee7006f-f4ff-4071-a74d-c3a8b82e3f62"
   },
   "outputs": [
    {
     "data": {
      "text/html": [
       "<div>\n",
       "<style scoped>\n",
       "    .dataframe tbody tr th:only-of-type {\n",
       "        vertical-align: middle;\n",
       "    }\n",
       "\n",
       "    .dataframe tbody tr th {\n",
       "        vertical-align: top;\n",
       "    }\n",
       "\n",
       "    .dataframe thead th {\n",
       "        text-align: right;\n",
       "    }\n",
       "</style>\n",
       "<table border=\"1\" class=\"dataframe\">\n",
       "  <thead>\n",
       "    <tr style=\"text-align: right;\">\n",
       "      <th></th>\n",
       "      <th>BloodPressure</th>\n",
       "    </tr>\n",
       "    <tr>\n",
       "      <th>Outcome</th>\n",
       "      <th></th>\n",
       "    </tr>\n",
       "  </thead>\n",
       "  <tbody>\n",
       "    <tr>\n",
       "      <th>0</th>\n",
       "      <td>70.0</td>\n",
       "    </tr>\n",
       "    <tr>\n",
       "      <th>1</th>\n",
       "      <td>74.5</td>\n",
       "    </tr>\n",
       "  </tbody>\n",
       "</table>\n",
       "</div>"
      ],
      "text/plain": [
       "         BloodPressure\n",
       "Outcome               \n",
       "0                 70.0\n",
       "1                 74.5"
      ]
     },
     "execution_count": 19,
     "metadata": {
      "tags": []
     },
     "output_type": "execute_result"
    }
   ],
   "source": [
    "# one line of code\n"
   ]
  },
  {
   "cell_type": "code",
   "execution_count": 0,
   "metadata": {
    "colab": {},
    "colab_type": "code",
    "id": "ehCQquVAji8Y"
   },
   "outputs": [],
   "source": [
    "#two lines of code\n"
   ]
  },
  {
   "cell_type": "markdown",
   "metadata": {
    "colab_type": "text",
    "id": "5ZNe_UHvMev5"
   },
   "source": [
    "#####BMI"
   ]
  },
  {
   "cell_type": "code",
   "execution_count": 0,
   "metadata": {
    "colab": {
     "base_uri": "https://localhost:8080/",
     "height": 142
    },
    "colab_type": "code",
    "id": "G9MXqXU-ji8f",
    "outputId": "a0558fac-2df1-4aa9-f5a2-9c1f1a69d6ee"
   },
   "outputs": [
    {
     "data": {
      "text/html": [
       "<div>\n",
       "<style scoped>\n",
       "    .dataframe tbody tr th:only-of-type {\n",
       "        vertical-align: middle;\n",
       "    }\n",
       "\n",
       "    .dataframe tbody tr th {\n",
       "        vertical-align: top;\n",
       "    }\n",
       "\n",
       "    .dataframe thead th {\n",
       "        text-align: right;\n",
       "    }\n",
       "</style>\n",
       "<table border=\"1\" class=\"dataframe\">\n",
       "  <thead>\n",
       "    <tr style=\"text-align: right;\">\n",
       "      <th></th>\n",
       "      <th>BMI</th>\n",
       "    </tr>\n",
       "    <tr>\n",
       "      <th>Outcome</th>\n",
       "      <th></th>\n",
       "    </tr>\n",
       "  </thead>\n",
       "  <tbody>\n",
       "    <tr>\n",
       "      <th>0</th>\n",
       "      <td>30.1</td>\n",
       "    </tr>\n",
       "    <tr>\n",
       "      <th>1</th>\n",
       "      <td>34.3</td>\n",
       "    </tr>\n",
       "  </tbody>\n",
       "</table>\n",
       "</div>"
      ],
      "text/plain": [
       "          BMI\n",
       "Outcome      \n",
       "0        30.1\n",
       "1        34.3"
      ]
     },
     "execution_count": 21,
     "metadata": {
      "tags": []
     },
     "output_type": "execute_result"
    }
   ],
   "source": [
    "# one line of code\n"
   ]
  },
  {
   "cell_type": "code",
   "execution_count": 0,
   "metadata": {
    "colab": {},
    "colab_type": "code",
    "id": "6cdhJx_Zji8m"
   },
   "outputs": [],
   "source": [
    "#two lines of code\n"
   ]
  },
  {
   "cell_type": "markdown",
   "metadata": {
    "colab_type": "text",
    "id": "B26HREKUKngl"
   },
   "source": [
    "Good job! \n",
    "\n",
    "Shows how many nulls are in each feature.\n",
    "\n",
    "*   Explain what this means for the model\n"
   ]
  },
  {
   "cell_type": "code",
   "execution_count": 0,
   "metadata": {
    "colab": {
     "base_uri": "https://localhost:8080/",
     "height": 187
    },
    "colab_type": "code",
    "id": "ogFlqzCgji8s",
    "outputId": "680435cf-7760-45d6-845f-f72a94693f1c"
   },
   "outputs": [
    {
     "data": {
      "text/plain": [
       "Pregnancies                 0\n",
       "Glucose                     0\n",
       "BloodPressure               0\n",
       "SkinThickness               0\n",
       "Insulin                     0\n",
       "BMI                         0\n",
       "DiabetesPedigreeFunction    0\n",
       "Age                         0\n",
       "Outcome                     0\n",
       "dtype: int64"
      ]
     },
     "execution_count": 23,
     "metadata": {
      "tags": []
     },
     "output_type": "execute_result"
    }
   ],
   "source": [
    "df.isnull().sum()"
   ]
  },
  {
   "cell_type": "markdown",
   "metadata": {
    "colab_type": "text",
    "id": "e1ad-qSwKhg0"
   },
   "source": [
    "### Represent and analyze dataset information"
   ]
  },
  {
   "cell_type": "markdown",
   "metadata": {
    "colab_type": "text",
    "id": "LKGKNc-IcBnA"
   },
   "source": [
    "We will visually represent the data so that:\n",
    "- Each point symbolizes a person\n",
    "- A dot is yellow if the person is diabetic, and blue if it is not.\n",
    "- The x and y axes represent two variables that we want to compare\n"
   ]
  },
  {
   "cell_type": "markdown",
   "metadata": {
    "colab_type": "text",
    "id": "5aPtPl6_Ta0j"
   },
   "source": [
    "Auxiliary function to represent graphs of dataset values"
   ]
  },
  {
   "cell_type": "code",
   "execution_count": 0,
   "metadata": {
    "colab": {},
    "colab_type": "code",
    "id": "u521RxkrRWFm"
   },
   "outputs": [],
   "source": [
    "# AUXILIARY FUNCTION; DO NOT MODIFY, JUST EXECUTE\n",
    "import plotly.offline as py\n",
    "import plotly.graph_objs as go\n",
    "\n",
    "def plot_feat1_feat2(feat1, feat2) :  \n",
    "    D = df[(df['Outcome'] != 0)]\n",
    "    H = df[(df['Outcome'] == 0)]\n",
    "    trace0 = go.Scatter(x = D[feat1],  y = D[feat2],  name = 'diabetic',  mode = 'markers',  marker = dict(color = '#FFD700', line = dict(width = 1)))\n",
    "    trace1 = go.Scatter(x = H[feat1],y = H[feat2], name='healthy', mode='markers', marker = dict(color = '#7EC0EE', line = dict(width = 1)))\n",
    "    layout = dict(title = feat1 +\" \"+\"vs\"+\" \"+ feat2, yaxis = dict(title = feat2,zeroline = False),  xaxis = dict(title = feat1, zeroline = False))\n",
    "    plots = [trace0, trace1]\n",
    "    fig = dict(data = plots, layout=layout)\n",
    "    py.iplot(fig)"
   ]
  },
  {
   "cell_type": "markdown",
   "metadata": {
    "colab_type": "text",
    "id": "IHGroudopm4a"
   },
   "source": [
    "Try to explain what happens in the auxiliary function here:"
   ]
  },
  {
   "cell_type": "markdown",
   "metadata": {
    "colab_type": "text",
    "id": "hHcu0mtrMu8J"
   },
   "source": [
    "Example to represent Information of \"2 columns\" vs \"the one that we are interested in solving\""
   ]
  },
  {
   "cell_type": "code",
   "execution_count": 0,
   "metadata": {
    "colab": {},
    "colab_type": "code",
    "id": "vAzpWBxlPIdZ"
   },
   "outputs": [],
   "source": [
    "# Representation can be achieved with the following code:\n",
    "# plot_feat1_feat2 ('ColumnName1', 'ColumnName2')"
   ]
  },
  {
   "cell_type": "markdown",
   "metadata": {
    "colab_type": "text",
    "id": "hFygCuOwPKjH"
   },
   "source": [
    "9. Graphically represents the relationship between 'Glucose' and 'Age'\n",
    "---"
   ]
  },
  {
   "cell_type": "code",
   "execution_count": 0,
   "metadata": {
    "colab": {
     "base_uri": "https://localhost:8080/",
     "height": 542
    },
    "colab_type": "code",
    "id": "5s0r2YYYji80",
    "outputId": "ae2abfe7-969b-44ef-a59e-098a7f8fdb99"
   },
   "outputs": [
    {
     "data": {
      "text/html": [
       "<html>\n",
       "<head><meta charset=\"utf-8\" /></head>\n",
       "<body>\n",
       "    <div>\n",
       "            <script src=\"https://cdnjs.cloudflare.com/ajax/libs/mathjax/2.7.5/MathJax.js?config=TeX-AMS-MML_SVG\"></script><script type=\"text/javascript\">if (window.MathJax) {MathJax.Hub.Config({SVG: {font: \"STIX-Web\"}});}</script>\n",
       "                <script type=\"text/javascript\">window.PlotlyConfig = {MathJaxConfig: 'local'};</script>\n",
       "        <script src=\"https://cdn.plot.ly/plotly-latest.min.js\"></script>    \n",
       "            <div id=\"79cd5fcf-07a7-4b58-b705-543970b41b87\" class=\"plotly-graph-div\" style=\"height:525px; width:100%;\"></div>\n",
       "            <script type=\"text/javascript\">\n",
       "                \n",
       "                    window.PLOTLYENV=window.PLOTLYENV || {};\n",
       "                    \n",
       "                if (document.getElementById(\"79cd5fcf-07a7-4b58-b705-543970b41b87\")) {\n",
       "                    Plotly.newPlot(\n",
       "                        '79cd5fcf-07a7-4b58-b705-543970b41b87',\n",
       "                        [{\"marker\": {\"color\": \"#FFD700\", \"line\": {\"width\": 1}}, \"mode\": \"markers\", \"name\": \"diabetic\", \"type\": \"scatter\", \"x\": [148, 183, 137, 78, 197, 125, 168, 189, 166, 100, 118, 107, 115, 196, 119, 143, 125, 147, 158, 102, 90, 111, 171, 180, 103, 176, 187, 133, 114, 109, 100, 126, 131, 137, 136, 134, 122, 163, 95, 171, 155, 160, 146, 124, 162, 113, 88, 117, 105, 173, 122, 170, 108, 156, 188, 152, 163, 131, 104, 102, 134, 179, 129, 130, 194, 181, 128, 109, 139, 159, 135, 158, 107, 109, 148, 196, 162, 184, 140, 112, 151, 109, 85, 112, 177, 158, 162, 142, 134, 171, 181, 179, 164, 139, 119, 184, 92, 113, 155, 141, 123, 138, 146, 101, 106, 146, 161, 108, 119, 107, 128, 128, 146, 100, 167, 144, 115, 161, 128, 124, 155, 109, 182, 194, 112, 124, 152, 122, 102, 180, 115, 152, 178, 0, 165, 125, 129, 196, 189, 146, 124, 133, 173, 140, 156, 116, 105, 144, 166, 158, 131, 193, 95, 136, 168, 115, 197, 172, 138, 173, 144, 129, 151, 184, 181, 95, 141, 189, 108, 117, 180, 104, 134, 175, 148, 120, 105, 158, 145, 135, 125, 195, 0, 180, 84, 163, 145, 130, 132, 129, 100, 128, 90, 186, 187, 125, 198, 121, 118, 197, 151, 124, 143, 176, 111, 132, 188, 173, 150, 183, 181, 174, 168, 138, 112, 119, 114, 104, 97, 147, 167, 179, 136, 155, 80, 199, 167, 145, 115, 145, 111, 195, 156, 121, 162, 125, 144, 158, 129, 142, 169, 125, 168, 115, 164, 93, 129, 187, 173, 97, 149, 130, 120, 174, 102, 120, 140, 147, 187, 162, 136, 181, 154, 128, 123, 190, 170, 126], \"y\": [50, 32, 33, 26, 53, 54, 34, 59, 51, 32, 31, 31, 32, 41, 29, 51, 41, 43, 28, 46, 27, 56, 54, 25, 31, 58, 41, 39, 42, 38, 28, 42, 26, 37, 43, 60, 31, 33, 24, 24, 46, 39, 61, 38, 25, 23, 26, 40, 62, 33, 33, 30, 42, 42, 43, 36, 47, 32, 41, 36, 29, 36, 26, 37, 41, 60, 33, 31, 25, 36, 40, 29, 23, 26, 29, 57, 52, 41, 24, 36, 38, 25, 32, 41, 21, 66, 24, 22, 46, 26, 51, 23, 32, 22, 33, 49, 44, 21, 51, 27, 35, 25, 28, 38, 29, 28, 47, 52, 29, 25, 31, 24, 29, 46, 30, 25, 28, 47, 25, 30, 27, 43, 29, 59, 25, 36, 43, 30, 23, 41, 44, 33, 41, 37, 49, 28, 44, 29, 29, 67, 29, 45, 25, 58, 32, 35, 45, 58, 27, 31, 22, 25, 31, 35, 41, 46, 39, 28, 21, 22, 37, 28, 36, 31, 38, 43, 29, 41, 33, 30, 25, 22, 23, 38, 51, 38, 29, 35, 31, 24, 45, 55, 41, 35, 46, 28, 53, 45, 23, 32, 43, 27, 56, 37, 53, 54, 28, 33, 21, 62, 21, 52, 41, 52, 45, 44, 22, 38, 54, 36, 22, 36, 40, 50, 50, 24, 34, 38, 32, 50, 33, 22, 42, 25, 27, 22, 43, 40, 40, 70, 40, 31, 53, 25, 26, 27, 46, 44, 43, 43, 31, 49, 52, 30, 45, 23, 38, 34, 31, 52, 42, 34, 22, 24, 42, 48, 45, 27, 36, 50, 22, 26, 45, 37, 52, 66, 43, 47]}, {\"marker\": {\"color\": \"#7EC0EE\", \"line\": {\"width\": 1}}, \"mode\": \"markers\", \"name\": \"healthy\", \"type\": \"scatter\", \"x\": [85, 89, 116, 115, 110, 139, 103, 126, 99, 97, 145, 117, 109, 88, 92, 122, 103, 138, 180, 133, 106, 159, 146, 71, 105, 103, 101, 88, 150, 73, 100, 146, 105, 84, 44, 141, 99, 109, 95, 146, 139, 129, 79, 0, 62, 95, 112, 113, 74, 83, 101, 110, 106, 100, 107, 80, 123, 81, 142, 144, 92, 71, 93, 151, 125, 81, 85, 126, 96, 144, 83, 89, 76, 78, 97, 99, 111, 107, 132, 120, 118, 84, 96, 125, 100, 93, 129, 105, 128, 106, 108, 154, 102, 57, 106, 147, 90, 136, 114, 153, 99, 109, 88, 151, 102, 114, 100, 148, 120, 110, 111, 87, 79, 75, 85, 143, 87, 119, 0, 73, 141, 111, 123, 85, 105, 113, 138, 108, 99, 103, 111, 96, 81, 147, 179, 125, 119, 142, 100, 87, 101, 197, 117, 79, 122, 74, 104, 91, 91, 146, 122, 165, 124, 111, 106, 129, 90, 86, 111, 114, 193, 191, 95, 142, 96, 128, 102, 108, 122, 71, 106, 100, 104, 114, 108, 129, 133, 136, 155, 96, 108, 78, 161, 151, 126, 112, 77, 150, 120, 137, 80, 106, 113, 112, 99, 115, 129, 112, 157, 179, 105, 118, 87, 106, 95, 165, 117, 130, 95, 0, 122, 95, 126, 139, 116, 99, 92, 137, 61, 90, 90, 88, 158, 103, 147, 99, 101, 81, 118, 84, 105, 122, 98, 87, 93, 107, 105, 109, 90, 125, 119, 100, 100, 131, 116, 127, 96, 82, 137, 72, 123, 101, 102, 112, 143, 143, 97, 83, 119, 94, 102, 115, 94, 135, 99, 89, 80, 139, 90, 140, 147, 97, 107, 83, 117, 100, 95, 120, 82, 91, 119, 100, 135, 86, 134, 120, 71, 74, 88, 115, 124, 74, 97, 154, 144, 137, 119, 136, 114, 137, 114, 126, 132, 123, 85, 84, 139, 173, 99, 194, 83, 89, 99, 80, 166, 110, 81, 154, 117, 84, 94, 96, 75, 130, 84, 120, 139, 91, 91, 99, 125, 76, 129, 68, 124, 114, 125, 87, 97, 116, 117, 111, 122, 107, 86, 91, 77, 105, 57, 127, 84, 88, 131, 164, 189, 116, 84, 114, 88, 84, 124, 97, 110, 103, 85, 87, 99, 91, 95, 99, 92, 154, 78, 130, 111, 98, 143, 119, 108, 133, 109, 121, 100, 93, 103, 73, 112, 82, 123, 67, 89, 109, 108, 96, 124, 124, 92, 152, 111, 106, 105, 106, 117, 68, 112, 92, 183, 94, 108, 90, 125, 132, 128, 94, 102, 111, 128, 92, 104, 94, 100, 102, 128, 90, 103, 157, 107, 91, 117, 123, 120, 106, 101, 120, 127, 162, 112, 98, 154, 165, 99, 68, 123, 91, 93, 101, 56, 95, 136, 129, 130, 107, 140, 107, 121, 90, 99, 127, 118, 122, 129, 110, 80, 127, 158, 126, 134, 102, 94, 108, 83, 114, 117, 111, 112, 116, 141, 175, 92, 106, 105, 95, 126, 65, 99, 102, 109, 153, 100, 81, 121, 108, 137, 106, 88, 89, 101, 122, 121, 93], \"y\": [31, 21, 30, 29, 30, 57, 33, 27, 50, 22, 57, 38, 60, 22, 28, 45, 33, 35, 26, 37, 48, 40, 29, 22, 24, 22, 26, 30, 42, 21, 31, 44, 22, 21, 36, 24, 32, 54, 25, 27, 26, 23, 22, 22, 41, 27, 24, 22, 22, 36, 22, 27, 45, 26, 24, 21, 34, 42, 21, 40, 24, 22, 23, 22, 21, 24, 27, 21, 27, 37, 25, 23, 25, 25, 22, 21, 24, 23, 69, 30, 23, 39, 26, 31, 21, 22, 29, 28, 55, 38, 22, 23, 21, 41, 34, 65, 22, 24, 37, 23, 21, 23, 22, 36, 45, 27, 21, 22, 34, 29, 29, 25, 23, 33, 42, 47, 32, 23, 21, 27, 40, 21, 40, 42, 21, 21, 28, 32, 27, 55, 27, 21, 25, 24, 60, 32, 37, 61, 26, 22, 26, 31, 24, 22, 29, 23, 27, 21, 22, 29, 41, 23, 34, 23, 42, 27, 24, 25, 30, 25, 24, 34, 24, 63, 43, 24, 21, 21, 40, 21, 52, 25, 23, 57, 22, 39, 37, 51, 34, 26, 33, 21, 65, 28, 24, 58, 35, 37, 29, 21, 41, 22, 25, 26, 30, 28, 31, 21, 24, 37, 37, 46, 25, 44, 22, 26, 44, 22, 36, 22, 33, 57, 49, 22, 23, 26, 29, 30, 46, 24, 21, 48, 63, 65, 30, 30, 21, 22, 21, 21, 25, 28, 22, 22, 35, 24, 22, 21, 25, 25, 24, 28, 42, 21, 37, 25, 39, 25, 55, 38, 26, 25, 28, 25, 22, 21, 22, 27, 26, 21, 21, 21, 25, 26, 23, 38, 22, 29, 36, 41, 28, 21, 31, 22, 24, 28, 26, 26, 23, 25, 72, 24, 62, 24, 81, 48, 26, 39, 37, 34, 21, 22, 25, 27, 28, 22, 22, 50, 24, 59, 31, 39, 63, 29, 28, 23, 21, 58, 28, 67, 24, 42, 33, 22, 66, 30, 25, 39, 21, 28, 41, 40, 38, 21, 21, 64, 21, 58, 22, 24, 51, 41, 60, 25, 26, 26, 24, 21, 21, 24, 22, 31, 22, 24, 29, 31, 24, 46, 67, 23, 25, 29, 28, 50, 37, 21, 25, 66, 23, 28, 37, 30, 58, 42, 35, 24, 32, 27, 22, 21, 46, 37, 39, 21, 22, 22, 23, 25, 35, 36, 27, 62, 42, 22, 29, 25, 24, 25, 34, 46, 21, 26, 24, 28, 30, 21, 25, 27, 23, 24, 26, 27, 30, 23, 28, 28, 45, 21, 21, 29, 21, 21, 45, 21, 24, 23, 22, 31, 48, 23, 28, 27, 24, 31, 27, 30, 23, 23, 27, 28, 27, 22, 22, 41, 51, 54, 24, 43, 45, 49, 21, 47, 22, 68, 25, 23, 22, 22, 69, 25, 22, 29, 23, 34, 23, 25, 22, 28, 26, 26, 41, 27, 28, 22, 24, 40, 21, 32, 56, 24, 34, 21, 42, 45, 38, 25, 22, 22, 22, 22, 53, 28, 21, 42, 21, 26, 22, 39, 46, 32, 28, 25, 39, 26, 22, 33, 63, 27, 30, 23]}],\n",
       "                        {\"template\": {\"data\": {\"bar\": [{\"error_x\": {\"color\": \"#2a3f5f\"}, \"error_y\": {\"color\": \"#2a3f5f\"}, \"marker\": {\"line\": {\"color\": \"#E5ECF6\", \"width\": 0.5}}, \"type\": \"bar\"}], \"barpolar\": [{\"marker\": {\"line\": {\"color\": \"#E5ECF6\", \"width\": 0.5}}, \"type\": \"barpolar\"}], \"carpet\": [{\"aaxis\": {\"endlinecolor\": \"#2a3f5f\", \"gridcolor\": \"white\", \"linecolor\": \"white\", \"minorgridcolor\": \"white\", \"startlinecolor\": \"#2a3f5f\"}, \"baxis\": {\"endlinecolor\": \"#2a3f5f\", \"gridcolor\": \"white\", \"linecolor\": \"white\", \"minorgridcolor\": \"white\", \"startlinecolor\": \"#2a3f5f\"}, \"type\": \"carpet\"}], \"choropleth\": [{\"colorbar\": {\"outlinewidth\": 0, \"ticks\": \"\"}, \"type\": \"choropleth\"}], \"contour\": [{\"colorbar\": {\"outlinewidth\": 0, \"ticks\": \"\"}, \"colorscale\": [[0.0, \"#0d0887\"], [0.1111111111111111, \"#46039f\"], [0.2222222222222222, \"#7201a8\"], [0.3333333333333333, \"#9c179e\"], [0.4444444444444444, \"#bd3786\"], [0.5555555555555556, \"#d8576b\"], [0.6666666666666666, \"#ed7953\"], [0.7777777777777778, \"#fb9f3a\"], [0.8888888888888888, \"#fdca26\"], [1.0, \"#f0f921\"]], \"type\": \"contour\"}], \"contourcarpet\": [{\"colorbar\": {\"outlinewidth\": 0, \"ticks\": \"\"}, \"type\": \"contourcarpet\"}], \"heatmap\": [{\"colorbar\": {\"outlinewidth\": 0, \"ticks\": \"\"}, \"colorscale\": [[0.0, \"#0d0887\"], [0.1111111111111111, \"#46039f\"], [0.2222222222222222, \"#7201a8\"], [0.3333333333333333, \"#9c179e\"], [0.4444444444444444, \"#bd3786\"], [0.5555555555555556, \"#d8576b\"], [0.6666666666666666, \"#ed7953\"], [0.7777777777777778, \"#fb9f3a\"], [0.8888888888888888, \"#fdca26\"], [1.0, \"#f0f921\"]], \"type\": \"heatmap\"}], \"heatmapgl\": [{\"colorbar\": {\"outlinewidth\": 0, \"ticks\": \"\"}, \"colorscale\": [[0.0, \"#0d0887\"], [0.1111111111111111, \"#46039f\"], [0.2222222222222222, \"#7201a8\"], [0.3333333333333333, \"#9c179e\"], [0.4444444444444444, \"#bd3786\"], [0.5555555555555556, \"#d8576b\"], [0.6666666666666666, \"#ed7953\"], [0.7777777777777778, \"#fb9f3a\"], [0.8888888888888888, \"#fdca26\"], [1.0, \"#f0f921\"]], \"type\": \"heatmapgl\"}], \"histogram\": [{\"marker\": {\"colorbar\": {\"outlinewidth\": 0, \"ticks\": \"\"}}, \"type\": \"histogram\"}], \"histogram2d\": [{\"colorbar\": {\"outlinewidth\": 0, \"ticks\": \"\"}, \"colorscale\": [[0.0, \"#0d0887\"], [0.1111111111111111, \"#46039f\"], [0.2222222222222222, \"#7201a8\"], [0.3333333333333333, \"#9c179e\"], [0.4444444444444444, \"#bd3786\"], [0.5555555555555556, \"#d8576b\"], [0.6666666666666666, \"#ed7953\"], [0.7777777777777778, \"#fb9f3a\"], [0.8888888888888888, \"#fdca26\"], [1.0, \"#f0f921\"]], \"type\": \"histogram2d\"}], \"histogram2dcontour\": [{\"colorbar\": {\"outlinewidth\": 0, \"ticks\": \"\"}, \"colorscale\": [[0.0, \"#0d0887\"], [0.1111111111111111, \"#46039f\"], [0.2222222222222222, \"#7201a8\"], [0.3333333333333333, \"#9c179e\"], [0.4444444444444444, \"#bd3786\"], [0.5555555555555556, \"#d8576b\"], [0.6666666666666666, \"#ed7953\"], [0.7777777777777778, \"#fb9f3a\"], [0.8888888888888888, \"#fdca26\"], [1.0, \"#f0f921\"]], \"type\": \"histogram2dcontour\"}], \"mesh3d\": [{\"colorbar\": {\"outlinewidth\": 0, \"ticks\": \"\"}, \"type\": \"mesh3d\"}], \"parcoords\": [{\"line\": {\"colorbar\": {\"outlinewidth\": 0, \"ticks\": \"\"}}, \"type\": \"parcoords\"}], \"pie\": [{\"automargin\": true, \"type\": \"pie\"}], \"scatter\": [{\"marker\": {\"colorbar\": {\"outlinewidth\": 0, \"ticks\": \"\"}}, \"type\": \"scatter\"}], \"scatter3d\": [{\"line\": {\"colorbar\": {\"outlinewidth\": 0, \"ticks\": \"\"}}, \"marker\": {\"colorbar\": {\"outlinewidth\": 0, \"ticks\": \"\"}}, \"type\": \"scatter3d\"}], \"scattercarpet\": [{\"marker\": {\"colorbar\": {\"outlinewidth\": 0, \"ticks\": \"\"}}, \"type\": \"scattercarpet\"}], \"scattergeo\": [{\"marker\": {\"colorbar\": {\"outlinewidth\": 0, \"ticks\": \"\"}}, \"type\": \"scattergeo\"}], \"scattergl\": [{\"marker\": {\"colorbar\": {\"outlinewidth\": 0, \"ticks\": \"\"}}, \"type\": \"scattergl\"}], \"scattermapbox\": [{\"marker\": {\"colorbar\": {\"outlinewidth\": 0, \"ticks\": \"\"}}, \"type\": \"scattermapbox\"}], \"scatterpolar\": [{\"marker\": {\"colorbar\": {\"outlinewidth\": 0, \"ticks\": \"\"}}, \"type\": \"scatterpolar\"}], \"scatterpolargl\": [{\"marker\": {\"colorbar\": {\"outlinewidth\": 0, \"ticks\": \"\"}}, \"type\": \"scatterpolargl\"}], \"scatterternary\": [{\"marker\": {\"colorbar\": {\"outlinewidth\": 0, \"ticks\": \"\"}}, \"type\": \"scatterternary\"}], \"surface\": [{\"colorbar\": {\"outlinewidth\": 0, \"ticks\": \"\"}, \"colorscale\": [[0.0, \"#0d0887\"], [0.1111111111111111, \"#46039f\"], [0.2222222222222222, \"#7201a8\"], [0.3333333333333333, \"#9c179e\"], [0.4444444444444444, \"#bd3786\"], [0.5555555555555556, \"#d8576b\"], [0.6666666666666666, \"#ed7953\"], [0.7777777777777778, \"#fb9f3a\"], [0.8888888888888888, \"#fdca26\"], [1.0, \"#f0f921\"]], \"type\": \"surface\"}], \"table\": [{\"cells\": {\"fill\": {\"color\": \"#EBF0F8\"}, \"line\": {\"color\": \"white\"}}, \"header\": {\"fill\": {\"color\": \"#C8D4E3\"}, \"line\": {\"color\": \"white\"}}, \"type\": \"table\"}]}, \"layout\": {\"annotationdefaults\": {\"arrowcolor\": \"#2a3f5f\", \"arrowhead\": 0, \"arrowwidth\": 1}, \"coloraxis\": {\"colorbar\": {\"outlinewidth\": 0, \"ticks\": \"\"}}, \"colorscale\": {\"diverging\": [[0, \"#8e0152\"], [0.1, \"#c51b7d\"], [0.2, \"#de77ae\"], [0.3, \"#f1b6da\"], [0.4, \"#fde0ef\"], [0.5, \"#f7f7f7\"], [0.6, \"#e6f5d0\"], [0.7, \"#b8e186\"], [0.8, \"#7fbc41\"], [0.9, \"#4d9221\"], [1, \"#276419\"]], \"sequential\": [[0.0, \"#0d0887\"], [0.1111111111111111, \"#46039f\"], [0.2222222222222222, \"#7201a8\"], [0.3333333333333333, \"#9c179e\"], [0.4444444444444444, \"#bd3786\"], [0.5555555555555556, \"#d8576b\"], [0.6666666666666666, \"#ed7953\"], [0.7777777777777778, \"#fb9f3a\"], [0.8888888888888888, \"#fdca26\"], [1.0, \"#f0f921\"]], \"sequentialminus\": [[0.0, \"#0d0887\"], [0.1111111111111111, \"#46039f\"], [0.2222222222222222, \"#7201a8\"], [0.3333333333333333, \"#9c179e\"], [0.4444444444444444, \"#bd3786\"], [0.5555555555555556, \"#d8576b\"], [0.6666666666666666, \"#ed7953\"], [0.7777777777777778, \"#fb9f3a\"], [0.8888888888888888, \"#fdca26\"], [1.0, \"#f0f921\"]]}, \"colorway\": [\"#636efa\", \"#EF553B\", \"#00cc96\", \"#ab63fa\", \"#FFA15A\", \"#19d3f3\", \"#FF6692\", \"#B6E880\", \"#FF97FF\", \"#FECB52\"], \"font\": {\"color\": \"#2a3f5f\"}, \"geo\": {\"bgcolor\": \"white\", \"lakecolor\": \"white\", \"landcolor\": \"#E5ECF6\", \"showlakes\": true, \"showland\": true, \"subunitcolor\": \"white\"}, \"hoverlabel\": {\"align\": \"left\"}, \"hovermode\": \"closest\", \"mapbox\": {\"style\": \"light\"}, \"paper_bgcolor\": \"white\", \"plot_bgcolor\": \"#E5ECF6\", \"polar\": {\"angularaxis\": {\"gridcolor\": \"white\", \"linecolor\": \"white\", \"ticks\": \"\"}, \"bgcolor\": \"#E5ECF6\", \"radialaxis\": {\"gridcolor\": \"white\", \"linecolor\": \"white\", \"ticks\": \"\"}}, \"scene\": {\"xaxis\": {\"backgroundcolor\": \"#E5ECF6\", \"gridcolor\": \"white\", \"gridwidth\": 2, \"linecolor\": \"white\", \"showbackground\": true, \"ticks\": \"\", \"zerolinecolor\": \"white\"}, \"yaxis\": {\"backgroundcolor\": \"#E5ECF6\", \"gridcolor\": \"white\", \"gridwidth\": 2, \"linecolor\": \"white\", \"showbackground\": true, \"ticks\": \"\", \"zerolinecolor\": \"white\"}, \"zaxis\": {\"backgroundcolor\": \"#E5ECF6\", \"gridcolor\": \"white\", \"gridwidth\": 2, \"linecolor\": \"white\", \"showbackground\": true, \"ticks\": \"\", \"zerolinecolor\": \"white\"}}, \"shapedefaults\": {\"line\": {\"color\": \"#2a3f5f\"}}, \"ternary\": {\"aaxis\": {\"gridcolor\": \"white\", \"linecolor\": \"white\", \"ticks\": \"\"}, \"baxis\": {\"gridcolor\": \"white\", \"linecolor\": \"white\", \"ticks\": \"\"}, \"bgcolor\": \"#E5ECF6\", \"caxis\": {\"gridcolor\": \"white\", \"linecolor\": \"white\", \"ticks\": \"\"}}, \"title\": {\"x\": 0.05}, \"xaxis\": {\"automargin\": true, \"gridcolor\": \"white\", \"linecolor\": \"white\", \"ticks\": \"\", \"title\": {\"standoff\": 15}, \"zerolinecolor\": \"white\", \"zerolinewidth\": 2}, \"yaxis\": {\"automargin\": true, \"gridcolor\": \"white\", \"linecolor\": \"white\", \"ticks\": \"\", \"title\": {\"standoff\": 15}, \"zerolinecolor\": \"white\", \"zerolinewidth\": 2}}}, \"title\": {\"text\": \"Glucose vs Age\"}, \"xaxis\": {\"title\": {\"text\": \"Glucose\"}, \"zeroline\": false}, \"yaxis\": {\"title\": {\"text\": \"Age\"}, \"zeroline\": false}},\n",
       "                        {\"responsive\": true}\n",
       "                    ).then(function(){\n",
       "                            \n",
       "var gd = document.getElementById('79cd5fcf-07a7-4b58-b705-543970b41b87');\n",
       "var x = new MutationObserver(function (mutations, observer) {{\n",
       "        var display = window.getComputedStyle(gd).display;\n",
       "        if (!display || display === 'none') {{\n",
       "            console.log([gd, 'removed!']);\n",
       "            Plotly.purge(gd);\n",
       "            observer.disconnect();\n",
       "        }}\n",
       "}});\n",
       "\n",
       "// Listen for the removal of the full notebook cells\n",
       "var notebookContainer = gd.closest('#notebook-container');\n",
       "if (notebookContainer) {{\n",
       "    x.observe(notebookContainer, {childList: true});\n",
       "}}\n",
       "\n",
       "// Listen for the clearing of the current output cell\n",
       "var outputEl = gd.closest('.output');\n",
       "if (outputEl) {{\n",
       "    x.observe(outputEl, {childList: true});\n",
       "}}\n",
       "\n",
       "                        })\n",
       "                };\n",
       "                \n",
       "            </script>\n",
       "        </div>\n",
       "</body>\n",
       "</html>"
      ]
     },
     "metadata": {
      "tags": []
     },
     "output_type": "display_data"
    }
   ],
   "source": [
    "# one line of code\n"
   ]
  },
  {
   "cell_type": "markdown",
   "metadata": {
    "colab_type": "text",
    "id": "uOw7Z_GMTrws"
   },
   "source": [
    "10. Represents 'BMI' vs 'Outcome'. The y-axis is the outcome, so the values ​​below are non-diabetic and the values ​​above are\n",
    "---"
   ]
  },
  {
   "cell_type": "code",
   "execution_count": 0,
   "metadata": {
    "colab": {
     "base_uri": "https://localhost:8080/",
     "height": 542
    },
    "colab_type": "code",
    "id": "fB7db-Jwji9C",
    "outputId": "32bb220a-257d-4f08-e037-ce39593f06b2"
   },
   "outputs": [
    {
     "data": {
      "text/html": [
       "<html>\n",
       "<head><meta charset=\"utf-8\" /></head>\n",
       "<body>\n",
       "    <div>\n",
       "            <script src=\"https://cdnjs.cloudflare.com/ajax/libs/mathjax/2.7.5/MathJax.js?config=TeX-AMS-MML_SVG\"></script><script type=\"text/javascript\">if (window.MathJax) {MathJax.Hub.Config({SVG: {font: \"STIX-Web\"}});}</script>\n",
       "                <script type=\"text/javascript\">window.PlotlyConfig = {MathJaxConfig: 'local'};</script>\n",
       "        <script src=\"https://cdn.plot.ly/plotly-latest.min.js\"></script>    \n",
       "            <div id=\"80387db1-4ddc-4551-b1f4-1f703b10b07d\" class=\"plotly-graph-div\" style=\"height:525px; width:100%;\"></div>\n",
       "            <script type=\"text/javascript\">\n",
       "                \n",
       "                    window.PLOTLYENV=window.PLOTLYENV || {};\n",
       "                    \n",
       "                if (document.getElementById(\"80387db1-4ddc-4551-b1f4-1f703b10b07d\")) {\n",
       "                    Plotly.newPlot(\n",
       "                        '80387db1-4ddc-4551-b1f4-1f703b10b07d',\n",
       "                        [{\"marker\": {\"color\": \"#FFD700\", \"line\": {\"width\": 1}}, \"mode\": \"markers\", \"name\": \"diabetic\", \"type\": \"scatter\", \"x\": [33.6, 23.3, 43.1, 31.0, 30.5, 0.0, 38.0, 30.1, 25.8, 30.0, 45.8, 29.6, 34.6, 39.8, 29.0, 36.6, 31.1, 39.4, 31.6, 32.9, 38.2, 37.1, 45.4, 42.0, 39.1, 33.7, 37.7, 32.9, 32.8, 32.5, 32.9, 43.4, 43.2, 48.8, 37.1, 23.8, 49.7, 39.0, 37.4, 33.3, 34.0, 30.5, 31.2, 34.0, 53.2, 33.3, 55.0, 34.5, 27.9, 29.7, 33.3, 34.5, 32.4, 34.3, 47.9, 50.0, 40.9, 31.6, 29.9, 30.8, 35.4, 32.7, 67.1, 39.1, 35.9, 30.1, 32.0, 27.9, 31.6, 30.4, 52.3, 39.4, 22.9, 34.8, 30.9, 37.5, 37.7, 35.5, 42.6, 34.2, 41.8, 35.8, 29.0, 37.8, 34.6, 31.6, 37.2, 44.0, 46.2, 43.6, 35.9, 44.1, 30.8, 25.6, 27.1, 30.0, 27.6, 33.6, 33.3, 30.0, 32.0, 36.3, 27.5, 45.6, 26.5, 37.9, 30.4, 27.0, 45.6, 36.6, 43.3, 40.5, 28.0, 36.6, 32.3, 31.6, 52.9, 25.5, 30.5, 32.9, 26.6, 35.9, 30.5, 23.5, 31.6, 27.4, 26.8, 35.1, 45.5, 43.3, 31.2, 34.2, 39.9, 41.0, 30.4, 33.3, 39.9, 36.5, 31.2, 38.5, 27.6, 32.8, 38.4, 39.2, 48.3, 32.3, 43.3, 32.0, 45.7, 32.9, 34.3, 34.9, 32.0, 35.0, 32.9, 28.9, 25.9, 42.4, 34.6, 35.7, 38.5, 26.4, 42.9, 37.0, 34.1, 35.0, 42.4, 34.3, 30.5, 29.7, 59.4, 33.6, 28.9, 33.6, 37.6, 30.0, 33.7, 35.5, 44.2, 42.3, 28.9, 25.1, 39.0, 36.5, 29.7, 31.6, 30.3, 34.2, 32.9, 36.4, 39.4, 32.4, 34.9, 34.5, 43.6, 33.8, 41.3, 34.3, 42.9, 34.7, 42.1, 28.7, 34.9, 33.3, 46.8, 34.4, 32.0, 36.8, 35.2, 28.4, 40.0, 32.9, 38.2, 36.1, 28.2, 32.4, 27.4, 31.2, 40.9, 29.5, 23.4, 37.8, 28.3, 38.7, 34.2, 42.9, 37.6, 37.9, 33.7, 32.5, 27.5, 30.9, 24.8, 36.0, 49.6, 32.3, 46.1, 42.3, 38.5, 30.4, 29.9, 27.6, 35.0, 0.0, 32.8, 38.0, 41.2, 33.9, 33.8, 35.6, 29.3, 28.4, 28.4, 44.5, 39.5, 42.3, 32.7, 49.3, 36.4, 24.3, 31.2, 43.3, 32.4, 36.5, 36.3, 35.5, 44.0, 30.1], \"y\": [1, 1, 1, 1, 1, 1, 1, 1, 1, 1, 1, 1, 1, 1, 1, 1, 1, 1, 1, 1, 1, 1, 1, 1, 1, 1, 1, 1, 1, 1, 1, 1, 1, 1, 1, 1, 1, 1, 1, 1, 1, 1, 1, 1, 1, 1, 1, 1, 1, 1, 1, 1, 1, 1, 1, 1, 1, 1, 1, 1, 1, 1, 1, 1, 1, 1, 1, 1, 1, 1, 1, 1, 1, 1, 1, 1, 1, 1, 1, 1, 1, 1, 1, 1, 1, 1, 1, 1, 1, 1, 1, 1, 1, 1, 1, 1, 1, 1, 1, 1, 1, 1, 1, 1, 1, 1, 1, 1, 1, 1, 1, 1, 1, 1, 1, 1, 1, 1, 1, 1, 1, 1, 1, 1, 1, 1, 1, 1, 1, 1, 1, 1, 1, 1, 1, 1, 1, 1, 1, 1, 1, 1, 1, 1, 1, 1, 1, 1, 1, 1, 1, 1, 1, 1, 1, 1, 1, 1, 1, 1, 1, 1, 1, 1, 1, 1, 1, 1, 1, 1, 1, 1, 1, 1, 1, 1, 1, 1, 1, 1, 1, 1, 1, 1, 1, 1, 1, 1, 1, 1, 1, 1, 1, 1, 1, 1, 1, 1, 1, 1, 1, 1, 1, 1, 1, 1, 1, 1, 1, 1, 1, 1, 1, 1, 1, 1, 1, 1, 1, 1, 1, 1, 1, 1, 1, 1, 1, 1, 1, 1, 1, 1, 1, 1, 1, 1, 1, 1, 1, 1, 1, 1, 1, 1, 1, 1, 1, 1, 1, 1, 1, 1, 1, 1, 1, 1, 1, 1, 1, 1, 1, 1, 1, 1, 1, 1, 1, 1]}, {\"marker\": {\"color\": \"#7EC0EE\", \"line\": {\"width\": 1}}, \"mode\": \"markers\", \"name\": \"healthy\", \"type\": \"scatter\", \"x\": [26.6, 28.1, 25.6, 35.3, 37.6, 27.1, 43.3, 39.3, 35.4, 23.2, 22.2, 34.1, 36.0, 24.8, 19.9, 27.6, 24.0, 33.2, 34.0, 40.2, 22.7, 27.4, 29.7, 28.0, 0.0, 19.4, 24.2, 24.4, 34.7, 23.0, 46.8, 40.5, 41.5, 0.0, 25.0, 25.4, 29.0, 42.7, 19.6, 28.9, 28.6, 35.1, 32.0, 24.7, 32.6, 37.7, 25.0, 22.4, 0.0, 29.3, 24.6, 32.4, 36.6, 38.5, 26.5, 19.1, 32.0, 46.7, 24.7, 33.9, 31.6, 20.4, 28.7, 26.1, 22.5, 26.6, 39.6, 28.7, 22.4, 29.5, 34.3, 31.2, 34.0, 33.7, 28.2, 23.2, 34.2, 33.6, 26.8, 42.9, 33.3, 38.3, 21.1, 33.8, 30.8, 28.7, 31.2, 36.9, 21.1, 39.5, 32.5, 32.8, 0.0, 32.8, 30.5, 33.7, 27.3, 37.4, 21.9, 40.6, 24.6, 25.2, 29.0, 29.7, 37.2, 44.2, 29.7, 32.5, 29.6, 31.9, 28.4, 28.9, 43.5, 29.7, 31.2, 45.0, 23.2, 34.9, 27.7, 26.8, 27.6, 22.6, 33.1, 24.4, 24.3, 31.0, 40.1, 27.3, 20.4, 37.7, 23.9, 33.2, 27.7, 42.8, 34.2, 30.0, 25.2, 28.8, 23.6, 34.6, 35.7, 36.7, 45.2, 25.4, 35.0, 29.7, 18.4, 29.2, 33.1, 38.2, 31.2, 52.3, 35.4, 30.1, 31.2, 28.0, 24.4, 35.8, 30.1, 28.7, 25.9, 30.9, 32.1, 32.4, 33.6, 40.0, 25.1, 25.2, 23.0, 33.2, 34.2, 40.5, 27.8, 24.9, 25.3, 35.9, 32.4, 26.0, 38.7, 20.8, 36.1, 36.9, 21.9, 35.5, 30.7, 23.6, 35.8, 21.0, 39.7, 24.8, 26.2, 39.4, 29.5, 34.1, 19.3, 38.1, 27.5, 35.7, 25.6, 35.1, 30.8, 23.1, 32.7, 23.6, 23.9, 47.9, 33.8, 25.9, 25.9, 32.0, 34.7, 36.8, 38.5, 28.7, 23.5, 21.8, 42.2, 31.2, 34.4, 27.2, 42.7, 35.3, 29.8, 39.2, 34.9, 34.0, 21.0, 27.5, 0.0, 35.8, 34.9, 36.2, 25.2, 37.2, 43.4, 30.8, 20.0, 25.4, 25.1, 24.3, 22.3, 31.6, 32.0, 23.7, 22.1, 27.7, 24.7, 21.1, 24.2, 31.6, 42.1, 21.9, 35.7, 34.4, 42.4, 26.2, 27.2, 18.2, 45.3, 26.0, 40.6, 30.8, 0.0, 40.6, 22.2, 30.4, 30.0, 25.6, 24.5, 37.4, 29.9, 18.2, 36.8, 32.2, 33.2, 25.3, 36.5, 30.5, 21.2, 39.9, 19.6, 37.8, 26.7, 30.2, 25.9, 20.8, 21.8, 35.3, 27.6, 24.0, 21.8, 27.8, 36.8, 46.1, 41.3, 33.2, 38.8, 29.9, 28.9, 27.3, 23.8, 25.9, 28.0, 35.2, 27.8, 38.2, 40.7, 46.5, 25.6, 26.1, 36.8, 33.5, 32.8, 0.0, 26.6, 26.0, 30.1, 29.3, 25.2, 37.2, 33.3, 37.3, 33.3, 28.6, 30.4, 25.0, 22.1, 24.2, 27.3, 25.6, 37.6, 32.8, 19.6, 25.0, 33.2, 0.0, 31.6, 21.8, 18.2, 26.3, 30.8, 24.6, 29.8, 45.3, 41.3, 29.8, 33.3, 29.6, 21.7, 36.3, 39.5, 32.0, 33.1, 32.8, 28.5, 27.4, 31.9, 27.8, 29.9, 36.9, 25.5, 38.1, 27.8, 46.2, 30.1, 37.6, 26.9, 32.4, 26.1, 38.6, 32.0, 31.3, 32.5, 22.6, 29.5, 34.7, 30.1, 35.5, 24.0, 27.0, 25.0, 26.5, 38.7, 22.5, 24.3, 21.1, 39.4, 28.5, 33.6, 45.3, 27.8, 23.1, 27.1, 23.7, 27.8, 35.8, 19.5, 41.5, 24.0, 30.9, 32.5, 25.8, 28.7, 20.1, 38.4, 24.2, 40.8, 43.5, 30.8, 37.7, 24.7, 32.4, 34.6, 24.7, 34.5, 26.2, 27.5, 25.9, 28.8, 31.6, 19.5, 29.3, 34.3, 28.0, 27.6, 39.4, 26.4, 25.2, 33.8, 34.1, 26.8, 34.2, 21.8, 38.9, 39.0, 27.7, 34.8, 34.0, 30.9, 33.6, 25.4, 35.5, 57.3, 35.6, 35.3, 24.2, 24.2, 44.6, 0.0, 33.2, 23.1, 28.3, 24.1, 24.6, 39.1, 23.5, 25.0, 34.5, 44.5, 35.9, 38.5, 28.4, 39.8, 34.4, 31.2, 29.6, 26.4, 29.5, 23.1, 35.5, 29.3, 38.1, 39.1, 32.8, 39.4, 36.1, 32.4, 22.9, 30.1, 29.0, 23.3, 35.4, 27.4, 32.0, 36.6, 30.8, 28.5, 40.6, 30.0, 46.3, 39.0, 26.0, 32.0, 37.5, 28.4, 22.5, 32.9, 36.8, 26.2, 30.4], \"y\": [0, 0, 0, 0, 0, 0, 0, 0, 0, 0, 0, 0, 0, 0, 0, 0, 0, 0, 0, 0, 0, 0, 0, 0, 0, 0, 0, 0, 0, 0, 0, 0, 0, 0, 0, 0, 0, 0, 0, 0, 0, 0, 0, 0, 0, 0, 0, 0, 0, 0, 0, 0, 0, 0, 0, 0, 0, 0, 0, 0, 0, 0, 0, 0, 0, 0, 0, 0, 0, 0, 0, 0, 0, 0, 0, 0, 0, 0, 0, 0, 0, 0, 0, 0, 0, 0, 0, 0, 0, 0, 0, 0, 0, 0, 0, 0, 0, 0, 0, 0, 0, 0, 0, 0, 0, 0, 0, 0, 0, 0, 0, 0, 0, 0, 0, 0, 0, 0, 0, 0, 0, 0, 0, 0, 0, 0, 0, 0, 0, 0, 0, 0, 0, 0, 0, 0, 0, 0, 0, 0, 0, 0, 0, 0, 0, 0, 0, 0, 0, 0, 0, 0, 0, 0, 0, 0, 0, 0, 0, 0, 0, 0, 0, 0, 0, 0, 0, 0, 0, 0, 0, 0, 0, 0, 0, 0, 0, 0, 0, 0, 0, 0, 0, 0, 0, 0, 0, 0, 0, 0, 0, 0, 0, 0, 0, 0, 0, 0, 0, 0, 0, 0, 0, 0, 0, 0, 0, 0, 0, 0, 0, 0, 0, 0, 0, 0, 0, 0, 0, 0, 0, 0, 0, 0, 0, 0, 0, 0, 0, 0, 0, 0, 0, 0, 0, 0, 0, 0, 0, 0, 0, 0, 0, 0, 0, 0, 0, 0, 0, 0, 0, 0, 0, 0, 0, 0, 0, 0, 0, 0, 0, 0, 0, 0, 0, 0, 0, 0, 0, 0, 0, 0, 0, 0, 0, 0, 0, 0, 0, 0, 0, 0, 0, 0, 0, 0, 0, 0, 0, 0, 0, 0, 0, 0, 0, 0, 0, 0, 0, 0, 0, 0, 0, 0, 0, 0, 0, 0, 0, 0, 0, 0, 0, 0, 0, 0, 0, 0, 0, 0, 0, 0, 0, 0, 0, 0, 0, 0, 0, 0, 0, 0, 0, 0, 0, 0, 0, 0, 0, 0, 0, 0, 0, 0, 0, 0, 0, 0, 0, 0, 0, 0, 0, 0, 0, 0, 0, 0, 0, 0, 0, 0, 0, 0, 0, 0, 0, 0, 0, 0, 0, 0, 0, 0, 0, 0, 0, 0, 0, 0, 0, 0, 0, 0, 0, 0, 0, 0, 0, 0, 0, 0, 0, 0, 0, 0, 0, 0, 0, 0, 0, 0, 0, 0, 0, 0, 0, 0, 0, 0, 0, 0, 0, 0, 0, 0, 0, 0, 0, 0, 0, 0, 0, 0, 0, 0, 0, 0, 0, 0, 0, 0, 0, 0, 0, 0, 0, 0, 0, 0, 0, 0, 0, 0, 0, 0, 0, 0, 0, 0, 0, 0, 0, 0, 0, 0, 0, 0, 0, 0, 0, 0, 0, 0, 0, 0, 0, 0, 0, 0, 0, 0, 0, 0, 0, 0, 0, 0, 0, 0, 0, 0, 0, 0, 0, 0, 0, 0, 0, 0, 0, 0, 0, 0, 0, 0, 0, 0, 0, 0]}],\n",
       "                        {\"template\": {\"data\": {\"bar\": [{\"error_x\": {\"color\": \"#2a3f5f\"}, \"error_y\": {\"color\": \"#2a3f5f\"}, \"marker\": {\"line\": {\"color\": \"#E5ECF6\", \"width\": 0.5}}, \"type\": \"bar\"}], \"barpolar\": [{\"marker\": {\"line\": {\"color\": \"#E5ECF6\", \"width\": 0.5}}, \"type\": \"barpolar\"}], \"carpet\": [{\"aaxis\": {\"endlinecolor\": \"#2a3f5f\", \"gridcolor\": \"white\", \"linecolor\": \"white\", \"minorgridcolor\": \"white\", \"startlinecolor\": \"#2a3f5f\"}, \"baxis\": {\"endlinecolor\": \"#2a3f5f\", \"gridcolor\": \"white\", \"linecolor\": \"white\", \"minorgridcolor\": \"white\", \"startlinecolor\": \"#2a3f5f\"}, \"type\": \"carpet\"}], \"choropleth\": [{\"colorbar\": {\"outlinewidth\": 0, \"ticks\": \"\"}, \"type\": \"choropleth\"}], \"contour\": [{\"colorbar\": {\"outlinewidth\": 0, \"ticks\": \"\"}, \"colorscale\": [[0.0, \"#0d0887\"], [0.1111111111111111, \"#46039f\"], [0.2222222222222222, \"#7201a8\"], [0.3333333333333333, \"#9c179e\"], [0.4444444444444444, \"#bd3786\"], [0.5555555555555556, \"#d8576b\"], [0.6666666666666666, \"#ed7953\"], [0.7777777777777778, \"#fb9f3a\"], [0.8888888888888888, \"#fdca26\"], [1.0, \"#f0f921\"]], \"type\": \"contour\"}], \"contourcarpet\": [{\"colorbar\": {\"outlinewidth\": 0, \"ticks\": \"\"}, \"type\": \"contourcarpet\"}], \"heatmap\": [{\"colorbar\": {\"outlinewidth\": 0, \"ticks\": \"\"}, \"colorscale\": [[0.0, \"#0d0887\"], [0.1111111111111111, \"#46039f\"], [0.2222222222222222, \"#7201a8\"], [0.3333333333333333, \"#9c179e\"], [0.4444444444444444, \"#bd3786\"], [0.5555555555555556, \"#d8576b\"], [0.6666666666666666, \"#ed7953\"], [0.7777777777777778, \"#fb9f3a\"], [0.8888888888888888, \"#fdca26\"], [1.0, \"#f0f921\"]], \"type\": \"heatmap\"}], \"heatmapgl\": [{\"colorbar\": {\"outlinewidth\": 0, \"ticks\": \"\"}, \"colorscale\": [[0.0, \"#0d0887\"], [0.1111111111111111, \"#46039f\"], [0.2222222222222222, \"#7201a8\"], [0.3333333333333333, \"#9c179e\"], [0.4444444444444444, \"#bd3786\"], [0.5555555555555556, \"#d8576b\"], [0.6666666666666666, \"#ed7953\"], [0.7777777777777778, \"#fb9f3a\"], [0.8888888888888888, \"#fdca26\"], [1.0, \"#f0f921\"]], \"type\": \"heatmapgl\"}], \"histogram\": [{\"marker\": {\"colorbar\": {\"outlinewidth\": 0, \"ticks\": \"\"}}, \"type\": \"histogram\"}], \"histogram2d\": [{\"colorbar\": {\"outlinewidth\": 0, \"ticks\": \"\"}, \"colorscale\": [[0.0, \"#0d0887\"], [0.1111111111111111, \"#46039f\"], [0.2222222222222222, \"#7201a8\"], [0.3333333333333333, \"#9c179e\"], [0.4444444444444444, \"#bd3786\"], [0.5555555555555556, \"#d8576b\"], [0.6666666666666666, \"#ed7953\"], [0.7777777777777778, \"#fb9f3a\"], [0.8888888888888888, \"#fdca26\"], [1.0, \"#f0f921\"]], \"type\": \"histogram2d\"}], \"histogram2dcontour\": [{\"colorbar\": {\"outlinewidth\": 0, \"ticks\": \"\"}, \"colorscale\": [[0.0, \"#0d0887\"], [0.1111111111111111, \"#46039f\"], [0.2222222222222222, \"#7201a8\"], [0.3333333333333333, \"#9c179e\"], [0.4444444444444444, \"#bd3786\"], [0.5555555555555556, \"#d8576b\"], [0.6666666666666666, \"#ed7953\"], [0.7777777777777778, \"#fb9f3a\"], [0.8888888888888888, \"#fdca26\"], [1.0, \"#f0f921\"]], \"type\": \"histogram2dcontour\"}], \"mesh3d\": [{\"colorbar\": {\"outlinewidth\": 0, \"ticks\": \"\"}, \"type\": \"mesh3d\"}], \"parcoords\": [{\"line\": {\"colorbar\": {\"outlinewidth\": 0, \"ticks\": \"\"}}, \"type\": \"parcoords\"}], \"pie\": [{\"automargin\": true, \"type\": \"pie\"}], \"scatter\": [{\"marker\": {\"colorbar\": {\"outlinewidth\": 0, \"ticks\": \"\"}}, \"type\": \"scatter\"}], \"scatter3d\": [{\"line\": {\"colorbar\": {\"outlinewidth\": 0, \"ticks\": \"\"}}, \"marker\": {\"colorbar\": {\"outlinewidth\": 0, \"ticks\": \"\"}}, \"type\": \"scatter3d\"}], \"scattercarpet\": [{\"marker\": {\"colorbar\": {\"outlinewidth\": 0, \"ticks\": \"\"}}, \"type\": \"scattercarpet\"}], \"scattergeo\": [{\"marker\": {\"colorbar\": {\"outlinewidth\": 0, \"ticks\": \"\"}}, \"type\": \"scattergeo\"}], \"scattergl\": [{\"marker\": {\"colorbar\": {\"outlinewidth\": 0, \"ticks\": \"\"}}, \"type\": \"scattergl\"}], \"scattermapbox\": [{\"marker\": {\"colorbar\": {\"outlinewidth\": 0, \"ticks\": \"\"}}, \"type\": \"scattermapbox\"}], \"scatterpolar\": [{\"marker\": {\"colorbar\": {\"outlinewidth\": 0, \"ticks\": \"\"}}, \"type\": \"scatterpolar\"}], \"scatterpolargl\": [{\"marker\": {\"colorbar\": {\"outlinewidth\": 0, \"ticks\": \"\"}}, \"type\": \"scatterpolargl\"}], \"scatterternary\": [{\"marker\": {\"colorbar\": {\"outlinewidth\": 0, \"ticks\": \"\"}}, \"type\": \"scatterternary\"}], \"surface\": [{\"colorbar\": {\"outlinewidth\": 0, \"ticks\": \"\"}, \"colorscale\": [[0.0, \"#0d0887\"], [0.1111111111111111, \"#46039f\"], [0.2222222222222222, \"#7201a8\"], [0.3333333333333333, \"#9c179e\"], [0.4444444444444444, \"#bd3786\"], [0.5555555555555556, \"#d8576b\"], [0.6666666666666666, \"#ed7953\"], [0.7777777777777778, \"#fb9f3a\"], [0.8888888888888888, \"#fdca26\"], [1.0, \"#f0f921\"]], \"type\": \"surface\"}], \"table\": [{\"cells\": {\"fill\": {\"color\": \"#EBF0F8\"}, \"line\": {\"color\": \"white\"}}, \"header\": {\"fill\": {\"color\": \"#C8D4E3\"}, \"line\": {\"color\": \"white\"}}, \"type\": \"table\"}]}, \"layout\": {\"annotationdefaults\": {\"arrowcolor\": \"#2a3f5f\", \"arrowhead\": 0, \"arrowwidth\": 1}, \"coloraxis\": {\"colorbar\": {\"outlinewidth\": 0, \"ticks\": \"\"}}, \"colorscale\": {\"diverging\": [[0, \"#8e0152\"], [0.1, \"#c51b7d\"], [0.2, \"#de77ae\"], [0.3, \"#f1b6da\"], [0.4, \"#fde0ef\"], [0.5, \"#f7f7f7\"], [0.6, \"#e6f5d0\"], [0.7, \"#b8e186\"], [0.8, \"#7fbc41\"], [0.9, \"#4d9221\"], [1, \"#276419\"]], \"sequential\": [[0.0, \"#0d0887\"], [0.1111111111111111, \"#46039f\"], [0.2222222222222222, \"#7201a8\"], [0.3333333333333333, \"#9c179e\"], [0.4444444444444444, \"#bd3786\"], [0.5555555555555556, \"#d8576b\"], [0.6666666666666666, \"#ed7953\"], [0.7777777777777778, \"#fb9f3a\"], [0.8888888888888888, \"#fdca26\"], [1.0, \"#f0f921\"]], \"sequentialminus\": [[0.0, \"#0d0887\"], [0.1111111111111111, \"#46039f\"], [0.2222222222222222, \"#7201a8\"], [0.3333333333333333, \"#9c179e\"], [0.4444444444444444, \"#bd3786\"], [0.5555555555555556, \"#d8576b\"], [0.6666666666666666, \"#ed7953\"], [0.7777777777777778, \"#fb9f3a\"], [0.8888888888888888, \"#fdca26\"], [1.0, \"#f0f921\"]]}, \"colorway\": [\"#636efa\", \"#EF553B\", \"#00cc96\", \"#ab63fa\", \"#FFA15A\", \"#19d3f3\", \"#FF6692\", \"#B6E880\", \"#FF97FF\", \"#FECB52\"], \"font\": {\"color\": \"#2a3f5f\"}, \"geo\": {\"bgcolor\": \"white\", \"lakecolor\": \"white\", \"landcolor\": \"#E5ECF6\", \"showlakes\": true, \"showland\": true, \"subunitcolor\": \"white\"}, \"hoverlabel\": {\"align\": \"left\"}, \"hovermode\": \"closest\", \"mapbox\": {\"style\": \"light\"}, \"paper_bgcolor\": \"white\", \"plot_bgcolor\": \"#E5ECF6\", \"polar\": {\"angularaxis\": {\"gridcolor\": \"white\", \"linecolor\": \"white\", \"ticks\": \"\"}, \"bgcolor\": \"#E5ECF6\", \"radialaxis\": {\"gridcolor\": \"white\", \"linecolor\": \"white\", \"ticks\": \"\"}}, \"scene\": {\"xaxis\": {\"backgroundcolor\": \"#E5ECF6\", \"gridcolor\": \"white\", \"gridwidth\": 2, \"linecolor\": \"white\", \"showbackground\": true, \"ticks\": \"\", \"zerolinecolor\": \"white\"}, \"yaxis\": {\"backgroundcolor\": \"#E5ECF6\", \"gridcolor\": \"white\", \"gridwidth\": 2, \"linecolor\": \"white\", \"showbackground\": true, \"ticks\": \"\", \"zerolinecolor\": \"white\"}, \"zaxis\": {\"backgroundcolor\": \"#E5ECF6\", \"gridcolor\": \"white\", \"gridwidth\": 2, \"linecolor\": \"white\", \"showbackground\": true, \"ticks\": \"\", \"zerolinecolor\": \"white\"}}, \"shapedefaults\": {\"line\": {\"color\": \"#2a3f5f\"}}, \"ternary\": {\"aaxis\": {\"gridcolor\": \"white\", \"linecolor\": \"white\", \"ticks\": \"\"}, \"baxis\": {\"gridcolor\": \"white\", \"linecolor\": \"white\", \"ticks\": \"\"}, \"bgcolor\": \"#E5ECF6\", \"caxis\": {\"gridcolor\": \"white\", \"linecolor\": \"white\", \"ticks\": \"\"}}, \"title\": {\"x\": 0.05}, \"xaxis\": {\"automargin\": true, \"gridcolor\": \"white\", \"linecolor\": \"white\", \"ticks\": \"\", \"title\": {\"standoff\": 15}, \"zerolinecolor\": \"white\", \"zerolinewidth\": 2}, \"yaxis\": {\"automargin\": true, \"gridcolor\": \"white\", \"linecolor\": \"white\", \"ticks\": \"\", \"title\": {\"standoff\": 15}, \"zerolinecolor\": \"white\", \"zerolinewidth\": 2}}}, \"title\": {\"text\": \"BMI vs Outcome\"}, \"xaxis\": {\"title\": {\"text\": \"BMI\"}, \"zeroline\": false}, \"yaxis\": {\"title\": {\"text\": \"Outcome\"}, \"zeroline\": false}},\n",
       "                        {\"responsive\": true}\n",
       "                    ).then(function(){\n",
       "                            \n",
       "var gd = document.getElementById('80387db1-4ddc-4551-b1f4-1f703b10b07d');\n",
       "var x = new MutationObserver(function (mutations, observer) {{\n",
       "        var display = window.getComputedStyle(gd).display;\n",
       "        if (!display || display === 'none') {{\n",
       "            console.log([gd, 'removed!']);\n",
       "            Plotly.purge(gd);\n",
       "            observer.disconnect();\n",
       "        }}\n",
       "}});\n",
       "\n",
       "// Listen for the removal of the full notebook cells\n",
       "var notebookContainer = gd.closest('#notebook-container');\n",
       "if (notebookContainer) {{\n",
       "    x.observe(notebookContainer, {childList: true});\n",
       "}}\n",
       "\n",
       "// Listen for the clearing of the current output cell\n",
       "var outputEl = gd.closest('.output');\n",
       "if (outputEl) {{\n",
       "    x.observe(outputEl, {childList: true});\n",
       "}}\n",
       "\n",
       "                        })\n",
       "                };\n",
       "                \n",
       "            </script>\n",
       "        </div>\n",
       "</body>\n",
       "</html>"
      ]
     },
     "metadata": {
      "tags": []
     },
     "output_type": "display_data"
    }
   ],
   "source": [
    "# one line of code"
   ]
  },
  {
   "cell_type": "markdown",
   "metadata": {
    "colab_type": "text",
    "id": "wHcfGLP0UHFP"
   },
   "source": [
    "11. Represents 'Pregnancies' vs 'Age'\n",
    "---"
   ]
  },
  {
   "cell_type": "code",
   "execution_count": 0,
   "metadata": {
    "colab": {
     "base_uri": "https://localhost:8080/",
     "height": 542
    },
    "colab_type": "code",
    "id": "MQgEQzErji9Q",
    "outputId": "5917f754-76f1-475c-8a51-04a843ae9d08"
   },
   "outputs": [
    {
     "data": {
      "text/html": [
       "<html>\n",
       "<head><meta charset=\"utf-8\" /></head>\n",
       "<body>\n",
       "    <div>\n",
       "            <script src=\"https://cdnjs.cloudflare.com/ajax/libs/mathjax/2.7.5/MathJax.js?config=TeX-AMS-MML_SVG\"></script><script type=\"text/javascript\">if (window.MathJax) {MathJax.Hub.Config({SVG: {font: \"STIX-Web\"}});}</script>\n",
       "                <script type=\"text/javascript\">window.PlotlyConfig = {MathJaxConfig: 'local'};</script>\n",
       "        <script src=\"https://cdn.plot.ly/plotly-latest.min.js\"></script>    \n",
       "            <div id=\"c0a6d592-0300-4145-8bd2-c601bf618acc\" class=\"plotly-graph-div\" style=\"height:525px; width:100%;\"></div>\n",
       "            <script type=\"text/javascript\">\n",
       "                \n",
       "                    window.PLOTLYENV=window.PLOTLYENV || {};\n",
       "                    \n",
       "                if (document.getElementById(\"c0a6d592-0300-4145-8bd2-c601bf618acc\")) {\n",
       "                    Plotly.newPlot(\n",
       "                        'c0a6d592-0300-4145-8bd2-c601bf618acc',\n",
       "                        [{\"marker\": {\"color\": \"#FFD700\", \"line\": {\"width\": 1}}, \"mode\": \"markers\", \"name\": \"diabetic\", \"type\": \"scatter\", \"x\": [6, 8, 0, 3, 2, 8, 10, 1, 5, 7, 0, 7, 1, 7, 9, 11, 10, 7, 3, 9, 2, 4, 9, 0, 7, 8, 7, 8, 7, 0, 2, 13, 0, 5, 15, 4, 1, 1, 0, 3, 8, 7, 4, 5, 0, 0, 1, 1, 0, 4, 9, 3, 10, 9, 8, 7, 17, 0, 6, 6, 6, 8, 0, 5, 7, 8, 1, 8, 5, 7, 11, 5, 3, 4, 4, 8, 5, 7, 0, 9, 12, 5, 5, 5, 0, 2, 3, 4, 6, 4, 7, 0, 9, 3, 6, 9, 12, 1, 11, 3, 4, 0, 2, 10, 7, 0, 7, 2, 1, 0, 2, 1, 2, 14, 0, 2, 5, 10, 0, 2, 2, 7, 3, 6, 3, 0, 13, 1, 2, 1, 5, 9, 7, 5, 9, 1, 13, 1, 5, 4, 6, 1, 3, 12, 4, 5, 8, 5, 5, 4, 0, 3, 4, 5, 5, 4, 8, 1, 0, 3, 4, 3, 8, 4, 1, 1, 0, 0, 8, 4, 0, 0, 2, 14, 10, 8, 2, 3, 0, 0, 4, 7, 6, 0, 12, 3, 9, 9, 4, 3, 8, 3, 10, 8, 5, 6, 0, 0, 2, 2, 0, 8, 8, 3, 11, 3, 0, 1, 7, 4, 1, 3, 7, 11, 9, 0, 7, 13, 7, 6, 1, 0, 11, 2, 3, 1, 8, 9, 6, 4, 10, 6, 9, 3, 0, 4, 1, 13, 7, 7, 3, 6, 1, 10, 9, 2, 10, 7, 3, 5, 1, 3, 8, 2, 1, 11, 9, 1, 3, 6, 4, 0, 8, 1, 0, 6, 9, 1], \"y\": [50, 32, 33, 26, 53, 54, 34, 59, 51, 32, 31, 31, 32, 41, 29, 51, 41, 43, 28, 46, 27, 56, 54, 25, 31, 58, 41, 39, 42, 38, 28, 42, 26, 37, 43, 60, 31, 33, 24, 24, 46, 39, 61, 38, 25, 23, 26, 40, 62, 33, 33, 30, 42, 42, 43, 36, 47, 32, 41, 36, 29, 36, 26, 37, 41, 60, 33, 31, 25, 36, 40, 29, 23, 26, 29, 57, 52, 41, 24, 36, 38, 25, 32, 41, 21, 66, 24, 22, 46, 26, 51, 23, 32, 22, 33, 49, 44, 21, 51, 27, 35, 25, 28, 38, 29, 28, 47, 52, 29, 25, 31, 24, 29, 46, 30, 25, 28, 47, 25, 30, 27, 43, 29, 59, 25, 36, 43, 30, 23, 41, 44, 33, 41, 37, 49, 28, 44, 29, 29, 67, 29, 45, 25, 58, 32, 35, 45, 58, 27, 31, 22, 25, 31, 35, 41, 46, 39, 28, 21, 22, 37, 28, 36, 31, 38, 43, 29, 41, 33, 30, 25, 22, 23, 38, 51, 38, 29, 35, 31, 24, 45, 55, 41, 35, 46, 28, 53, 45, 23, 32, 43, 27, 56, 37, 53, 54, 28, 33, 21, 62, 21, 52, 41, 52, 45, 44, 22, 38, 54, 36, 22, 36, 40, 50, 50, 24, 34, 38, 32, 50, 33, 22, 42, 25, 27, 22, 43, 40, 40, 70, 40, 31, 53, 25, 26, 27, 46, 44, 43, 43, 31, 49, 52, 30, 45, 23, 38, 34, 31, 52, 42, 34, 22, 24, 42, 48, 45, 27, 36, 50, 22, 26, 45, 37, 52, 66, 43, 47]}, {\"marker\": {\"color\": \"#7EC0EE\", \"line\": {\"width\": 1}}, \"mode\": \"markers\", \"name\": \"healthy\", \"type\": \"scatter\", \"x\": [1, 1, 5, 10, 4, 10, 1, 3, 8, 1, 13, 5, 5, 3, 6, 10, 4, 11, 3, 7, 7, 7, 1, 2, 7, 1, 1, 5, 7, 1, 0, 0, 0, 2, 5, 2, 5, 2, 1, 4, 5, 4, 1, 1, 7, 5, 2, 3, 2, 7, 0, 2, 13, 2, 1, 1, 4, 7, 2, 6, 2, 1, 6, 1, 0, 1, 2, 1, 1, 4, 3, 1, 4, 5, 4, 4, 6, 2, 5, 3, 1, 8, 2, 2, 0, 0, 0, 5, 3, 5, 2, 4, 0, 9, 2, 5, 2, 1, 4, 1, 2, 1, 2, 4, 7, 0, 2, 3, 4, 4, 3, 2, 1, 2, 6, 5, 6, 0, 1, 5, 4, 3, 9, 8, 1, 0, 1, 0, 2, 6, 5, 1, 2, 0, 7, 6, 7, 7, 1, 1, 0, 4, 0, 1, 4, 3, 0, 1, 4, 2, 10, 0, 9, 1, 9, 2, 2, 0, 3, 2, 1, 3, 4, 3, 5, 2, 0, 2, 3, 1, 13, 2, 0, 5, 2, 10, 7, 7, 5, 4, 5, 0, 0, 6, 0, 8, 5, 3, 2, 0, 6, 0, 3, 2, 3, 3, 4, 2, 1, 10, 6, 8, 2, 12, 1, 0, 0, 1, 1, 1, 5, 8, 8, 1, 3, 3, 4, 4, 3, 1, 3, 12, 5, 5, 4, 5, 0, 3, 0, 0, 2, 2, 0, 1, 0, 1, 0, 1, 1, 1, 1, 3, 1, 1, 4, 2, 3, 3, 6, 9, 2, 0, 6, 1, 1, 1, 1, 1, 1, 2, 0, 2, 0, 0, 2, 3, 1, 2, 1, 12, 5, 1, 6, 2, 4, 1, 0, 0, 1, 0, 2, 2, 1, 5, 9, 9, 1, 8, 5, 10, 0, 0, 0, 6, 1, 0, 0, 7, 4, 0, 7, 8, 4, 0, 4, 0, 1, 0, 4, 8, 2, 2, 4, 3, 6, 5, 2, 6, 2, 3, 7, 3, 10, 1, 2, 8, 0, 9, 2, 3, 7, 13, 6, 2, 3, 6, 3, 3, 1, 3, 0, 0, 2, 0, 1, 6, 1, 0, 0, 0, 4, 1, 4, 1, 4, 1, 3, 6, 1, 1, 7, 1, 8, 11, 11, 1, 6, 0, 2, 1, 6, 4, 3, 2, 3, 2, 1, 1, 6, 10, 6, 12, 8, 1, 6, 0, 2, 2, 6, 0, 1, 1, 1, 6, 1, 1, 1, 0, 1, 3, 6, 3, 6, 2, 2, 2, 6, 0, 2, 4, 0, 0, 5, 4, 0, 2, 1, 10, 5, 2, 1, 0, 4, 4, 3, 2, 0, 1, 1, 5, 2, 1, 2, 1, 11, 10, 1, 6, 9, 6, 1, 10, 3, 8, 0, 2, 2, 0, 5, 2, 3, 1, 1, 8, 2, 2, 0, 4, 4, 2, 2, 4, 6, 2, 3, 5, 0, 3, 10, 1, 4, 1, 5, 1, 4, 1, 0, 2, 2, 2, 2, 4, 0, 8, 2, 3, 1, 13, 12, 1, 1, 3, 7, 1, 2, 9, 10, 2, 5, 1], \"y\": [31, 21, 30, 29, 30, 57, 33, 27, 50, 22, 57, 38, 60, 22, 28, 45, 33, 35, 26, 37, 48, 40, 29, 22, 24, 22, 26, 30, 42, 21, 31, 44, 22, 21, 36, 24, 32, 54, 25, 27, 26, 23, 22, 22, 41, 27, 24, 22, 22, 36, 22, 27, 45, 26, 24, 21, 34, 42, 21, 40, 24, 22, 23, 22, 21, 24, 27, 21, 27, 37, 25, 23, 25, 25, 22, 21, 24, 23, 69, 30, 23, 39, 26, 31, 21, 22, 29, 28, 55, 38, 22, 23, 21, 41, 34, 65, 22, 24, 37, 23, 21, 23, 22, 36, 45, 27, 21, 22, 34, 29, 29, 25, 23, 33, 42, 47, 32, 23, 21, 27, 40, 21, 40, 42, 21, 21, 28, 32, 27, 55, 27, 21, 25, 24, 60, 32, 37, 61, 26, 22, 26, 31, 24, 22, 29, 23, 27, 21, 22, 29, 41, 23, 34, 23, 42, 27, 24, 25, 30, 25, 24, 34, 24, 63, 43, 24, 21, 21, 40, 21, 52, 25, 23, 57, 22, 39, 37, 51, 34, 26, 33, 21, 65, 28, 24, 58, 35, 37, 29, 21, 41, 22, 25, 26, 30, 28, 31, 21, 24, 37, 37, 46, 25, 44, 22, 26, 44, 22, 36, 22, 33, 57, 49, 22, 23, 26, 29, 30, 46, 24, 21, 48, 63, 65, 30, 30, 21, 22, 21, 21, 25, 28, 22, 22, 35, 24, 22, 21, 25, 25, 24, 28, 42, 21, 37, 25, 39, 25, 55, 38, 26, 25, 28, 25, 22, 21, 22, 27, 26, 21, 21, 21, 25, 26, 23, 38, 22, 29, 36, 41, 28, 21, 31, 22, 24, 28, 26, 26, 23, 25, 72, 24, 62, 24, 81, 48, 26, 39, 37, 34, 21, 22, 25, 27, 28, 22, 22, 50, 24, 59, 31, 39, 63, 29, 28, 23, 21, 58, 28, 67, 24, 42, 33, 22, 66, 30, 25, 39, 21, 28, 41, 40, 38, 21, 21, 64, 21, 58, 22, 24, 51, 41, 60, 25, 26, 26, 24, 21, 21, 24, 22, 31, 22, 24, 29, 31, 24, 46, 67, 23, 25, 29, 28, 50, 37, 21, 25, 66, 23, 28, 37, 30, 58, 42, 35, 24, 32, 27, 22, 21, 46, 37, 39, 21, 22, 22, 23, 25, 35, 36, 27, 62, 42, 22, 29, 25, 24, 25, 34, 46, 21, 26, 24, 28, 30, 21, 25, 27, 23, 24, 26, 27, 30, 23, 28, 28, 45, 21, 21, 29, 21, 21, 45, 21, 24, 23, 22, 31, 48, 23, 28, 27, 24, 31, 27, 30, 23, 23, 27, 28, 27, 22, 22, 41, 51, 54, 24, 43, 45, 49, 21, 47, 22, 68, 25, 23, 22, 22, 69, 25, 22, 29, 23, 34, 23, 25, 22, 28, 26, 26, 41, 27, 28, 22, 24, 40, 21, 32, 56, 24, 34, 21, 42, 45, 38, 25, 22, 22, 22, 22, 53, 28, 21, 42, 21, 26, 22, 39, 46, 32, 28, 25, 39, 26, 22, 33, 63, 27, 30, 23]}],\n",
       "                        {\"template\": {\"data\": {\"bar\": [{\"error_x\": {\"color\": \"#2a3f5f\"}, \"error_y\": {\"color\": \"#2a3f5f\"}, \"marker\": {\"line\": {\"color\": \"#E5ECF6\", \"width\": 0.5}}, \"type\": \"bar\"}], \"barpolar\": [{\"marker\": {\"line\": {\"color\": \"#E5ECF6\", \"width\": 0.5}}, \"type\": \"barpolar\"}], \"carpet\": [{\"aaxis\": {\"endlinecolor\": \"#2a3f5f\", \"gridcolor\": \"white\", \"linecolor\": \"white\", \"minorgridcolor\": \"white\", \"startlinecolor\": \"#2a3f5f\"}, \"baxis\": {\"endlinecolor\": \"#2a3f5f\", \"gridcolor\": \"white\", \"linecolor\": \"white\", \"minorgridcolor\": \"white\", \"startlinecolor\": \"#2a3f5f\"}, \"type\": \"carpet\"}], \"choropleth\": [{\"colorbar\": {\"outlinewidth\": 0, \"ticks\": \"\"}, \"type\": \"choropleth\"}], \"contour\": [{\"colorbar\": {\"outlinewidth\": 0, \"ticks\": \"\"}, \"colorscale\": [[0.0, \"#0d0887\"], [0.1111111111111111, \"#46039f\"], [0.2222222222222222, \"#7201a8\"], [0.3333333333333333, \"#9c179e\"], [0.4444444444444444, \"#bd3786\"], [0.5555555555555556, \"#d8576b\"], [0.6666666666666666, \"#ed7953\"], [0.7777777777777778, \"#fb9f3a\"], [0.8888888888888888, \"#fdca26\"], [1.0, \"#f0f921\"]], \"type\": \"contour\"}], \"contourcarpet\": [{\"colorbar\": {\"outlinewidth\": 0, \"ticks\": \"\"}, \"type\": \"contourcarpet\"}], \"heatmap\": [{\"colorbar\": {\"outlinewidth\": 0, \"ticks\": \"\"}, \"colorscale\": [[0.0, \"#0d0887\"], [0.1111111111111111, \"#46039f\"], [0.2222222222222222, \"#7201a8\"], [0.3333333333333333, \"#9c179e\"], [0.4444444444444444, \"#bd3786\"], [0.5555555555555556, \"#d8576b\"], [0.6666666666666666, \"#ed7953\"], [0.7777777777777778, \"#fb9f3a\"], [0.8888888888888888, \"#fdca26\"], [1.0, \"#f0f921\"]], \"type\": \"heatmap\"}], \"heatmapgl\": [{\"colorbar\": {\"outlinewidth\": 0, \"ticks\": \"\"}, \"colorscale\": [[0.0, \"#0d0887\"], [0.1111111111111111, \"#46039f\"], [0.2222222222222222, \"#7201a8\"], [0.3333333333333333, \"#9c179e\"], [0.4444444444444444, \"#bd3786\"], [0.5555555555555556, \"#d8576b\"], [0.6666666666666666, \"#ed7953\"], [0.7777777777777778, \"#fb9f3a\"], [0.8888888888888888, \"#fdca26\"], [1.0, \"#f0f921\"]], \"type\": \"heatmapgl\"}], \"histogram\": [{\"marker\": {\"colorbar\": {\"outlinewidth\": 0, \"ticks\": \"\"}}, \"type\": \"histogram\"}], \"histogram2d\": [{\"colorbar\": {\"outlinewidth\": 0, \"ticks\": \"\"}, \"colorscale\": [[0.0, \"#0d0887\"], [0.1111111111111111, \"#46039f\"], [0.2222222222222222, \"#7201a8\"], [0.3333333333333333, \"#9c179e\"], [0.4444444444444444, \"#bd3786\"], [0.5555555555555556, \"#d8576b\"], [0.6666666666666666, \"#ed7953\"], [0.7777777777777778, \"#fb9f3a\"], [0.8888888888888888, \"#fdca26\"], [1.0, \"#f0f921\"]], \"type\": \"histogram2d\"}], \"histogram2dcontour\": [{\"colorbar\": {\"outlinewidth\": 0, \"ticks\": \"\"}, \"colorscale\": [[0.0, \"#0d0887\"], [0.1111111111111111, \"#46039f\"], [0.2222222222222222, \"#7201a8\"], [0.3333333333333333, \"#9c179e\"], [0.4444444444444444, \"#bd3786\"], [0.5555555555555556, \"#d8576b\"], [0.6666666666666666, \"#ed7953\"], [0.7777777777777778, \"#fb9f3a\"], [0.8888888888888888, \"#fdca26\"], [1.0, \"#f0f921\"]], \"type\": \"histogram2dcontour\"}], \"mesh3d\": [{\"colorbar\": {\"outlinewidth\": 0, \"ticks\": \"\"}, \"type\": \"mesh3d\"}], \"parcoords\": [{\"line\": {\"colorbar\": {\"outlinewidth\": 0, \"ticks\": \"\"}}, \"type\": \"parcoords\"}], \"pie\": [{\"automargin\": true, \"type\": \"pie\"}], \"scatter\": [{\"marker\": {\"colorbar\": {\"outlinewidth\": 0, \"ticks\": \"\"}}, \"type\": \"scatter\"}], \"scatter3d\": [{\"line\": {\"colorbar\": {\"outlinewidth\": 0, \"ticks\": \"\"}}, \"marker\": {\"colorbar\": {\"outlinewidth\": 0, \"ticks\": \"\"}}, \"type\": \"scatter3d\"}], \"scattercarpet\": [{\"marker\": {\"colorbar\": {\"outlinewidth\": 0, \"ticks\": \"\"}}, \"type\": \"scattercarpet\"}], \"scattergeo\": [{\"marker\": {\"colorbar\": {\"outlinewidth\": 0, \"ticks\": \"\"}}, \"type\": \"scattergeo\"}], \"scattergl\": [{\"marker\": {\"colorbar\": {\"outlinewidth\": 0, \"ticks\": \"\"}}, \"type\": \"scattergl\"}], \"scattermapbox\": [{\"marker\": {\"colorbar\": {\"outlinewidth\": 0, \"ticks\": \"\"}}, \"type\": \"scattermapbox\"}], \"scatterpolar\": [{\"marker\": {\"colorbar\": {\"outlinewidth\": 0, \"ticks\": \"\"}}, \"type\": \"scatterpolar\"}], \"scatterpolargl\": [{\"marker\": {\"colorbar\": {\"outlinewidth\": 0, \"ticks\": \"\"}}, \"type\": \"scatterpolargl\"}], \"scatterternary\": [{\"marker\": {\"colorbar\": {\"outlinewidth\": 0, \"ticks\": \"\"}}, \"type\": \"scatterternary\"}], \"surface\": [{\"colorbar\": {\"outlinewidth\": 0, \"ticks\": \"\"}, \"colorscale\": [[0.0, \"#0d0887\"], [0.1111111111111111, \"#46039f\"], [0.2222222222222222, \"#7201a8\"], [0.3333333333333333, \"#9c179e\"], [0.4444444444444444, \"#bd3786\"], [0.5555555555555556, \"#d8576b\"], [0.6666666666666666, \"#ed7953\"], [0.7777777777777778, \"#fb9f3a\"], [0.8888888888888888, \"#fdca26\"], [1.0, \"#f0f921\"]], \"type\": \"surface\"}], \"table\": [{\"cells\": {\"fill\": {\"color\": \"#EBF0F8\"}, \"line\": {\"color\": \"white\"}}, \"header\": {\"fill\": {\"color\": \"#C8D4E3\"}, \"line\": {\"color\": \"white\"}}, \"type\": \"table\"}]}, \"layout\": {\"annotationdefaults\": {\"arrowcolor\": \"#2a3f5f\", \"arrowhead\": 0, \"arrowwidth\": 1}, \"coloraxis\": {\"colorbar\": {\"outlinewidth\": 0, \"ticks\": \"\"}}, \"colorscale\": {\"diverging\": [[0, \"#8e0152\"], [0.1, \"#c51b7d\"], [0.2, \"#de77ae\"], [0.3, \"#f1b6da\"], [0.4, \"#fde0ef\"], [0.5, \"#f7f7f7\"], [0.6, \"#e6f5d0\"], [0.7, \"#b8e186\"], [0.8, \"#7fbc41\"], [0.9, \"#4d9221\"], [1, \"#276419\"]], \"sequential\": [[0.0, \"#0d0887\"], [0.1111111111111111, \"#46039f\"], [0.2222222222222222, \"#7201a8\"], [0.3333333333333333, \"#9c179e\"], [0.4444444444444444, \"#bd3786\"], [0.5555555555555556, \"#d8576b\"], [0.6666666666666666, \"#ed7953\"], [0.7777777777777778, \"#fb9f3a\"], [0.8888888888888888, \"#fdca26\"], [1.0, \"#f0f921\"]], \"sequentialminus\": [[0.0, \"#0d0887\"], [0.1111111111111111, \"#46039f\"], [0.2222222222222222, \"#7201a8\"], [0.3333333333333333, \"#9c179e\"], [0.4444444444444444, \"#bd3786\"], [0.5555555555555556, \"#d8576b\"], [0.6666666666666666, \"#ed7953\"], [0.7777777777777778, \"#fb9f3a\"], [0.8888888888888888, \"#fdca26\"], [1.0, \"#f0f921\"]]}, \"colorway\": [\"#636efa\", \"#EF553B\", \"#00cc96\", \"#ab63fa\", \"#FFA15A\", \"#19d3f3\", \"#FF6692\", \"#B6E880\", \"#FF97FF\", \"#FECB52\"], \"font\": {\"color\": \"#2a3f5f\"}, \"geo\": {\"bgcolor\": \"white\", \"lakecolor\": \"white\", \"landcolor\": \"#E5ECF6\", \"showlakes\": true, \"showland\": true, \"subunitcolor\": \"white\"}, \"hoverlabel\": {\"align\": \"left\"}, \"hovermode\": \"closest\", \"mapbox\": {\"style\": \"light\"}, \"paper_bgcolor\": \"white\", \"plot_bgcolor\": \"#E5ECF6\", \"polar\": {\"angularaxis\": {\"gridcolor\": \"white\", \"linecolor\": \"white\", \"ticks\": \"\"}, \"bgcolor\": \"#E5ECF6\", \"radialaxis\": {\"gridcolor\": \"white\", \"linecolor\": \"white\", \"ticks\": \"\"}}, \"scene\": {\"xaxis\": {\"backgroundcolor\": \"#E5ECF6\", \"gridcolor\": \"white\", \"gridwidth\": 2, \"linecolor\": \"white\", \"showbackground\": true, \"ticks\": \"\", \"zerolinecolor\": \"white\"}, \"yaxis\": {\"backgroundcolor\": \"#E5ECF6\", \"gridcolor\": \"white\", \"gridwidth\": 2, \"linecolor\": \"white\", \"showbackground\": true, \"ticks\": \"\", \"zerolinecolor\": \"white\"}, \"zaxis\": {\"backgroundcolor\": \"#E5ECF6\", \"gridcolor\": \"white\", \"gridwidth\": 2, \"linecolor\": \"white\", \"showbackground\": true, \"ticks\": \"\", \"zerolinecolor\": \"white\"}}, \"shapedefaults\": {\"line\": {\"color\": \"#2a3f5f\"}}, \"ternary\": {\"aaxis\": {\"gridcolor\": \"white\", \"linecolor\": \"white\", \"ticks\": \"\"}, \"baxis\": {\"gridcolor\": \"white\", \"linecolor\": \"white\", \"ticks\": \"\"}, \"bgcolor\": \"#E5ECF6\", \"caxis\": {\"gridcolor\": \"white\", \"linecolor\": \"white\", \"ticks\": \"\"}}, \"title\": {\"x\": 0.05}, \"xaxis\": {\"automargin\": true, \"gridcolor\": \"white\", \"linecolor\": \"white\", \"ticks\": \"\", \"title\": {\"standoff\": 15}, \"zerolinecolor\": \"white\", \"zerolinewidth\": 2}, \"yaxis\": {\"automargin\": true, \"gridcolor\": \"white\", \"linecolor\": \"white\", \"ticks\": \"\", \"title\": {\"standoff\": 15}, \"zerolinecolor\": \"white\", \"zerolinewidth\": 2}}}, \"title\": {\"text\": \"Pregnancies vs Age\"}, \"xaxis\": {\"title\": {\"text\": \"Pregnancies\"}, \"zeroline\": false}, \"yaxis\": {\"title\": {\"text\": \"Age\"}, \"zeroline\": false}},\n",
       "                        {\"responsive\": true}\n",
       "                    ).then(function(){\n",
       "                            \n",
       "var gd = document.getElementById('c0a6d592-0300-4145-8bd2-c601bf618acc');\n",
       "var x = new MutationObserver(function (mutations, observer) {{\n",
       "        var display = window.getComputedStyle(gd).display;\n",
       "        if (!display || display === 'none') {{\n",
       "            console.log([gd, 'removed!']);\n",
       "            Plotly.purge(gd);\n",
       "            observer.disconnect();\n",
       "        }}\n",
       "}});\n",
       "\n",
       "// Listen for the removal of the full notebook cells\n",
       "var notebookContainer = gd.closest('#notebook-container');\n",
       "if (notebookContainer) {{\n",
       "    x.observe(notebookContainer, {childList: true});\n",
       "}}\n",
       "\n",
       "// Listen for the clearing of the current output cell\n",
       "var outputEl = gd.closest('.output');\n",
       "if (outputEl) {{\n",
       "    x.observe(outputEl, {childList: true});\n",
       "}}\n",
       "\n",
       "                        })\n",
       "                };\n",
       "                \n",
       "            </script>\n",
       "        </div>\n",
       "</body>\n",
       "</html>"
      ]
     },
     "metadata": {
      "tags": []
     },
     "output_type": "display_data"
    }
   ],
   "source": [
    "# one line of code\n"
   ]
  },
  {
   "cell_type": "markdown",
   "metadata": {
    "colab_type": "text",
    "id": "EkZUE4yMUfh_"
   },
   "source": [
    "12. Represents 'Glucose' vs 'BloodPressure'. What is your relationship?\n",
    "---\n",
    "---\n"
   ]
  },
  {
   "cell_type": "code",
   "execution_count": 0,
   "metadata": {
    "colab": {
     "base_uri": "https://localhost:8080/",
     "height": 542
    },
    "colab_type": "code",
    "id": "Gr3XtT69ji9d",
    "outputId": "c661b9ba-ebe5-4711-d384-2dc8f75739f7"
   },
   "outputs": [
    {
     "data": {
      "text/html": [
       "<html>\n",
       "<head><meta charset=\"utf-8\" /></head>\n",
       "<body>\n",
       "    <div>\n",
       "            <script src=\"https://cdnjs.cloudflare.com/ajax/libs/mathjax/2.7.5/MathJax.js?config=TeX-AMS-MML_SVG\"></script><script type=\"text/javascript\">if (window.MathJax) {MathJax.Hub.Config({SVG: {font: \"STIX-Web\"}});}</script>\n",
       "                <script type=\"text/javascript\">window.PlotlyConfig = {MathJaxConfig: 'local'};</script>\n",
       "        <script src=\"https://cdn.plot.ly/plotly-latest.min.js\"></script>    \n",
       "            <div id=\"f1c66eef-c9a3-490c-b61c-0148cd49ccb2\" class=\"plotly-graph-div\" style=\"height:525px; width:100%;\"></div>\n",
       "            <script type=\"text/javascript\">\n",
       "                \n",
       "                    window.PLOTLYENV=window.PLOTLYENV || {};\n",
       "                    \n",
       "                if (document.getElementById(\"f1c66eef-c9a3-490c-b61c-0148cd49ccb2\")) {\n",
       "                    Plotly.newPlot(\n",
       "                        'f1c66eef-c9a3-490c-b61c-0148cd49ccb2',\n",
       "                        [{\"marker\": {\"color\": \"#FFD700\", \"line\": {\"width\": 1}}, \"mode\": \"markers\", \"name\": \"diabetic\", \"type\": \"scatter\", \"x\": [148, 183, 137, 78, 197, 125, 168, 189, 166, 100, 118, 107, 115, 196, 119, 143, 125, 147, 158, 102, 90, 111, 171, 180, 103, 176, 187, 133, 114, 109, 100, 126, 131, 137, 136, 134, 122, 163, 95, 171, 155, 160, 146, 124, 162, 113, 88, 117, 105, 173, 122, 170, 108, 156, 188, 152, 163, 131, 104, 102, 134, 179, 129, 130, 194, 181, 128, 109, 139, 159, 135, 158, 107, 109, 148, 196, 162, 184, 140, 112, 151, 109, 85, 112, 177, 158, 162, 142, 134, 171, 181, 179, 164, 139, 119, 184, 92, 113, 155, 141, 123, 138, 146, 101, 106, 146, 161, 108, 119, 107, 128, 128, 146, 100, 167, 144, 115, 161, 128, 124, 155, 109, 182, 194, 112, 124, 152, 122, 102, 180, 115, 152, 178, 0, 165, 125, 129, 196, 189, 146, 124, 133, 173, 140, 156, 116, 105, 144, 166, 158, 131, 193, 95, 136, 168, 115, 197, 172, 138, 173, 144, 129, 151, 184, 181, 95, 141, 189, 108, 117, 180, 104, 134, 175, 148, 120, 105, 158, 145, 135, 125, 195, 0, 180, 84, 163, 145, 130, 132, 129, 100, 128, 90, 186, 187, 125, 198, 121, 118, 197, 151, 124, 143, 176, 111, 132, 188, 173, 150, 183, 181, 174, 168, 138, 112, 119, 114, 104, 97, 147, 167, 179, 136, 155, 80, 199, 167, 145, 115, 145, 111, 195, 156, 121, 162, 125, 144, 158, 129, 142, 169, 125, 168, 115, 164, 93, 129, 187, 173, 97, 149, 130, 120, 174, 102, 120, 140, 147, 187, 162, 136, 181, 154, 128, 123, 190, 170, 126], \"y\": [72, 64, 40, 50, 70, 96, 74, 60, 72, 0, 84, 74, 70, 90, 80, 94, 70, 76, 76, 76, 68, 72, 110, 66, 66, 90, 68, 72, 66, 88, 66, 90, 0, 108, 70, 72, 90, 72, 85, 72, 62, 54, 92, 74, 76, 76, 30, 88, 84, 70, 56, 64, 66, 86, 78, 88, 72, 88, 74, 82, 70, 72, 110, 82, 68, 68, 98, 76, 80, 66, 0, 84, 62, 64, 60, 76, 104, 84, 65, 82, 70, 62, 74, 66, 60, 90, 52, 86, 80, 72, 84, 90, 84, 54, 50, 85, 62, 64, 76, 0, 62, 0, 0, 86, 60, 70, 86, 80, 86, 62, 78, 48, 70, 78, 0, 58, 98, 68, 68, 68, 74, 80, 74, 78, 74, 70, 90, 64, 86, 0, 76, 78, 84, 80, 88, 50, 0, 76, 64, 78, 72, 102, 82, 82, 75, 74, 100, 82, 76, 78, 66, 70, 64, 84, 64, 72, 74, 68, 60, 84, 82, 64, 78, 78, 64, 82, 0, 104, 70, 62, 78, 64, 70, 62, 84, 0, 80, 70, 0, 68, 70, 70, 68, 90, 72, 70, 88, 70, 0, 92, 74, 72, 85, 90, 76, 76, 66, 66, 80, 70, 90, 76, 66, 86, 84, 80, 82, 74, 78, 0, 78, 58, 88, 74, 82, 0, 64, 72, 76, 80, 74, 50, 84, 52, 82, 76, 106, 80, 60, 82, 70, 70, 86, 52, 76, 80, 82, 114, 68, 90, 74, 78, 88, 0, 78, 64, 62, 50, 78, 76, 68, 78, 86, 88, 74, 80, 94, 94, 70, 62, 70, 88, 78, 88, 72, 92, 74, 60]}, {\"marker\": {\"color\": \"#7EC0EE\", \"line\": {\"width\": 1}}, \"mode\": \"markers\", \"name\": \"healthy\", \"type\": \"scatter\", \"x\": [85, 89, 116, 115, 110, 139, 103, 126, 99, 97, 145, 117, 109, 88, 92, 122, 103, 138, 180, 133, 106, 159, 146, 71, 105, 103, 101, 88, 150, 73, 100, 146, 105, 84, 44, 141, 99, 109, 95, 146, 139, 129, 79, 0, 62, 95, 112, 113, 74, 83, 101, 110, 106, 100, 107, 80, 123, 81, 142, 144, 92, 71, 93, 151, 125, 81, 85, 126, 96, 144, 83, 89, 76, 78, 97, 99, 111, 107, 132, 120, 118, 84, 96, 125, 100, 93, 129, 105, 128, 106, 108, 154, 102, 57, 106, 147, 90, 136, 114, 153, 99, 109, 88, 151, 102, 114, 100, 148, 120, 110, 111, 87, 79, 75, 85, 143, 87, 119, 0, 73, 141, 111, 123, 85, 105, 113, 138, 108, 99, 103, 111, 96, 81, 147, 179, 125, 119, 142, 100, 87, 101, 197, 117, 79, 122, 74, 104, 91, 91, 146, 122, 165, 124, 111, 106, 129, 90, 86, 111, 114, 193, 191, 95, 142, 96, 128, 102, 108, 122, 71, 106, 100, 104, 114, 108, 129, 133, 136, 155, 96, 108, 78, 161, 151, 126, 112, 77, 150, 120, 137, 80, 106, 113, 112, 99, 115, 129, 112, 157, 179, 105, 118, 87, 106, 95, 165, 117, 130, 95, 0, 122, 95, 126, 139, 116, 99, 92, 137, 61, 90, 90, 88, 158, 103, 147, 99, 101, 81, 118, 84, 105, 122, 98, 87, 93, 107, 105, 109, 90, 125, 119, 100, 100, 131, 116, 127, 96, 82, 137, 72, 123, 101, 102, 112, 143, 143, 97, 83, 119, 94, 102, 115, 94, 135, 99, 89, 80, 139, 90, 140, 147, 97, 107, 83, 117, 100, 95, 120, 82, 91, 119, 100, 135, 86, 134, 120, 71, 74, 88, 115, 124, 74, 97, 154, 144, 137, 119, 136, 114, 137, 114, 126, 132, 123, 85, 84, 139, 173, 99, 194, 83, 89, 99, 80, 166, 110, 81, 154, 117, 84, 94, 96, 75, 130, 84, 120, 139, 91, 91, 99, 125, 76, 129, 68, 124, 114, 125, 87, 97, 116, 117, 111, 122, 107, 86, 91, 77, 105, 57, 127, 84, 88, 131, 164, 189, 116, 84, 114, 88, 84, 124, 97, 110, 103, 85, 87, 99, 91, 95, 99, 92, 154, 78, 130, 111, 98, 143, 119, 108, 133, 109, 121, 100, 93, 103, 73, 112, 82, 123, 67, 89, 109, 108, 96, 124, 124, 92, 152, 111, 106, 105, 106, 117, 68, 112, 92, 183, 94, 108, 90, 125, 132, 128, 94, 102, 111, 128, 92, 104, 94, 100, 102, 128, 90, 103, 157, 107, 91, 117, 123, 120, 106, 101, 120, 127, 162, 112, 98, 154, 165, 99, 68, 123, 91, 93, 101, 56, 95, 136, 129, 130, 107, 140, 107, 121, 90, 99, 127, 118, 122, 129, 110, 80, 127, 158, 126, 134, 102, 94, 108, 83, 114, 117, 111, 112, 116, 141, 175, 92, 106, 105, 95, 126, 65, 99, 102, 109, 153, 100, 81, 121, 108, 137, 106, 88, 89, 101, 122, 121, 93], \"y\": [66, 66, 74, 0, 92, 80, 30, 88, 84, 66, 82, 92, 75, 58, 92, 78, 60, 76, 64, 84, 92, 64, 56, 70, 0, 80, 50, 66, 66, 50, 88, 82, 64, 0, 62, 58, 74, 92, 66, 85, 64, 86, 75, 48, 78, 72, 66, 44, 0, 78, 65, 74, 72, 68, 68, 55, 80, 78, 82, 72, 62, 48, 50, 60, 96, 72, 65, 56, 122, 58, 58, 76, 62, 48, 60, 76, 64, 74, 80, 70, 58, 74, 68, 60, 70, 60, 80, 72, 78, 82, 52, 62, 75, 80, 64, 78, 70, 74, 65, 82, 52, 56, 74, 90, 74, 80, 64, 66, 68, 66, 90, 0, 60, 64, 78, 78, 80, 64, 74, 60, 74, 62, 70, 55, 58, 80, 82, 68, 70, 72, 72, 64, 60, 85, 95, 68, 0, 60, 66, 78, 76, 70, 80, 80, 68, 68, 76, 64, 70, 76, 68, 90, 70, 86, 52, 84, 80, 68, 56, 68, 50, 68, 70, 80, 74, 64, 52, 62, 78, 78, 70, 70, 64, 74, 62, 76, 88, 74, 84, 56, 72, 88, 50, 62, 84, 72, 82, 76, 76, 68, 66, 70, 50, 68, 80, 66, 60, 75, 72, 70, 70, 72, 58, 80, 60, 76, 0, 70, 74, 68, 86, 72, 88, 46, 0, 62, 80, 84, 82, 62, 78, 74, 70, 108, 74, 54, 64, 86, 64, 64, 58, 52, 82, 60, 100, 72, 68, 60, 62, 70, 54, 68, 66, 64, 72, 58, 56, 70, 61, 78, 48, 62, 90, 72, 84, 74, 68, 68, 88, 68, 64, 64, 0, 94, 0, 74, 74, 75, 68, 85, 75, 70, 88, 66, 64, 72, 80, 74, 64, 68, 0, 54, 54, 68, 74, 72, 62, 70, 78, 98, 56, 52, 64, 78, 82, 70, 66, 90, 64, 84, 76, 74, 86, 88, 58, 82, 62, 78, 72, 80, 65, 90, 68, 0, 74, 68, 72, 74, 90, 72, 64, 78, 82, 60, 50, 78, 62, 68, 62, 54, 86, 60, 90, 70, 80, 0, 58, 60, 64, 74, 66, 65, 60, 76, 66, 0, 56, 90, 60, 80, 90, 78, 68, 82, 110, 70, 68, 88, 62, 64, 70, 70, 76, 68, 74, 68, 60, 80, 54, 72, 62, 72, 70, 96, 58, 60, 86, 44, 44, 68, 60, 78, 76, 56, 66, 0, 78, 52, 72, 76, 24, 38, 88, 0, 74, 60, 62, 82, 62, 54, 80, 72, 96, 62, 86, 76, 94, 70, 64, 88, 68, 78, 80, 65, 78, 60, 82, 62, 74, 76, 74, 86, 70, 0, 72, 74, 60, 54, 60, 74, 54, 70, 58, 80, 106, 84, 80, 58, 78, 68, 58, 106, 100, 82, 60, 58, 56, 64, 82, 74, 64, 50, 74, 80, 70, 60, 0, 88, 70, 76, 0, 76, 80, 46, 64, 78, 58, 74, 72, 60, 86, 66, 86, 94, 78, 78, 84, 88, 52, 56, 75, 60, 86, 72, 60, 44, 58, 88, 84, 74, 78, 62, 90, 76, 58, 62, 76, 70, 72, 70]}],\n",
       "                        {\"template\": {\"data\": {\"bar\": [{\"error_x\": {\"color\": \"#2a3f5f\"}, \"error_y\": {\"color\": \"#2a3f5f\"}, \"marker\": {\"line\": {\"color\": \"#E5ECF6\", \"width\": 0.5}}, \"type\": \"bar\"}], \"barpolar\": [{\"marker\": {\"line\": {\"color\": \"#E5ECF6\", \"width\": 0.5}}, \"type\": \"barpolar\"}], \"carpet\": [{\"aaxis\": {\"endlinecolor\": \"#2a3f5f\", \"gridcolor\": \"white\", \"linecolor\": \"white\", \"minorgridcolor\": \"white\", \"startlinecolor\": \"#2a3f5f\"}, \"baxis\": {\"endlinecolor\": \"#2a3f5f\", \"gridcolor\": \"white\", \"linecolor\": \"white\", \"minorgridcolor\": \"white\", \"startlinecolor\": \"#2a3f5f\"}, \"type\": \"carpet\"}], \"choropleth\": [{\"colorbar\": {\"outlinewidth\": 0, \"ticks\": \"\"}, \"type\": \"choropleth\"}], \"contour\": [{\"colorbar\": {\"outlinewidth\": 0, \"ticks\": \"\"}, \"colorscale\": [[0.0, \"#0d0887\"], [0.1111111111111111, \"#46039f\"], [0.2222222222222222, \"#7201a8\"], [0.3333333333333333, \"#9c179e\"], [0.4444444444444444, \"#bd3786\"], [0.5555555555555556, \"#d8576b\"], [0.6666666666666666, \"#ed7953\"], [0.7777777777777778, \"#fb9f3a\"], [0.8888888888888888, \"#fdca26\"], [1.0, \"#f0f921\"]], \"type\": \"contour\"}], \"contourcarpet\": [{\"colorbar\": {\"outlinewidth\": 0, \"ticks\": \"\"}, \"type\": \"contourcarpet\"}], \"heatmap\": [{\"colorbar\": {\"outlinewidth\": 0, \"ticks\": \"\"}, \"colorscale\": [[0.0, \"#0d0887\"], [0.1111111111111111, \"#46039f\"], [0.2222222222222222, \"#7201a8\"], [0.3333333333333333, \"#9c179e\"], [0.4444444444444444, \"#bd3786\"], [0.5555555555555556, \"#d8576b\"], [0.6666666666666666, \"#ed7953\"], [0.7777777777777778, \"#fb9f3a\"], [0.8888888888888888, \"#fdca26\"], [1.0, \"#f0f921\"]], \"type\": \"heatmap\"}], \"heatmapgl\": [{\"colorbar\": {\"outlinewidth\": 0, \"ticks\": \"\"}, \"colorscale\": [[0.0, \"#0d0887\"], [0.1111111111111111, \"#46039f\"], [0.2222222222222222, \"#7201a8\"], [0.3333333333333333, \"#9c179e\"], [0.4444444444444444, \"#bd3786\"], [0.5555555555555556, \"#d8576b\"], [0.6666666666666666, \"#ed7953\"], [0.7777777777777778, \"#fb9f3a\"], [0.8888888888888888, \"#fdca26\"], [1.0, \"#f0f921\"]], \"type\": \"heatmapgl\"}], \"histogram\": [{\"marker\": {\"colorbar\": {\"outlinewidth\": 0, \"ticks\": \"\"}}, \"type\": \"histogram\"}], \"histogram2d\": [{\"colorbar\": {\"outlinewidth\": 0, \"ticks\": \"\"}, \"colorscale\": [[0.0, \"#0d0887\"], [0.1111111111111111, \"#46039f\"], [0.2222222222222222, \"#7201a8\"], [0.3333333333333333, \"#9c179e\"], [0.4444444444444444, \"#bd3786\"], [0.5555555555555556, \"#d8576b\"], [0.6666666666666666, \"#ed7953\"], [0.7777777777777778, \"#fb9f3a\"], [0.8888888888888888, \"#fdca26\"], [1.0, \"#f0f921\"]], \"type\": \"histogram2d\"}], \"histogram2dcontour\": [{\"colorbar\": {\"outlinewidth\": 0, \"ticks\": \"\"}, \"colorscale\": [[0.0, \"#0d0887\"], [0.1111111111111111, \"#46039f\"], [0.2222222222222222, \"#7201a8\"], [0.3333333333333333, \"#9c179e\"], [0.4444444444444444, \"#bd3786\"], [0.5555555555555556, \"#d8576b\"], [0.6666666666666666, \"#ed7953\"], [0.7777777777777778, \"#fb9f3a\"], [0.8888888888888888, \"#fdca26\"], [1.0, \"#f0f921\"]], \"type\": \"histogram2dcontour\"}], \"mesh3d\": [{\"colorbar\": {\"outlinewidth\": 0, \"ticks\": \"\"}, \"type\": \"mesh3d\"}], \"parcoords\": [{\"line\": {\"colorbar\": {\"outlinewidth\": 0, \"ticks\": \"\"}}, \"type\": \"parcoords\"}], \"pie\": [{\"automargin\": true, \"type\": \"pie\"}], \"scatter\": [{\"marker\": {\"colorbar\": {\"outlinewidth\": 0, \"ticks\": \"\"}}, \"type\": \"scatter\"}], \"scatter3d\": [{\"line\": {\"colorbar\": {\"outlinewidth\": 0, \"ticks\": \"\"}}, \"marker\": {\"colorbar\": {\"outlinewidth\": 0, \"ticks\": \"\"}}, \"type\": \"scatter3d\"}], \"scattercarpet\": [{\"marker\": {\"colorbar\": {\"outlinewidth\": 0, \"ticks\": \"\"}}, \"type\": \"scattercarpet\"}], \"scattergeo\": [{\"marker\": {\"colorbar\": {\"outlinewidth\": 0, \"ticks\": \"\"}}, \"type\": \"scattergeo\"}], \"scattergl\": [{\"marker\": {\"colorbar\": {\"outlinewidth\": 0, \"ticks\": \"\"}}, \"type\": \"scattergl\"}], \"scattermapbox\": [{\"marker\": {\"colorbar\": {\"outlinewidth\": 0, \"ticks\": \"\"}}, \"type\": \"scattermapbox\"}], \"scatterpolar\": [{\"marker\": {\"colorbar\": {\"outlinewidth\": 0, \"ticks\": \"\"}}, \"type\": \"scatterpolar\"}], \"scatterpolargl\": [{\"marker\": {\"colorbar\": {\"outlinewidth\": 0, \"ticks\": \"\"}}, \"type\": \"scatterpolargl\"}], \"scatterternary\": [{\"marker\": {\"colorbar\": {\"outlinewidth\": 0, \"ticks\": \"\"}}, \"type\": \"scatterternary\"}], \"surface\": [{\"colorbar\": {\"outlinewidth\": 0, \"ticks\": \"\"}, \"colorscale\": [[0.0, \"#0d0887\"], [0.1111111111111111, \"#46039f\"], [0.2222222222222222, \"#7201a8\"], [0.3333333333333333, \"#9c179e\"], [0.4444444444444444, \"#bd3786\"], [0.5555555555555556, \"#d8576b\"], [0.6666666666666666, \"#ed7953\"], [0.7777777777777778, \"#fb9f3a\"], [0.8888888888888888, \"#fdca26\"], [1.0, \"#f0f921\"]], \"type\": \"surface\"}], \"table\": [{\"cells\": {\"fill\": {\"color\": \"#EBF0F8\"}, \"line\": {\"color\": \"white\"}}, \"header\": {\"fill\": {\"color\": \"#C8D4E3\"}, \"line\": {\"color\": \"white\"}}, \"type\": \"table\"}]}, \"layout\": {\"annotationdefaults\": {\"arrowcolor\": \"#2a3f5f\", \"arrowhead\": 0, \"arrowwidth\": 1}, \"coloraxis\": {\"colorbar\": {\"outlinewidth\": 0, \"ticks\": \"\"}}, \"colorscale\": {\"diverging\": [[0, \"#8e0152\"], [0.1, \"#c51b7d\"], [0.2, \"#de77ae\"], [0.3, \"#f1b6da\"], [0.4, \"#fde0ef\"], [0.5, \"#f7f7f7\"], [0.6, \"#e6f5d0\"], [0.7, \"#b8e186\"], [0.8, \"#7fbc41\"], [0.9, \"#4d9221\"], [1, \"#276419\"]], \"sequential\": [[0.0, \"#0d0887\"], [0.1111111111111111, \"#46039f\"], [0.2222222222222222, \"#7201a8\"], [0.3333333333333333, \"#9c179e\"], [0.4444444444444444, \"#bd3786\"], [0.5555555555555556, \"#d8576b\"], [0.6666666666666666, \"#ed7953\"], [0.7777777777777778, \"#fb9f3a\"], [0.8888888888888888, \"#fdca26\"], [1.0, \"#f0f921\"]], \"sequentialminus\": [[0.0, \"#0d0887\"], [0.1111111111111111, \"#46039f\"], [0.2222222222222222, \"#7201a8\"], [0.3333333333333333, \"#9c179e\"], [0.4444444444444444, \"#bd3786\"], [0.5555555555555556, \"#d8576b\"], [0.6666666666666666, \"#ed7953\"], [0.7777777777777778, \"#fb9f3a\"], [0.8888888888888888, \"#fdca26\"], [1.0, \"#f0f921\"]]}, \"colorway\": [\"#636efa\", \"#EF553B\", \"#00cc96\", \"#ab63fa\", \"#FFA15A\", \"#19d3f3\", \"#FF6692\", \"#B6E880\", \"#FF97FF\", \"#FECB52\"], \"font\": {\"color\": \"#2a3f5f\"}, \"geo\": {\"bgcolor\": \"white\", \"lakecolor\": \"white\", \"landcolor\": \"#E5ECF6\", \"showlakes\": true, \"showland\": true, \"subunitcolor\": \"white\"}, \"hoverlabel\": {\"align\": \"left\"}, \"hovermode\": \"closest\", \"mapbox\": {\"style\": \"light\"}, \"paper_bgcolor\": \"white\", \"plot_bgcolor\": \"#E5ECF6\", \"polar\": {\"angularaxis\": {\"gridcolor\": \"white\", \"linecolor\": \"white\", \"ticks\": \"\"}, \"bgcolor\": \"#E5ECF6\", \"radialaxis\": {\"gridcolor\": \"white\", \"linecolor\": \"white\", \"ticks\": \"\"}}, \"scene\": {\"xaxis\": {\"backgroundcolor\": \"#E5ECF6\", \"gridcolor\": \"white\", \"gridwidth\": 2, \"linecolor\": \"white\", \"showbackground\": true, \"ticks\": \"\", \"zerolinecolor\": \"white\"}, \"yaxis\": {\"backgroundcolor\": \"#E5ECF6\", \"gridcolor\": \"white\", \"gridwidth\": 2, \"linecolor\": \"white\", \"showbackground\": true, \"ticks\": \"\", \"zerolinecolor\": \"white\"}, \"zaxis\": {\"backgroundcolor\": \"#E5ECF6\", \"gridcolor\": \"white\", \"gridwidth\": 2, \"linecolor\": \"white\", \"showbackground\": true, \"ticks\": \"\", \"zerolinecolor\": \"white\"}}, \"shapedefaults\": {\"line\": {\"color\": \"#2a3f5f\"}}, \"ternary\": {\"aaxis\": {\"gridcolor\": \"white\", \"linecolor\": \"white\", \"ticks\": \"\"}, \"baxis\": {\"gridcolor\": \"white\", \"linecolor\": \"white\", \"ticks\": \"\"}, \"bgcolor\": \"#E5ECF6\", \"caxis\": {\"gridcolor\": \"white\", \"linecolor\": \"white\", \"ticks\": \"\"}}, \"title\": {\"x\": 0.05}, \"xaxis\": {\"automargin\": true, \"gridcolor\": \"white\", \"linecolor\": \"white\", \"ticks\": \"\", \"title\": {\"standoff\": 15}, \"zerolinecolor\": \"white\", \"zerolinewidth\": 2}, \"yaxis\": {\"automargin\": true, \"gridcolor\": \"white\", \"linecolor\": \"white\", \"ticks\": \"\", \"title\": {\"standoff\": 15}, \"zerolinecolor\": \"white\", \"zerolinewidth\": 2}}}, \"title\": {\"text\": \"Glucose vs BloodPressure\"}, \"xaxis\": {\"title\": {\"text\": \"Glucose\"}, \"zeroline\": false}, \"yaxis\": {\"title\": {\"text\": \"BloodPressure\"}, \"zeroline\": false}},\n",
       "                        {\"responsive\": true}\n",
       "                    ).then(function(){\n",
       "                            \n",
       "var gd = document.getElementById('f1c66eef-c9a3-490c-b61c-0148cd49ccb2');\n",
       "var x = new MutationObserver(function (mutations, observer) {{\n",
       "        var display = window.getComputedStyle(gd).display;\n",
       "        if (!display || display === 'none') {{\n",
       "            console.log([gd, 'removed!']);\n",
       "            Plotly.purge(gd);\n",
       "            observer.disconnect();\n",
       "        }}\n",
       "}});\n",
       "\n",
       "// Listen for the removal of the full notebook cells\n",
       "var notebookContainer = gd.closest('#notebook-container');\n",
       "if (notebookContainer) {{\n",
       "    x.observe(notebookContainer, {childList: true});\n",
       "}}\n",
       "\n",
       "// Listen for the clearing of the current output cell\n",
       "var outputEl = gd.closest('.output');\n",
       "if (outputEl) {{\n",
       "    x.observe(outputEl, {childList: true});\n",
       "}}\n",
       "\n",
       "                        })\n",
       "                };\n",
       "                \n",
       "            </script>\n",
       "        </div>\n",
       "</body>\n",
       "</html>"
      ]
     },
     "metadata": {
      "tags": []
     },
     "output_type": "display_data"
    }
   ],
   "source": [
    "# one line of code\n"
   ]
  },
  {
   "cell_type": "markdown",
   "metadata": {
    "colab_type": "text",
    "id": "wFtuX0KTUrMn"
   },
   "source": [
    "13. Represents' Skin Thickness' vs' BMI'What is your relationship?\n",
    "---\n",
    "---"
   ]
  },
  {
   "cell_type": "code",
   "execution_count": 0,
   "metadata": {
    "colab": {
     "base_uri": "https://localhost:8080/",
     "height": 542
    },
    "colab_type": "code",
    "id": "Ef721Ac5ji9p",
    "outputId": "7fc4320e-2b0a-4dfe-ac4d-88f0b2e6e3ec"
   },
   "outputs": [
    {
     "data": {
      "text/html": [
       "<html>\n",
       "<head><meta charset=\"utf-8\" /></head>\n",
       "<body>\n",
       "    <div>\n",
       "            <script src=\"https://cdnjs.cloudflare.com/ajax/libs/mathjax/2.7.5/MathJax.js?config=TeX-AMS-MML_SVG\"></script><script type=\"text/javascript\">if (window.MathJax) {MathJax.Hub.Config({SVG: {font: \"STIX-Web\"}});}</script>\n",
       "                <script type=\"text/javascript\">window.PlotlyConfig = {MathJaxConfig: 'local'};</script>\n",
       "        <script src=\"https://cdn.plot.ly/plotly-latest.min.js\"></script>    \n",
       "            <div id=\"aea14b6f-21b2-44cb-925a-ba17f84ec476\" class=\"plotly-graph-div\" style=\"height:525px; width:100%;\"></div>\n",
       "            <script type=\"text/javascript\">\n",
       "                \n",
       "                    window.PLOTLYENV=window.PLOTLYENV || {};\n",
       "                    \n",
       "                if (document.getElementById(\"aea14b6f-21b2-44cb-925a-ba17f84ec476\")) {\n",
       "                    Plotly.newPlot(\n",
       "                        'aea14b6f-21b2-44cb-925a-ba17f84ec476',\n",
       "                        [{\"marker\": {\"color\": \"#FFD700\", \"line\": {\"width\": 1}}, \"mode\": \"markers\", \"name\": \"diabetic\", \"type\": \"scatter\", \"x\": [35, 0, 35, 32, 45, 0, 0, 23, 19, 0, 47, 0, 30, 0, 35, 33, 26, 0, 36, 37, 42, 47, 24, 39, 32, 34, 39, 0, 0, 30, 20, 0, 0, 0, 32, 0, 51, 0, 25, 33, 26, 32, 0, 0, 56, 0, 42, 24, 0, 14, 0, 37, 0, 28, 0, 44, 41, 0, 18, 0, 23, 42, 46, 0, 28, 36, 41, 39, 35, 0, 0, 41, 13, 44, 27, 29, 0, 33, 26, 32, 40, 41, 22, 0, 29, 0, 38, 0, 37, 0, 21, 27, 21, 0, 22, 15, 7, 35, 28, 0, 0, 0, 0, 37, 24, 0, 0, 0, 39, 30, 37, 45, 38, 25, 0, 33, 0, 23, 19, 28, 17, 31, 0, 0, 30, 20, 33, 32, 36, 0, 0, 34, 0, 32, 0, 40, 30, 36, 33, 0, 0, 28, 48, 43, 0, 29, 36, 26, 0, 0, 40, 31, 0, 41, 0, 0, 0, 49, 35, 33, 32, 29, 32, 39, 30, 25, 0, 25, 0, 12, 63, 37, 0, 30, 48, 0, 45, 30, 0, 42, 18, 33, 41, 26, 31, 18, 34, 0, 0, 49, 40, 25, 32, 35, 27, 0, 32, 30, 0, 99, 46, 24, 0, 27, 40, 0, 14, 0, 29, 0, 42, 22, 42, 26, 24, 0, 0, 0, 32, 0, 17, 36, 35, 27, 31, 43, 46, 46, 39, 18, 27, 0, 0, 0, 36, 0, 46, 0, 49, 24, 19, 31, 29, 0, 0, 32, 36, 33, 39, 27, 29, 23, 0, 37, 0, 37, 0, 41, 22, 0, 0, 44, 32, 39, 0, 0, 31, 0], \"y\": [33.6, 23.3, 43.1, 31.0, 30.5, 0.0, 38.0, 30.1, 25.8, 30.0, 45.8, 29.6, 34.6, 39.8, 29.0, 36.6, 31.1, 39.4, 31.6, 32.9, 38.2, 37.1, 45.4, 42.0, 39.1, 33.7, 37.7, 32.9, 32.8, 32.5, 32.9, 43.4, 43.2, 48.8, 37.1, 23.8, 49.7, 39.0, 37.4, 33.3, 34.0, 30.5, 31.2, 34.0, 53.2, 33.3, 55.0, 34.5, 27.9, 29.7, 33.3, 34.5, 32.4, 34.3, 47.9, 50.0, 40.9, 31.6, 29.9, 30.8, 35.4, 32.7, 67.1, 39.1, 35.9, 30.1, 32.0, 27.9, 31.6, 30.4, 52.3, 39.4, 22.9, 34.8, 30.9, 37.5, 37.7, 35.5, 42.6, 34.2, 41.8, 35.8, 29.0, 37.8, 34.6, 31.6, 37.2, 44.0, 46.2, 43.6, 35.9, 44.1, 30.8, 25.6, 27.1, 30.0, 27.6, 33.6, 33.3, 30.0, 32.0, 36.3, 27.5, 45.6, 26.5, 37.9, 30.4, 27.0, 45.6, 36.6, 43.3, 40.5, 28.0, 36.6, 32.3, 31.6, 52.9, 25.5, 30.5, 32.9, 26.6, 35.9, 30.5, 23.5, 31.6, 27.4, 26.8, 35.1, 45.5, 43.3, 31.2, 34.2, 39.9, 41.0, 30.4, 33.3, 39.9, 36.5, 31.2, 38.5, 27.6, 32.8, 38.4, 39.2, 48.3, 32.3, 43.3, 32.0, 45.7, 32.9, 34.3, 34.9, 32.0, 35.0, 32.9, 28.9, 25.9, 42.4, 34.6, 35.7, 38.5, 26.4, 42.9, 37.0, 34.1, 35.0, 42.4, 34.3, 30.5, 29.7, 59.4, 33.6, 28.9, 33.6, 37.6, 30.0, 33.7, 35.5, 44.2, 42.3, 28.9, 25.1, 39.0, 36.5, 29.7, 31.6, 30.3, 34.2, 32.9, 36.4, 39.4, 32.4, 34.9, 34.5, 43.6, 33.8, 41.3, 34.3, 42.9, 34.7, 42.1, 28.7, 34.9, 33.3, 46.8, 34.4, 32.0, 36.8, 35.2, 28.4, 40.0, 32.9, 38.2, 36.1, 28.2, 32.4, 27.4, 31.2, 40.9, 29.5, 23.4, 37.8, 28.3, 38.7, 34.2, 42.9, 37.6, 37.9, 33.7, 32.5, 27.5, 30.9, 24.8, 36.0, 49.6, 32.3, 46.1, 42.3, 38.5, 30.4, 29.9, 27.6, 35.0, 0.0, 32.8, 38.0, 41.2, 33.9, 33.8, 35.6, 29.3, 28.4, 28.4, 44.5, 39.5, 42.3, 32.7, 49.3, 36.4, 24.3, 31.2, 43.3, 32.4, 36.5, 36.3, 35.5, 44.0, 30.1]}, {\"marker\": {\"color\": \"#7EC0EE\", \"line\": {\"width\": 1}}, \"mode\": \"markers\", \"name\": \"healthy\", \"type\": \"scatter\", \"x\": [29, 23, 0, 0, 0, 0, 38, 41, 0, 15, 19, 0, 26, 11, 0, 31, 33, 0, 25, 0, 18, 0, 0, 27, 0, 11, 15, 21, 42, 10, 60, 0, 41, 0, 0, 34, 27, 0, 13, 27, 35, 20, 30, 20, 0, 33, 22, 13, 0, 26, 28, 29, 54, 25, 19, 0, 15, 40, 18, 27, 28, 18, 30, 0, 0, 18, 0, 29, 0, 28, 31, 34, 0, 0, 23, 15, 39, 30, 0, 30, 36, 31, 13, 20, 26, 25, 0, 29, 0, 30, 26, 31, 23, 37, 35, 0, 17, 50, 0, 42, 15, 21, 19, 38, 40, 34, 23, 25, 0, 0, 12, 23, 42, 24, 0, 0, 0, 18, 20, 0, 0, 0, 44, 20, 0, 16, 0, 20, 16, 32, 28, 27, 22, 54, 31, 30, 0, 33, 15, 27, 0, 39, 31, 25, 0, 28, 0, 24, 32, 35, 0, 33, 33, 19, 0, 0, 14, 32, 39, 22, 16, 15, 32, 15, 18, 42, 0, 32, 0, 50, 0, 52, 23, 0, 10, 28, 15, 26, 44, 17, 43, 29, 0, 31, 29, 0, 41, 0, 37, 14, 30, 37, 10, 22, 11, 39, 12, 32, 21, 0, 32, 19, 16, 0, 18, 43, 0, 13, 21, 35, 0, 0, 36, 19, 0, 19, 0, 0, 28, 12, 0, 40, 0, 37, 25, 28, 17, 16, 23, 22, 40, 43, 15, 37, 39, 30, 22, 8, 18, 24, 13, 23, 29, 14, 12, 24, 34, 0, 0, 25, 32, 0, 39, 30, 23, 22, 21, 0, 41, 18, 46, 22, 0, 46, 0, 16, 11, 0, 8, 33, 0, 15, 0, 23, 27, 12, 45, 18, 13, 32, 0, 28, 0, 28, 33, 22, 0, 40, 30, 0, 13, 10, 36, 41, 40, 38, 27, 0, 0, 27, 17, 38, 31, 37, 22, 31, 41, 32, 17, 0, 28, 30, 38, 0, 0, 0, 15, 32, 19, 32, 25, 39, 0, 23, 23, 0, 17, 0, 0, 19, 0, 0, 7, 32, 33, 0, 0, 18, 19, 15, 31, 0, 18, 0, 52, 0, 30, 0, 0, 37, 23, 29, 21, 43, 31, 28, 30, 0, 24, 23, 33, 40, 0, 40, 0, 34, 19, 0, 14, 30, 32, 29, 0, 0, 31, 17, 30, 47, 20, 0, 27, 17, 0, 11, 0, 0, 50, 22, 45, 0, 19, 18, 19, 0, 36, 32, 25, 39, 13, 21, 28, 0, 0, 13, 42, 20, 0, 27, 0, 47, 0, 0, 0, 22, 40, 0, 17, 0, 0, 18, 12, 17, 0, 0, 30, 35, 25, 25, 23, 40, 0, 28, 35, 48, 0, 0, 45, 33, 30, 26, 10, 23, 35, 0, 0, 17, 28, 39, 0, 26, 0, 19, 26, 0, 32, 0, 0, 11, 0, 27, 0, 20, 36, 21, 13, 27, 20, 0, 18, 46, 19, 36, 30, 0, 40, 29, 26, 0, 0, 27, 0, 32, 27, 23, 17, 20, 18, 37, 33, 41, 39, 24, 41, 0, 26, 0, 48, 27, 23, 31], \"y\": [26.6, 28.1, 25.6, 35.3, 37.6, 27.1, 43.3, 39.3, 35.4, 23.2, 22.2, 34.1, 36.0, 24.8, 19.9, 27.6, 24.0, 33.2, 34.0, 40.2, 22.7, 27.4, 29.7, 28.0, 0.0, 19.4, 24.2, 24.4, 34.7, 23.0, 46.8, 40.5, 41.5, 0.0, 25.0, 25.4, 29.0, 42.7, 19.6, 28.9, 28.6, 35.1, 32.0, 24.7, 32.6, 37.7, 25.0, 22.4, 0.0, 29.3, 24.6, 32.4, 36.6, 38.5, 26.5, 19.1, 32.0, 46.7, 24.7, 33.9, 31.6, 20.4, 28.7, 26.1, 22.5, 26.6, 39.6, 28.7, 22.4, 29.5, 34.3, 31.2, 34.0, 33.7, 28.2, 23.2, 34.2, 33.6, 26.8, 42.9, 33.3, 38.3, 21.1, 33.8, 30.8, 28.7, 31.2, 36.9, 21.1, 39.5, 32.5, 32.8, 0.0, 32.8, 30.5, 33.7, 27.3, 37.4, 21.9, 40.6, 24.6, 25.2, 29.0, 29.7, 37.2, 44.2, 29.7, 32.5, 29.6, 31.9, 28.4, 28.9, 43.5, 29.7, 31.2, 45.0, 23.2, 34.9, 27.7, 26.8, 27.6, 22.6, 33.1, 24.4, 24.3, 31.0, 40.1, 27.3, 20.4, 37.7, 23.9, 33.2, 27.7, 42.8, 34.2, 30.0, 25.2, 28.8, 23.6, 34.6, 35.7, 36.7, 45.2, 25.4, 35.0, 29.7, 18.4, 29.2, 33.1, 38.2, 31.2, 52.3, 35.4, 30.1, 31.2, 28.0, 24.4, 35.8, 30.1, 28.7, 25.9, 30.9, 32.1, 32.4, 33.6, 40.0, 25.1, 25.2, 23.0, 33.2, 34.2, 40.5, 27.8, 24.9, 25.3, 35.9, 32.4, 26.0, 38.7, 20.8, 36.1, 36.9, 21.9, 35.5, 30.7, 23.6, 35.8, 21.0, 39.7, 24.8, 26.2, 39.4, 29.5, 34.1, 19.3, 38.1, 27.5, 35.7, 25.6, 35.1, 30.8, 23.1, 32.7, 23.6, 23.9, 47.9, 33.8, 25.9, 25.9, 32.0, 34.7, 36.8, 38.5, 28.7, 23.5, 21.8, 42.2, 31.2, 34.4, 27.2, 42.7, 35.3, 29.8, 39.2, 34.9, 34.0, 21.0, 27.5, 0.0, 35.8, 34.9, 36.2, 25.2, 37.2, 43.4, 30.8, 20.0, 25.4, 25.1, 24.3, 22.3, 31.6, 32.0, 23.7, 22.1, 27.7, 24.7, 21.1, 24.2, 31.6, 42.1, 21.9, 35.7, 34.4, 42.4, 26.2, 27.2, 18.2, 45.3, 26.0, 40.6, 30.8, 0.0, 40.6, 22.2, 30.4, 30.0, 25.6, 24.5, 37.4, 29.9, 18.2, 36.8, 32.2, 33.2, 25.3, 36.5, 30.5, 21.2, 39.9, 19.6, 37.8, 26.7, 30.2, 25.9, 20.8, 21.8, 35.3, 27.6, 24.0, 21.8, 27.8, 36.8, 46.1, 41.3, 33.2, 38.8, 29.9, 28.9, 27.3, 23.8, 25.9, 28.0, 35.2, 27.8, 38.2, 40.7, 46.5, 25.6, 26.1, 36.8, 33.5, 32.8, 0.0, 26.6, 26.0, 30.1, 29.3, 25.2, 37.2, 33.3, 37.3, 33.3, 28.6, 30.4, 25.0, 22.1, 24.2, 27.3, 25.6, 37.6, 32.8, 19.6, 25.0, 33.2, 0.0, 31.6, 21.8, 18.2, 26.3, 30.8, 24.6, 29.8, 45.3, 41.3, 29.8, 33.3, 29.6, 21.7, 36.3, 39.5, 32.0, 33.1, 32.8, 28.5, 27.4, 31.9, 27.8, 29.9, 36.9, 25.5, 38.1, 27.8, 46.2, 30.1, 37.6, 26.9, 32.4, 26.1, 38.6, 32.0, 31.3, 32.5, 22.6, 29.5, 34.7, 30.1, 35.5, 24.0, 27.0, 25.0, 26.5, 38.7, 22.5, 24.3, 21.1, 39.4, 28.5, 33.6, 45.3, 27.8, 23.1, 27.1, 23.7, 27.8, 35.8, 19.5, 41.5, 24.0, 30.9, 32.5, 25.8, 28.7, 20.1, 38.4, 24.2, 40.8, 43.5, 30.8, 37.7, 24.7, 32.4, 34.6, 24.7, 34.5, 26.2, 27.5, 25.9, 28.8, 31.6, 19.5, 29.3, 34.3, 28.0, 27.6, 39.4, 26.4, 25.2, 33.8, 34.1, 26.8, 34.2, 21.8, 38.9, 39.0, 27.7, 34.8, 34.0, 30.9, 33.6, 25.4, 35.5, 57.3, 35.6, 35.3, 24.2, 24.2, 44.6, 0.0, 33.2, 23.1, 28.3, 24.1, 24.6, 39.1, 23.5, 25.0, 34.5, 44.5, 35.9, 38.5, 28.4, 39.8, 34.4, 31.2, 29.6, 26.4, 29.5, 23.1, 35.5, 29.3, 38.1, 39.1, 32.8, 39.4, 36.1, 32.4, 22.9, 30.1, 29.0, 23.3, 35.4, 27.4, 32.0, 36.6, 30.8, 28.5, 40.6, 30.0, 46.3, 39.0, 26.0, 32.0, 37.5, 28.4, 22.5, 32.9, 36.8, 26.2, 30.4]}],\n",
       "                        {\"template\": {\"data\": {\"bar\": [{\"error_x\": {\"color\": \"#2a3f5f\"}, \"error_y\": {\"color\": \"#2a3f5f\"}, \"marker\": {\"line\": {\"color\": \"#E5ECF6\", \"width\": 0.5}}, \"type\": \"bar\"}], \"barpolar\": [{\"marker\": {\"line\": {\"color\": \"#E5ECF6\", \"width\": 0.5}}, \"type\": \"barpolar\"}], \"carpet\": [{\"aaxis\": {\"endlinecolor\": \"#2a3f5f\", \"gridcolor\": \"white\", \"linecolor\": \"white\", \"minorgridcolor\": \"white\", \"startlinecolor\": \"#2a3f5f\"}, \"baxis\": {\"endlinecolor\": \"#2a3f5f\", \"gridcolor\": \"white\", \"linecolor\": \"white\", \"minorgridcolor\": \"white\", \"startlinecolor\": \"#2a3f5f\"}, \"type\": \"carpet\"}], \"choropleth\": [{\"colorbar\": {\"outlinewidth\": 0, \"ticks\": \"\"}, \"type\": \"choropleth\"}], \"contour\": [{\"colorbar\": {\"outlinewidth\": 0, \"ticks\": \"\"}, \"colorscale\": [[0.0, \"#0d0887\"], [0.1111111111111111, \"#46039f\"], [0.2222222222222222, \"#7201a8\"], [0.3333333333333333, \"#9c179e\"], [0.4444444444444444, \"#bd3786\"], [0.5555555555555556, \"#d8576b\"], [0.6666666666666666, \"#ed7953\"], [0.7777777777777778, \"#fb9f3a\"], [0.8888888888888888, \"#fdca26\"], [1.0, \"#f0f921\"]], \"type\": \"contour\"}], \"contourcarpet\": [{\"colorbar\": {\"outlinewidth\": 0, \"ticks\": \"\"}, \"type\": \"contourcarpet\"}], \"heatmap\": [{\"colorbar\": {\"outlinewidth\": 0, \"ticks\": \"\"}, \"colorscale\": [[0.0, \"#0d0887\"], [0.1111111111111111, \"#46039f\"], [0.2222222222222222, \"#7201a8\"], [0.3333333333333333, \"#9c179e\"], [0.4444444444444444, \"#bd3786\"], [0.5555555555555556, \"#d8576b\"], [0.6666666666666666, \"#ed7953\"], [0.7777777777777778, \"#fb9f3a\"], [0.8888888888888888, \"#fdca26\"], [1.0, \"#f0f921\"]], \"type\": \"heatmap\"}], \"heatmapgl\": [{\"colorbar\": {\"outlinewidth\": 0, \"ticks\": \"\"}, \"colorscale\": [[0.0, \"#0d0887\"], [0.1111111111111111, \"#46039f\"], [0.2222222222222222, \"#7201a8\"], [0.3333333333333333, \"#9c179e\"], [0.4444444444444444, \"#bd3786\"], [0.5555555555555556, \"#d8576b\"], [0.6666666666666666, \"#ed7953\"], [0.7777777777777778, \"#fb9f3a\"], [0.8888888888888888, \"#fdca26\"], [1.0, \"#f0f921\"]], \"type\": \"heatmapgl\"}], \"histogram\": [{\"marker\": {\"colorbar\": {\"outlinewidth\": 0, \"ticks\": \"\"}}, \"type\": \"histogram\"}], \"histogram2d\": [{\"colorbar\": {\"outlinewidth\": 0, \"ticks\": \"\"}, \"colorscale\": [[0.0, \"#0d0887\"], [0.1111111111111111, \"#46039f\"], [0.2222222222222222, \"#7201a8\"], [0.3333333333333333, \"#9c179e\"], [0.4444444444444444, \"#bd3786\"], [0.5555555555555556, \"#d8576b\"], [0.6666666666666666, \"#ed7953\"], [0.7777777777777778, \"#fb9f3a\"], [0.8888888888888888, \"#fdca26\"], [1.0, \"#f0f921\"]], \"type\": \"histogram2d\"}], \"histogram2dcontour\": [{\"colorbar\": {\"outlinewidth\": 0, \"ticks\": \"\"}, \"colorscale\": [[0.0, \"#0d0887\"], [0.1111111111111111, \"#46039f\"], [0.2222222222222222, \"#7201a8\"], [0.3333333333333333, \"#9c179e\"], [0.4444444444444444, \"#bd3786\"], [0.5555555555555556, \"#d8576b\"], [0.6666666666666666, \"#ed7953\"], [0.7777777777777778, \"#fb9f3a\"], [0.8888888888888888, \"#fdca26\"], [1.0, \"#f0f921\"]], \"type\": \"histogram2dcontour\"}], \"mesh3d\": [{\"colorbar\": {\"outlinewidth\": 0, \"ticks\": \"\"}, \"type\": \"mesh3d\"}], \"parcoords\": [{\"line\": {\"colorbar\": {\"outlinewidth\": 0, \"ticks\": \"\"}}, \"type\": \"parcoords\"}], \"pie\": [{\"automargin\": true, \"type\": \"pie\"}], \"scatter\": [{\"marker\": {\"colorbar\": {\"outlinewidth\": 0, \"ticks\": \"\"}}, \"type\": \"scatter\"}], \"scatter3d\": [{\"line\": {\"colorbar\": {\"outlinewidth\": 0, \"ticks\": \"\"}}, \"marker\": {\"colorbar\": {\"outlinewidth\": 0, \"ticks\": \"\"}}, \"type\": \"scatter3d\"}], \"scattercarpet\": [{\"marker\": {\"colorbar\": {\"outlinewidth\": 0, \"ticks\": \"\"}}, \"type\": \"scattercarpet\"}], \"scattergeo\": [{\"marker\": {\"colorbar\": {\"outlinewidth\": 0, \"ticks\": \"\"}}, \"type\": \"scattergeo\"}], \"scattergl\": [{\"marker\": {\"colorbar\": {\"outlinewidth\": 0, \"ticks\": \"\"}}, \"type\": \"scattergl\"}], \"scattermapbox\": [{\"marker\": {\"colorbar\": {\"outlinewidth\": 0, \"ticks\": \"\"}}, \"type\": \"scattermapbox\"}], \"scatterpolar\": [{\"marker\": {\"colorbar\": {\"outlinewidth\": 0, \"ticks\": \"\"}}, \"type\": \"scatterpolar\"}], \"scatterpolargl\": [{\"marker\": {\"colorbar\": {\"outlinewidth\": 0, \"ticks\": \"\"}}, \"type\": \"scatterpolargl\"}], \"scatterternary\": [{\"marker\": {\"colorbar\": {\"outlinewidth\": 0, \"ticks\": \"\"}}, \"type\": \"scatterternary\"}], \"surface\": [{\"colorbar\": {\"outlinewidth\": 0, \"ticks\": \"\"}, \"colorscale\": [[0.0, \"#0d0887\"], [0.1111111111111111, \"#46039f\"], [0.2222222222222222, \"#7201a8\"], [0.3333333333333333, \"#9c179e\"], [0.4444444444444444, \"#bd3786\"], [0.5555555555555556, \"#d8576b\"], [0.6666666666666666, \"#ed7953\"], [0.7777777777777778, \"#fb9f3a\"], [0.8888888888888888, \"#fdca26\"], [1.0, \"#f0f921\"]], \"type\": \"surface\"}], \"table\": [{\"cells\": {\"fill\": {\"color\": \"#EBF0F8\"}, \"line\": {\"color\": \"white\"}}, \"header\": {\"fill\": {\"color\": \"#C8D4E3\"}, \"line\": {\"color\": \"white\"}}, \"type\": \"table\"}]}, \"layout\": {\"annotationdefaults\": {\"arrowcolor\": \"#2a3f5f\", \"arrowhead\": 0, \"arrowwidth\": 1}, \"coloraxis\": {\"colorbar\": {\"outlinewidth\": 0, \"ticks\": \"\"}}, \"colorscale\": {\"diverging\": [[0, \"#8e0152\"], [0.1, \"#c51b7d\"], [0.2, \"#de77ae\"], [0.3, \"#f1b6da\"], [0.4, \"#fde0ef\"], [0.5, \"#f7f7f7\"], [0.6, \"#e6f5d0\"], [0.7, \"#b8e186\"], [0.8, \"#7fbc41\"], [0.9, \"#4d9221\"], [1, \"#276419\"]], \"sequential\": [[0.0, \"#0d0887\"], [0.1111111111111111, \"#46039f\"], [0.2222222222222222, \"#7201a8\"], [0.3333333333333333, \"#9c179e\"], [0.4444444444444444, \"#bd3786\"], [0.5555555555555556, \"#d8576b\"], [0.6666666666666666, \"#ed7953\"], [0.7777777777777778, \"#fb9f3a\"], [0.8888888888888888, \"#fdca26\"], [1.0, \"#f0f921\"]], \"sequentialminus\": [[0.0, \"#0d0887\"], [0.1111111111111111, \"#46039f\"], [0.2222222222222222, \"#7201a8\"], [0.3333333333333333, \"#9c179e\"], [0.4444444444444444, \"#bd3786\"], [0.5555555555555556, \"#d8576b\"], [0.6666666666666666, \"#ed7953\"], [0.7777777777777778, \"#fb9f3a\"], [0.8888888888888888, \"#fdca26\"], [1.0, \"#f0f921\"]]}, \"colorway\": [\"#636efa\", \"#EF553B\", \"#00cc96\", \"#ab63fa\", \"#FFA15A\", \"#19d3f3\", \"#FF6692\", \"#B6E880\", \"#FF97FF\", \"#FECB52\"], \"font\": {\"color\": \"#2a3f5f\"}, \"geo\": {\"bgcolor\": \"white\", \"lakecolor\": \"white\", \"landcolor\": \"#E5ECF6\", \"showlakes\": true, \"showland\": true, \"subunitcolor\": \"white\"}, \"hoverlabel\": {\"align\": \"left\"}, \"hovermode\": \"closest\", \"mapbox\": {\"style\": \"light\"}, \"paper_bgcolor\": \"white\", \"plot_bgcolor\": \"#E5ECF6\", \"polar\": {\"angularaxis\": {\"gridcolor\": \"white\", \"linecolor\": \"white\", \"ticks\": \"\"}, \"bgcolor\": \"#E5ECF6\", \"radialaxis\": {\"gridcolor\": \"white\", \"linecolor\": \"white\", \"ticks\": \"\"}}, \"scene\": {\"xaxis\": {\"backgroundcolor\": \"#E5ECF6\", \"gridcolor\": \"white\", \"gridwidth\": 2, \"linecolor\": \"white\", \"showbackground\": true, \"ticks\": \"\", \"zerolinecolor\": \"white\"}, \"yaxis\": {\"backgroundcolor\": \"#E5ECF6\", \"gridcolor\": \"white\", \"gridwidth\": 2, \"linecolor\": \"white\", \"showbackground\": true, \"ticks\": \"\", \"zerolinecolor\": \"white\"}, \"zaxis\": {\"backgroundcolor\": \"#E5ECF6\", \"gridcolor\": \"white\", \"gridwidth\": 2, \"linecolor\": \"white\", \"showbackground\": true, \"ticks\": \"\", \"zerolinecolor\": \"white\"}}, \"shapedefaults\": {\"line\": {\"color\": \"#2a3f5f\"}}, \"ternary\": {\"aaxis\": {\"gridcolor\": \"white\", \"linecolor\": \"white\", \"ticks\": \"\"}, \"baxis\": {\"gridcolor\": \"white\", \"linecolor\": \"white\", \"ticks\": \"\"}, \"bgcolor\": \"#E5ECF6\", \"caxis\": {\"gridcolor\": \"white\", \"linecolor\": \"white\", \"ticks\": \"\"}}, \"title\": {\"x\": 0.05}, \"xaxis\": {\"automargin\": true, \"gridcolor\": \"white\", \"linecolor\": \"white\", \"ticks\": \"\", \"title\": {\"standoff\": 15}, \"zerolinecolor\": \"white\", \"zerolinewidth\": 2}, \"yaxis\": {\"automargin\": true, \"gridcolor\": \"white\", \"linecolor\": \"white\", \"ticks\": \"\", \"title\": {\"standoff\": 15}, \"zerolinecolor\": \"white\", \"zerolinewidth\": 2}}}, \"title\": {\"text\": \"SkinThickness vs BMI\"}, \"xaxis\": {\"title\": {\"text\": \"SkinThickness\"}, \"zeroline\": false}, \"yaxis\": {\"title\": {\"text\": \"BMI\"}, \"zeroline\": false}},\n",
       "                        {\"responsive\": true}\n",
       "                    ).then(function(){\n",
       "                            \n",
       "var gd = document.getElementById('aea14b6f-21b2-44cb-925a-ba17f84ec476');\n",
       "var x = new MutationObserver(function (mutations, observer) {{\n",
       "        var display = window.getComputedStyle(gd).display;\n",
       "        if (!display || display === 'none') {{\n",
       "            console.log([gd, 'removed!']);\n",
       "            Plotly.purge(gd);\n",
       "            observer.disconnect();\n",
       "        }}\n",
       "}});\n",
       "\n",
       "// Listen for the removal of the full notebook cells\n",
       "var notebookContainer = gd.closest('#notebook-container');\n",
       "if (notebookContainer) {{\n",
       "    x.observe(notebookContainer, {childList: true});\n",
       "}}\n",
       "\n",
       "// Listen for the clearing of the current output cell\n",
       "var outputEl = gd.closest('.output');\n",
       "if (outputEl) {{\n",
       "    x.observe(outputEl, {childList: true});\n",
       "}}\n",
       "\n",
       "                        })\n",
       "                };\n",
       "                \n",
       "            </script>\n",
       "        </div>\n",
       "</body>\n",
       "</html>"
      ]
     },
     "metadata": {
      "tags": []
     },
     "output_type": "display_data"
    }
   ],
   "source": [
    "# one line of code\n"
   ]
  },
  {
   "cell_type": "markdown",
   "metadata": {
    "colab_type": "text",
    "id": "gzhtt2E6X6fQ"
   },
   "source": [
    "14. Represents 'Glucose' vs 'BMI'. What is your relationship?\n",
    "---"
   ]
  },
  {
   "cell_type": "code",
   "execution_count": 0,
   "metadata": {
    "colab": {
     "base_uri": "https://localhost:8080/",
     "height": 542
    },
    "colab_type": "code",
    "id": "Ueo-BeWfji95",
    "outputId": "928e6fd5-2b8c-4c6e-b294-17ad90774452"
   },
   "outputs": [
    {
     "data": {
      "text/html": [
       "<html>\n",
       "<head><meta charset=\"utf-8\" /></head>\n",
       "<body>\n",
       "    <div>\n",
       "            <script src=\"https://cdnjs.cloudflare.com/ajax/libs/mathjax/2.7.5/MathJax.js?config=TeX-AMS-MML_SVG\"></script><script type=\"text/javascript\">if (window.MathJax) {MathJax.Hub.Config({SVG: {font: \"STIX-Web\"}});}</script>\n",
       "                <script type=\"text/javascript\">window.PlotlyConfig = {MathJaxConfig: 'local'};</script>\n",
       "        <script src=\"https://cdn.plot.ly/plotly-latest.min.js\"></script>    \n",
       "            <div id=\"0eb34fb3-ca14-494e-9a68-3b961cef5e78\" class=\"plotly-graph-div\" style=\"height:525px; width:100%;\"></div>\n",
       "            <script type=\"text/javascript\">\n",
       "                \n",
       "                    window.PLOTLYENV=window.PLOTLYENV || {};\n",
       "                    \n",
       "                if (document.getElementById(\"0eb34fb3-ca14-494e-9a68-3b961cef5e78\")) {\n",
       "                    Plotly.newPlot(\n",
       "                        '0eb34fb3-ca14-494e-9a68-3b961cef5e78',\n",
       "                        [{\"marker\": {\"color\": \"#FFD700\", \"line\": {\"width\": 1}}, \"mode\": \"markers\", \"name\": \"diabetic\", \"type\": \"scatter\", \"x\": [148, 183, 137, 78, 197, 125, 168, 189, 166, 100, 118, 107, 115, 196, 119, 143, 125, 147, 158, 102, 90, 111, 171, 180, 103, 176, 187, 133, 114, 109, 100, 126, 131, 137, 136, 134, 122, 163, 95, 171, 155, 160, 146, 124, 162, 113, 88, 117, 105, 173, 122, 170, 108, 156, 188, 152, 163, 131, 104, 102, 134, 179, 129, 130, 194, 181, 128, 109, 139, 159, 135, 158, 107, 109, 148, 196, 162, 184, 140, 112, 151, 109, 85, 112, 177, 158, 162, 142, 134, 171, 181, 179, 164, 139, 119, 184, 92, 113, 155, 141, 123, 138, 146, 101, 106, 146, 161, 108, 119, 107, 128, 128, 146, 100, 167, 144, 115, 161, 128, 124, 155, 109, 182, 194, 112, 124, 152, 122, 102, 180, 115, 152, 178, 0, 165, 125, 129, 196, 189, 146, 124, 133, 173, 140, 156, 116, 105, 144, 166, 158, 131, 193, 95, 136, 168, 115, 197, 172, 138, 173, 144, 129, 151, 184, 181, 95, 141, 189, 108, 117, 180, 104, 134, 175, 148, 120, 105, 158, 145, 135, 125, 195, 0, 180, 84, 163, 145, 130, 132, 129, 100, 128, 90, 186, 187, 125, 198, 121, 118, 197, 151, 124, 143, 176, 111, 132, 188, 173, 150, 183, 181, 174, 168, 138, 112, 119, 114, 104, 97, 147, 167, 179, 136, 155, 80, 199, 167, 145, 115, 145, 111, 195, 156, 121, 162, 125, 144, 158, 129, 142, 169, 125, 168, 115, 164, 93, 129, 187, 173, 97, 149, 130, 120, 174, 102, 120, 140, 147, 187, 162, 136, 181, 154, 128, 123, 190, 170, 126], \"y\": [33.6, 23.3, 43.1, 31.0, 30.5, 0.0, 38.0, 30.1, 25.8, 30.0, 45.8, 29.6, 34.6, 39.8, 29.0, 36.6, 31.1, 39.4, 31.6, 32.9, 38.2, 37.1, 45.4, 42.0, 39.1, 33.7, 37.7, 32.9, 32.8, 32.5, 32.9, 43.4, 43.2, 48.8, 37.1, 23.8, 49.7, 39.0, 37.4, 33.3, 34.0, 30.5, 31.2, 34.0, 53.2, 33.3, 55.0, 34.5, 27.9, 29.7, 33.3, 34.5, 32.4, 34.3, 47.9, 50.0, 40.9, 31.6, 29.9, 30.8, 35.4, 32.7, 67.1, 39.1, 35.9, 30.1, 32.0, 27.9, 31.6, 30.4, 52.3, 39.4, 22.9, 34.8, 30.9, 37.5, 37.7, 35.5, 42.6, 34.2, 41.8, 35.8, 29.0, 37.8, 34.6, 31.6, 37.2, 44.0, 46.2, 43.6, 35.9, 44.1, 30.8, 25.6, 27.1, 30.0, 27.6, 33.6, 33.3, 30.0, 32.0, 36.3, 27.5, 45.6, 26.5, 37.9, 30.4, 27.0, 45.6, 36.6, 43.3, 40.5, 28.0, 36.6, 32.3, 31.6, 52.9, 25.5, 30.5, 32.9, 26.6, 35.9, 30.5, 23.5, 31.6, 27.4, 26.8, 35.1, 45.5, 43.3, 31.2, 34.2, 39.9, 41.0, 30.4, 33.3, 39.9, 36.5, 31.2, 38.5, 27.6, 32.8, 38.4, 39.2, 48.3, 32.3, 43.3, 32.0, 45.7, 32.9, 34.3, 34.9, 32.0, 35.0, 32.9, 28.9, 25.9, 42.4, 34.6, 35.7, 38.5, 26.4, 42.9, 37.0, 34.1, 35.0, 42.4, 34.3, 30.5, 29.7, 59.4, 33.6, 28.9, 33.6, 37.6, 30.0, 33.7, 35.5, 44.2, 42.3, 28.9, 25.1, 39.0, 36.5, 29.7, 31.6, 30.3, 34.2, 32.9, 36.4, 39.4, 32.4, 34.9, 34.5, 43.6, 33.8, 41.3, 34.3, 42.9, 34.7, 42.1, 28.7, 34.9, 33.3, 46.8, 34.4, 32.0, 36.8, 35.2, 28.4, 40.0, 32.9, 38.2, 36.1, 28.2, 32.4, 27.4, 31.2, 40.9, 29.5, 23.4, 37.8, 28.3, 38.7, 34.2, 42.9, 37.6, 37.9, 33.7, 32.5, 27.5, 30.9, 24.8, 36.0, 49.6, 32.3, 46.1, 42.3, 38.5, 30.4, 29.9, 27.6, 35.0, 0.0, 32.8, 38.0, 41.2, 33.9, 33.8, 35.6, 29.3, 28.4, 28.4, 44.5, 39.5, 42.3, 32.7, 49.3, 36.4, 24.3, 31.2, 43.3, 32.4, 36.5, 36.3, 35.5, 44.0, 30.1]}, {\"marker\": {\"color\": \"#7EC0EE\", \"line\": {\"width\": 1}}, \"mode\": \"markers\", \"name\": \"healthy\", \"type\": \"scatter\", \"x\": [85, 89, 116, 115, 110, 139, 103, 126, 99, 97, 145, 117, 109, 88, 92, 122, 103, 138, 180, 133, 106, 159, 146, 71, 105, 103, 101, 88, 150, 73, 100, 146, 105, 84, 44, 141, 99, 109, 95, 146, 139, 129, 79, 0, 62, 95, 112, 113, 74, 83, 101, 110, 106, 100, 107, 80, 123, 81, 142, 144, 92, 71, 93, 151, 125, 81, 85, 126, 96, 144, 83, 89, 76, 78, 97, 99, 111, 107, 132, 120, 118, 84, 96, 125, 100, 93, 129, 105, 128, 106, 108, 154, 102, 57, 106, 147, 90, 136, 114, 153, 99, 109, 88, 151, 102, 114, 100, 148, 120, 110, 111, 87, 79, 75, 85, 143, 87, 119, 0, 73, 141, 111, 123, 85, 105, 113, 138, 108, 99, 103, 111, 96, 81, 147, 179, 125, 119, 142, 100, 87, 101, 197, 117, 79, 122, 74, 104, 91, 91, 146, 122, 165, 124, 111, 106, 129, 90, 86, 111, 114, 193, 191, 95, 142, 96, 128, 102, 108, 122, 71, 106, 100, 104, 114, 108, 129, 133, 136, 155, 96, 108, 78, 161, 151, 126, 112, 77, 150, 120, 137, 80, 106, 113, 112, 99, 115, 129, 112, 157, 179, 105, 118, 87, 106, 95, 165, 117, 130, 95, 0, 122, 95, 126, 139, 116, 99, 92, 137, 61, 90, 90, 88, 158, 103, 147, 99, 101, 81, 118, 84, 105, 122, 98, 87, 93, 107, 105, 109, 90, 125, 119, 100, 100, 131, 116, 127, 96, 82, 137, 72, 123, 101, 102, 112, 143, 143, 97, 83, 119, 94, 102, 115, 94, 135, 99, 89, 80, 139, 90, 140, 147, 97, 107, 83, 117, 100, 95, 120, 82, 91, 119, 100, 135, 86, 134, 120, 71, 74, 88, 115, 124, 74, 97, 154, 144, 137, 119, 136, 114, 137, 114, 126, 132, 123, 85, 84, 139, 173, 99, 194, 83, 89, 99, 80, 166, 110, 81, 154, 117, 84, 94, 96, 75, 130, 84, 120, 139, 91, 91, 99, 125, 76, 129, 68, 124, 114, 125, 87, 97, 116, 117, 111, 122, 107, 86, 91, 77, 105, 57, 127, 84, 88, 131, 164, 189, 116, 84, 114, 88, 84, 124, 97, 110, 103, 85, 87, 99, 91, 95, 99, 92, 154, 78, 130, 111, 98, 143, 119, 108, 133, 109, 121, 100, 93, 103, 73, 112, 82, 123, 67, 89, 109, 108, 96, 124, 124, 92, 152, 111, 106, 105, 106, 117, 68, 112, 92, 183, 94, 108, 90, 125, 132, 128, 94, 102, 111, 128, 92, 104, 94, 100, 102, 128, 90, 103, 157, 107, 91, 117, 123, 120, 106, 101, 120, 127, 162, 112, 98, 154, 165, 99, 68, 123, 91, 93, 101, 56, 95, 136, 129, 130, 107, 140, 107, 121, 90, 99, 127, 118, 122, 129, 110, 80, 127, 158, 126, 134, 102, 94, 108, 83, 114, 117, 111, 112, 116, 141, 175, 92, 106, 105, 95, 126, 65, 99, 102, 109, 153, 100, 81, 121, 108, 137, 106, 88, 89, 101, 122, 121, 93], \"y\": [26.6, 28.1, 25.6, 35.3, 37.6, 27.1, 43.3, 39.3, 35.4, 23.2, 22.2, 34.1, 36.0, 24.8, 19.9, 27.6, 24.0, 33.2, 34.0, 40.2, 22.7, 27.4, 29.7, 28.0, 0.0, 19.4, 24.2, 24.4, 34.7, 23.0, 46.8, 40.5, 41.5, 0.0, 25.0, 25.4, 29.0, 42.7, 19.6, 28.9, 28.6, 35.1, 32.0, 24.7, 32.6, 37.7, 25.0, 22.4, 0.0, 29.3, 24.6, 32.4, 36.6, 38.5, 26.5, 19.1, 32.0, 46.7, 24.7, 33.9, 31.6, 20.4, 28.7, 26.1, 22.5, 26.6, 39.6, 28.7, 22.4, 29.5, 34.3, 31.2, 34.0, 33.7, 28.2, 23.2, 34.2, 33.6, 26.8, 42.9, 33.3, 38.3, 21.1, 33.8, 30.8, 28.7, 31.2, 36.9, 21.1, 39.5, 32.5, 32.8, 0.0, 32.8, 30.5, 33.7, 27.3, 37.4, 21.9, 40.6, 24.6, 25.2, 29.0, 29.7, 37.2, 44.2, 29.7, 32.5, 29.6, 31.9, 28.4, 28.9, 43.5, 29.7, 31.2, 45.0, 23.2, 34.9, 27.7, 26.8, 27.6, 22.6, 33.1, 24.4, 24.3, 31.0, 40.1, 27.3, 20.4, 37.7, 23.9, 33.2, 27.7, 42.8, 34.2, 30.0, 25.2, 28.8, 23.6, 34.6, 35.7, 36.7, 45.2, 25.4, 35.0, 29.7, 18.4, 29.2, 33.1, 38.2, 31.2, 52.3, 35.4, 30.1, 31.2, 28.0, 24.4, 35.8, 30.1, 28.7, 25.9, 30.9, 32.1, 32.4, 33.6, 40.0, 25.1, 25.2, 23.0, 33.2, 34.2, 40.5, 27.8, 24.9, 25.3, 35.9, 32.4, 26.0, 38.7, 20.8, 36.1, 36.9, 21.9, 35.5, 30.7, 23.6, 35.8, 21.0, 39.7, 24.8, 26.2, 39.4, 29.5, 34.1, 19.3, 38.1, 27.5, 35.7, 25.6, 35.1, 30.8, 23.1, 32.7, 23.6, 23.9, 47.9, 33.8, 25.9, 25.9, 32.0, 34.7, 36.8, 38.5, 28.7, 23.5, 21.8, 42.2, 31.2, 34.4, 27.2, 42.7, 35.3, 29.8, 39.2, 34.9, 34.0, 21.0, 27.5, 0.0, 35.8, 34.9, 36.2, 25.2, 37.2, 43.4, 30.8, 20.0, 25.4, 25.1, 24.3, 22.3, 31.6, 32.0, 23.7, 22.1, 27.7, 24.7, 21.1, 24.2, 31.6, 42.1, 21.9, 35.7, 34.4, 42.4, 26.2, 27.2, 18.2, 45.3, 26.0, 40.6, 30.8, 0.0, 40.6, 22.2, 30.4, 30.0, 25.6, 24.5, 37.4, 29.9, 18.2, 36.8, 32.2, 33.2, 25.3, 36.5, 30.5, 21.2, 39.9, 19.6, 37.8, 26.7, 30.2, 25.9, 20.8, 21.8, 35.3, 27.6, 24.0, 21.8, 27.8, 36.8, 46.1, 41.3, 33.2, 38.8, 29.9, 28.9, 27.3, 23.8, 25.9, 28.0, 35.2, 27.8, 38.2, 40.7, 46.5, 25.6, 26.1, 36.8, 33.5, 32.8, 0.0, 26.6, 26.0, 30.1, 29.3, 25.2, 37.2, 33.3, 37.3, 33.3, 28.6, 30.4, 25.0, 22.1, 24.2, 27.3, 25.6, 37.6, 32.8, 19.6, 25.0, 33.2, 0.0, 31.6, 21.8, 18.2, 26.3, 30.8, 24.6, 29.8, 45.3, 41.3, 29.8, 33.3, 29.6, 21.7, 36.3, 39.5, 32.0, 33.1, 32.8, 28.5, 27.4, 31.9, 27.8, 29.9, 36.9, 25.5, 38.1, 27.8, 46.2, 30.1, 37.6, 26.9, 32.4, 26.1, 38.6, 32.0, 31.3, 32.5, 22.6, 29.5, 34.7, 30.1, 35.5, 24.0, 27.0, 25.0, 26.5, 38.7, 22.5, 24.3, 21.1, 39.4, 28.5, 33.6, 45.3, 27.8, 23.1, 27.1, 23.7, 27.8, 35.8, 19.5, 41.5, 24.0, 30.9, 32.5, 25.8, 28.7, 20.1, 38.4, 24.2, 40.8, 43.5, 30.8, 37.7, 24.7, 32.4, 34.6, 24.7, 34.5, 26.2, 27.5, 25.9, 28.8, 31.6, 19.5, 29.3, 34.3, 28.0, 27.6, 39.4, 26.4, 25.2, 33.8, 34.1, 26.8, 34.2, 21.8, 38.9, 39.0, 27.7, 34.8, 34.0, 30.9, 33.6, 25.4, 35.5, 57.3, 35.6, 35.3, 24.2, 24.2, 44.6, 0.0, 33.2, 23.1, 28.3, 24.1, 24.6, 39.1, 23.5, 25.0, 34.5, 44.5, 35.9, 38.5, 28.4, 39.8, 34.4, 31.2, 29.6, 26.4, 29.5, 23.1, 35.5, 29.3, 38.1, 39.1, 32.8, 39.4, 36.1, 32.4, 22.9, 30.1, 29.0, 23.3, 35.4, 27.4, 32.0, 36.6, 30.8, 28.5, 40.6, 30.0, 46.3, 39.0, 26.0, 32.0, 37.5, 28.4, 22.5, 32.9, 36.8, 26.2, 30.4]}],\n",
       "                        {\"template\": {\"data\": {\"bar\": [{\"error_x\": {\"color\": \"#2a3f5f\"}, \"error_y\": {\"color\": \"#2a3f5f\"}, \"marker\": {\"line\": {\"color\": \"#E5ECF6\", \"width\": 0.5}}, \"type\": \"bar\"}], \"barpolar\": [{\"marker\": {\"line\": {\"color\": \"#E5ECF6\", \"width\": 0.5}}, \"type\": \"barpolar\"}], \"carpet\": [{\"aaxis\": {\"endlinecolor\": \"#2a3f5f\", \"gridcolor\": \"white\", \"linecolor\": \"white\", \"minorgridcolor\": \"white\", \"startlinecolor\": \"#2a3f5f\"}, \"baxis\": {\"endlinecolor\": \"#2a3f5f\", \"gridcolor\": \"white\", \"linecolor\": \"white\", \"minorgridcolor\": \"white\", \"startlinecolor\": \"#2a3f5f\"}, \"type\": \"carpet\"}], \"choropleth\": [{\"colorbar\": {\"outlinewidth\": 0, \"ticks\": \"\"}, \"type\": \"choropleth\"}], \"contour\": [{\"colorbar\": {\"outlinewidth\": 0, \"ticks\": \"\"}, \"colorscale\": [[0.0, \"#0d0887\"], [0.1111111111111111, \"#46039f\"], [0.2222222222222222, \"#7201a8\"], [0.3333333333333333, \"#9c179e\"], [0.4444444444444444, \"#bd3786\"], [0.5555555555555556, \"#d8576b\"], [0.6666666666666666, \"#ed7953\"], [0.7777777777777778, \"#fb9f3a\"], [0.8888888888888888, \"#fdca26\"], [1.0, \"#f0f921\"]], \"type\": \"contour\"}], \"contourcarpet\": [{\"colorbar\": {\"outlinewidth\": 0, \"ticks\": \"\"}, \"type\": \"contourcarpet\"}], \"heatmap\": [{\"colorbar\": {\"outlinewidth\": 0, \"ticks\": \"\"}, \"colorscale\": [[0.0, \"#0d0887\"], [0.1111111111111111, \"#46039f\"], [0.2222222222222222, \"#7201a8\"], [0.3333333333333333, \"#9c179e\"], [0.4444444444444444, \"#bd3786\"], [0.5555555555555556, \"#d8576b\"], [0.6666666666666666, \"#ed7953\"], [0.7777777777777778, \"#fb9f3a\"], [0.8888888888888888, \"#fdca26\"], [1.0, \"#f0f921\"]], \"type\": \"heatmap\"}], \"heatmapgl\": [{\"colorbar\": {\"outlinewidth\": 0, \"ticks\": \"\"}, \"colorscale\": [[0.0, \"#0d0887\"], [0.1111111111111111, \"#46039f\"], [0.2222222222222222, \"#7201a8\"], [0.3333333333333333, \"#9c179e\"], [0.4444444444444444, \"#bd3786\"], [0.5555555555555556, \"#d8576b\"], [0.6666666666666666, \"#ed7953\"], [0.7777777777777778, \"#fb9f3a\"], [0.8888888888888888, \"#fdca26\"], [1.0, \"#f0f921\"]], \"type\": \"heatmapgl\"}], \"histogram\": [{\"marker\": {\"colorbar\": {\"outlinewidth\": 0, \"ticks\": \"\"}}, \"type\": \"histogram\"}], \"histogram2d\": [{\"colorbar\": {\"outlinewidth\": 0, \"ticks\": \"\"}, \"colorscale\": [[0.0, \"#0d0887\"], [0.1111111111111111, \"#46039f\"], [0.2222222222222222, \"#7201a8\"], [0.3333333333333333, \"#9c179e\"], [0.4444444444444444, \"#bd3786\"], [0.5555555555555556, \"#d8576b\"], [0.6666666666666666, \"#ed7953\"], [0.7777777777777778, \"#fb9f3a\"], [0.8888888888888888, \"#fdca26\"], [1.0, \"#f0f921\"]], \"type\": \"histogram2d\"}], \"histogram2dcontour\": [{\"colorbar\": {\"outlinewidth\": 0, \"ticks\": \"\"}, \"colorscale\": [[0.0, \"#0d0887\"], [0.1111111111111111, \"#46039f\"], [0.2222222222222222, \"#7201a8\"], [0.3333333333333333, \"#9c179e\"], [0.4444444444444444, \"#bd3786\"], [0.5555555555555556, \"#d8576b\"], [0.6666666666666666, \"#ed7953\"], [0.7777777777777778, \"#fb9f3a\"], [0.8888888888888888, \"#fdca26\"], [1.0, \"#f0f921\"]], \"type\": \"histogram2dcontour\"}], \"mesh3d\": [{\"colorbar\": {\"outlinewidth\": 0, \"ticks\": \"\"}, \"type\": \"mesh3d\"}], \"parcoords\": [{\"line\": {\"colorbar\": {\"outlinewidth\": 0, \"ticks\": \"\"}}, \"type\": \"parcoords\"}], \"pie\": [{\"automargin\": true, \"type\": \"pie\"}], \"scatter\": [{\"marker\": {\"colorbar\": {\"outlinewidth\": 0, \"ticks\": \"\"}}, \"type\": \"scatter\"}], \"scatter3d\": [{\"line\": {\"colorbar\": {\"outlinewidth\": 0, \"ticks\": \"\"}}, \"marker\": {\"colorbar\": {\"outlinewidth\": 0, \"ticks\": \"\"}}, \"type\": \"scatter3d\"}], \"scattercarpet\": [{\"marker\": {\"colorbar\": {\"outlinewidth\": 0, \"ticks\": \"\"}}, \"type\": \"scattercarpet\"}], \"scattergeo\": [{\"marker\": {\"colorbar\": {\"outlinewidth\": 0, \"ticks\": \"\"}}, \"type\": \"scattergeo\"}], \"scattergl\": [{\"marker\": {\"colorbar\": {\"outlinewidth\": 0, \"ticks\": \"\"}}, \"type\": \"scattergl\"}], \"scattermapbox\": [{\"marker\": {\"colorbar\": {\"outlinewidth\": 0, \"ticks\": \"\"}}, \"type\": \"scattermapbox\"}], \"scatterpolar\": [{\"marker\": {\"colorbar\": {\"outlinewidth\": 0, \"ticks\": \"\"}}, \"type\": \"scatterpolar\"}], \"scatterpolargl\": [{\"marker\": {\"colorbar\": {\"outlinewidth\": 0, \"ticks\": \"\"}}, \"type\": \"scatterpolargl\"}], \"scatterternary\": [{\"marker\": {\"colorbar\": {\"outlinewidth\": 0, \"ticks\": \"\"}}, \"type\": \"scatterternary\"}], \"surface\": [{\"colorbar\": {\"outlinewidth\": 0, \"ticks\": \"\"}, \"colorscale\": [[0.0, \"#0d0887\"], [0.1111111111111111, \"#46039f\"], [0.2222222222222222, \"#7201a8\"], [0.3333333333333333, \"#9c179e\"], [0.4444444444444444, \"#bd3786\"], [0.5555555555555556, \"#d8576b\"], [0.6666666666666666, \"#ed7953\"], [0.7777777777777778, \"#fb9f3a\"], [0.8888888888888888, \"#fdca26\"], [1.0, \"#f0f921\"]], \"type\": \"surface\"}], \"table\": [{\"cells\": {\"fill\": {\"color\": \"#EBF0F8\"}, \"line\": {\"color\": \"white\"}}, \"header\": {\"fill\": {\"color\": \"#C8D4E3\"}, \"line\": {\"color\": \"white\"}}, \"type\": \"table\"}]}, \"layout\": {\"annotationdefaults\": {\"arrowcolor\": \"#2a3f5f\", \"arrowhead\": 0, \"arrowwidth\": 1}, \"coloraxis\": {\"colorbar\": {\"outlinewidth\": 0, \"ticks\": \"\"}}, \"colorscale\": {\"diverging\": [[0, \"#8e0152\"], [0.1, \"#c51b7d\"], [0.2, \"#de77ae\"], [0.3, \"#f1b6da\"], [0.4, \"#fde0ef\"], [0.5, \"#f7f7f7\"], [0.6, \"#e6f5d0\"], [0.7, \"#b8e186\"], [0.8, \"#7fbc41\"], [0.9, \"#4d9221\"], [1, \"#276419\"]], \"sequential\": [[0.0, \"#0d0887\"], [0.1111111111111111, \"#46039f\"], [0.2222222222222222, \"#7201a8\"], [0.3333333333333333, \"#9c179e\"], [0.4444444444444444, \"#bd3786\"], [0.5555555555555556, \"#d8576b\"], [0.6666666666666666, \"#ed7953\"], [0.7777777777777778, \"#fb9f3a\"], [0.8888888888888888, \"#fdca26\"], [1.0, \"#f0f921\"]], \"sequentialminus\": [[0.0, \"#0d0887\"], [0.1111111111111111, \"#46039f\"], [0.2222222222222222, \"#7201a8\"], [0.3333333333333333, \"#9c179e\"], [0.4444444444444444, \"#bd3786\"], [0.5555555555555556, \"#d8576b\"], [0.6666666666666666, \"#ed7953\"], [0.7777777777777778, \"#fb9f3a\"], [0.8888888888888888, \"#fdca26\"], [1.0, \"#f0f921\"]]}, \"colorway\": [\"#636efa\", \"#EF553B\", \"#00cc96\", \"#ab63fa\", \"#FFA15A\", \"#19d3f3\", \"#FF6692\", \"#B6E880\", \"#FF97FF\", \"#FECB52\"], \"font\": {\"color\": \"#2a3f5f\"}, \"geo\": {\"bgcolor\": \"white\", \"lakecolor\": \"white\", \"landcolor\": \"#E5ECF6\", \"showlakes\": true, \"showland\": true, \"subunitcolor\": \"white\"}, \"hoverlabel\": {\"align\": \"left\"}, \"hovermode\": \"closest\", \"mapbox\": {\"style\": \"light\"}, \"paper_bgcolor\": \"white\", \"plot_bgcolor\": \"#E5ECF6\", \"polar\": {\"angularaxis\": {\"gridcolor\": \"white\", \"linecolor\": \"white\", \"ticks\": \"\"}, \"bgcolor\": \"#E5ECF6\", \"radialaxis\": {\"gridcolor\": \"white\", \"linecolor\": \"white\", \"ticks\": \"\"}}, \"scene\": {\"xaxis\": {\"backgroundcolor\": \"#E5ECF6\", \"gridcolor\": \"white\", \"gridwidth\": 2, \"linecolor\": \"white\", \"showbackground\": true, \"ticks\": \"\", \"zerolinecolor\": \"white\"}, \"yaxis\": {\"backgroundcolor\": \"#E5ECF6\", \"gridcolor\": \"white\", \"gridwidth\": 2, \"linecolor\": \"white\", \"showbackground\": true, \"ticks\": \"\", \"zerolinecolor\": \"white\"}, \"zaxis\": {\"backgroundcolor\": \"#E5ECF6\", \"gridcolor\": \"white\", \"gridwidth\": 2, \"linecolor\": \"white\", \"showbackground\": true, \"ticks\": \"\", \"zerolinecolor\": \"white\"}}, \"shapedefaults\": {\"line\": {\"color\": \"#2a3f5f\"}}, \"ternary\": {\"aaxis\": {\"gridcolor\": \"white\", \"linecolor\": \"white\", \"ticks\": \"\"}, \"baxis\": {\"gridcolor\": \"white\", \"linecolor\": \"white\", \"ticks\": \"\"}, \"bgcolor\": \"#E5ECF6\", \"caxis\": {\"gridcolor\": \"white\", \"linecolor\": \"white\", \"ticks\": \"\"}}, \"title\": {\"x\": 0.05}, \"xaxis\": {\"automargin\": true, \"gridcolor\": \"white\", \"linecolor\": \"white\", \"ticks\": \"\", \"title\": {\"standoff\": 15}, \"zerolinecolor\": \"white\", \"zerolinewidth\": 2}, \"yaxis\": {\"automargin\": true, \"gridcolor\": \"white\", \"linecolor\": \"white\", \"ticks\": \"\", \"title\": {\"standoff\": 15}, \"zerolinecolor\": \"white\", \"zerolinewidth\": 2}}}, \"title\": {\"text\": \"Glucose vs BMI\"}, \"xaxis\": {\"title\": {\"text\": \"Glucose\"}, \"zeroline\": false}, \"yaxis\": {\"title\": {\"text\": \"BMI\"}, \"zeroline\": false}},\n",
       "                        {\"responsive\": true}\n",
       "                    ).then(function(){\n",
       "                            \n",
       "var gd = document.getElementById('0eb34fb3-ca14-494e-9a68-3b961cef5e78');\n",
       "var x = new MutationObserver(function (mutations, observer) {{\n",
       "        var display = window.getComputedStyle(gd).display;\n",
       "        if (!display || display === 'none') {{\n",
       "            console.log([gd, 'removed!']);\n",
       "            Plotly.purge(gd);\n",
       "            observer.disconnect();\n",
       "        }}\n",
       "}});\n",
       "\n",
       "// Listen for the removal of the full notebook cells\n",
       "var notebookContainer = gd.closest('#notebook-container');\n",
       "if (notebookContainer) {{\n",
       "    x.observe(notebookContainer, {childList: true});\n",
       "}}\n",
       "\n",
       "// Listen for the clearing of the current output cell\n",
       "var outputEl = gd.closest('.output');\n",
       "if (outputEl) {{\n",
       "    x.observe(outputEl, {childList: true});\n",
       "}}\n",
       "\n",
       "                        })\n",
       "                };\n",
       "                \n",
       "            </script>\n",
       "        </div>\n",
       "</body>\n",
       "</html>"
      ]
     },
     "metadata": {
      "tags": []
     },
     "output_type": "display_data"
    }
   ],
   "source": [
    "# one line of code\n"
   ]
  },
  {
   "cell_type": "markdown",
   "metadata": {
    "colab_type": "text",
    "id": "yd8TT5OAX-D2"
   },
   "source": [
    "15. Represents' Insulin 'vs' Outcome'What is your relationship?\n",
    "---\n",
    "---"
   ]
  },
  {
   "cell_type": "code",
   "execution_count": 0,
   "metadata": {
    "colab": {
     "base_uri": "https://localhost:8080/",
     "height": 542
    },
    "colab_type": "code",
    "id": "TF8-PNI9ji-H",
    "outputId": "f027c49b-cbf2-4e74-e309-47e825a59bd7",
    "scrolled": false
   },
   "outputs": [
    {
     "data": {
      "text/html": [
       "<html>\n",
       "<head><meta charset=\"utf-8\" /></head>\n",
       "<body>\n",
       "    <div>\n",
       "            <script src=\"https://cdnjs.cloudflare.com/ajax/libs/mathjax/2.7.5/MathJax.js?config=TeX-AMS-MML_SVG\"></script><script type=\"text/javascript\">if (window.MathJax) {MathJax.Hub.Config({SVG: {font: \"STIX-Web\"}});}</script>\n",
       "                <script type=\"text/javascript\">window.PlotlyConfig = {MathJaxConfig: 'local'};</script>\n",
       "        <script src=\"https://cdn.plot.ly/plotly-latest.min.js\"></script>    \n",
       "            <div id=\"e3852805-048d-494f-99b6-5e12f2971d95\" class=\"plotly-graph-div\" style=\"height:525px; width:100%;\"></div>\n",
       "            <script type=\"text/javascript\">\n",
       "                \n",
       "                    window.PLOTLYENV=window.PLOTLYENV || {};\n",
       "                    \n",
       "                if (document.getElementById(\"e3852805-048d-494f-99b6-5e12f2971d95\")) {\n",
       "                    Plotly.newPlot(\n",
       "                        'e3852805-048d-494f-99b6-5e12f2971d95',\n",
       "                        [{\"marker\": {\"color\": \"#FFD700\", \"line\": {\"width\": 1}}, \"mode\": \"markers\", \"name\": \"diabetic\", \"type\": \"scatter\", \"x\": [0, 0, 168, 88, 543, 0, 0, 846, 175, 0, 230, 0, 96, 0, 0, 146, 115, 0, 245, 0, 0, 207, 240, 0, 0, 300, 304, 0, 0, 0, 90, 0, 0, 0, 110, 0, 220, 0, 36, 135, 495, 175, 0, 0, 100, 0, 99, 145, 0, 168, 0, 225, 0, 155, 0, 0, 114, 0, 156, 0, 130, 130, 130, 0, 0, 495, 58, 114, 160, 0, 0, 210, 48, 99, 318, 280, 0, 0, 130, 175, 271, 129, 0, 0, 478, 0, 0, 0, 370, 0, 192, 0, 0, 0, 176, 0, 258, 0, 150, 0, 0, 0, 0, 0, 0, 0, 0, 0, 220, 74, 182, 194, 360, 184, 0, 135, 0, 132, 180, 205, 96, 0, 0, 0, 0, 0, 29, 156, 120, 0, 0, 171, 0, 0, 0, 167, 0, 249, 325, 0, 0, 140, 465, 325, 0, 0, 0, 285, 0, 0, 0, 0, 0, 88, 0, 0, 0, 579, 167, 474, 0, 115, 210, 277, 180, 180, 0, 0, 0, 0, 14, 64, 0, 0, 237, 0, 191, 328, 0, 250, 122, 145, 0, 90, 0, 105, 165, 0, 0, 155, 215, 190, 0, 225, 207, 0, 274, 165, 0, 0, 0, 600, 0, 156, 0, 0, 185, 0, 126, 0, 293, 194, 321, 144, 0, 0, 0, 0, 91, 0, 144, 159, 130, 540, 70, 0, 231, 130, 0, 0, 0, 0, 0, 0, 0, 0, 180, 0, 125, 480, 125, 0, 0, 0, 0, 160, 0, 392, 185, 0, 127, 79, 0, 120, 0, 150, 0, 0, 200, 0, 0, 510, 0, 110, 0, 0, 0, 0], \"y\": [1, 1, 1, 1, 1, 1, 1, 1, 1, 1, 1, 1, 1, 1, 1, 1, 1, 1, 1, 1, 1, 1, 1, 1, 1, 1, 1, 1, 1, 1, 1, 1, 1, 1, 1, 1, 1, 1, 1, 1, 1, 1, 1, 1, 1, 1, 1, 1, 1, 1, 1, 1, 1, 1, 1, 1, 1, 1, 1, 1, 1, 1, 1, 1, 1, 1, 1, 1, 1, 1, 1, 1, 1, 1, 1, 1, 1, 1, 1, 1, 1, 1, 1, 1, 1, 1, 1, 1, 1, 1, 1, 1, 1, 1, 1, 1, 1, 1, 1, 1, 1, 1, 1, 1, 1, 1, 1, 1, 1, 1, 1, 1, 1, 1, 1, 1, 1, 1, 1, 1, 1, 1, 1, 1, 1, 1, 1, 1, 1, 1, 1, 1, 1, 1, 1, 1, 1, 1, 1, 1, 1, 1, 1, 1, 1, 1, 1, 1, 1, 1, 1, 1, 1, 1, 1, 1, 1, 1, 1, 1, 1, 1, 1, 1, 1, 1, 1, 1, 1, 1, 1, 1, 1, 1, 1, 1, 1, 1, 1, 1, 1, 1, 1, 1, 1, 1, 1, 1, 1, 1, 1, 1, 1, 1, 1, 1, 1, 1, 1, 1, 1, 1, 1, 1, 1, 1, 1, 1, 1, 1, 1, 1, 1, 1, 1, 1, 1, 1, 1, 1, 1, 1, 1, 1, 1, 1, 1, 1, 1, 1, 1, 1, 1, 1, 1, 1, 1, 1, 1, 1, 1, 1, 1, 1, 1, 1, 1, 1, 1, 1, 1, 1, 1, 1, 1, 1, 1, 1, 1, 1, 1, 1, 1, 1, 1, 1, 1, 1]}, {\"marker\": {\"color\": \"#7EC0EE\", \"line\": {\"width\": 1}}, \"mode\": \"markers\", \"name\": \"healthy\", \"type\": \"scatter\", \"x\": [0, 94, 0, 0, 0, 0, 83, 235, 0, 140, 110, 0, 0, 54, 0, 0, 192, 0, 70, 0, 0, 0, 0, 0, 0, 82, 36, 23, 342, 0, 110, 0, 142, 0, 0, 128, 0, 0, 38, 100, 140, 270, 0, 0, 0, 0, 0, 0, 0, 71, 0, 125, 0, 71, 0, 0, 176, 48, 64, 228, 0, 76, 64, 0, 0, 40, 0, 152, 0, 140, 18, 37, 0, 0, 0, 51, 0, 100, 0, 135, 94, 0, 49, 140, 50, 92, 0, 325, 0, 0, 63, 284, 0, 0, 119, 0, 0, 204, 0, 485, 94, 135, 53, 0, 105, 285, 0, 0, 0, 0, 78, 0, 48, 55, 0, 0, 0, 92, 23, 0, 0, 0, 94, 0, 0, 0, 0, 0, 44, 190, 0, 87, 0, 0, 0, 120, 0, 190, 56, 32, 0, 744, 53, 37, 0, 45, 0, 0, 88, 194, 0, 680, 402, 0, 0, 0, 55, 0, 0, 0, 375, 130, 0, 0, 67, 0, 0, 56, 0, 45, 0, 57, 116, 0, 278, 122, 155, 135, 545, 49, 75, 40, 0, 120, 215, 0, 42, 0, 105, 148, 0, 148, 85, 94, 64, 140, 231, 0, 168, 0, 68, 0, 52, 0, 58, 255, 0, 105, 73, 0, 0, 0, 108, 83, 0, 74, 0, 0, 0, 43, 0, 54, 0, 0, 293, 83, 0, 66, 89, 66, 94, 158, 84, 75, 72, 82, 0, 182, 59, 110, 50, 81, 196, 415, 87, 275, 115, 0, 0, 0, 165, 0, 0, 176, 310, 61, 0, 0, 170, 76, 78, 0, 0, 145, 0, 85, 60, 0, 0, 0, 0, 0, 0, 50, 120, 70, 92, 63, 95, 210, 0, 105, 0, 71, 60, 56, 0, 49, 0, 0, 105, 36, 100, 140, 0, 0, 0, 0, 0, 0, 110, 75, 0, 0, 49, 125, 480, 265, 0, 0, 66, 0, 0, 0, 0, 0, 76, 193, 71, 0, 79, 0, 0, 170, 76, 0, 210, 0, 0, 86, 0, 0, 326, 66, 130, 0, 0, 0, 82, 105, 188, 0, 106, 0, 65, 0, 56, 0, 0, 210, 56, 76, 166, 67, 0, 0, 106, 0, 44, 115, 215, 0, 0, 0, 0, 77, 54, 0, 88, 18, 126, 126, 0, 0, 44, 120, 330, 63, 130, 0, 0, 0, 0, 0, 0, 0, 140, 115, 230, 0, 25, 120, 0, 0, 0, 0, 41, 272, 182, 158, 0, 0, 0, 15, 160, 0, 0, 115, 0, 54, 0, 0, 0, 0, 90, 0, 183, 0, 0, 66, 46, 105, 0, 0, 152, 440, 0, 100, 106, 77, 0, 135, 90, 200, 0, 0, 132, 190, 100, 168, 0, 49, 240, 0, 0, 265, 45, 105, 0, 205, 0, 0, 180, 0, 95, 0, 0, 155, 0, 200, 0, 100, 0, 335, 387, 22, 291, 0, 0, 178, 0, 200, 105, 0, 0, 180, 0, 0, 0, 165, 0, 0, 120, 0, 160, 94, 116, 140, 105, 57, 74, 0, 0, 0, 16, 0, 180, 0, 112, 0], \"y\": [0, 0, 0, 0, 0, 0, 0, 0, 0, 0, 0, 0, 0, 0, 0, 0, 0, 0, 0, 0, 0, 0, 0, 0, 0, 0, 0, 0, 0, 0, 0, 0, 0, 0, 0, 0, 0, 0, 0, 0, 0, 0, 0, 0, 0, 0, 0, 0, 0, 0, 0, 0, 0, 0, 0, 0, 0, 0, 0, 0, 0, 0, 0, 0, 0, 0, 0, 0, 0, 0, 0, 0, 0, 0, 0, 0, 0, 0, 0, 0, 0, 0, 0, 0, 0, 0, 0, 0, 0, 0, 0, 0, 0, 0, 0, 0, 0, 0, 0, 0, 0, 0, 0, 0, 0, 0, 0, 0, 0, 0, 0, 0, 0, 0, 0, 0, 0, 0, 0, 0, 0, 0, 0, 0, 0, 0, 0, 0, 0, 0, 0, 0, 0, 0, 0, 0, 0, 0, 0, 0, 0, 0, 0, 0, 0, 0, 0, 0, 0, 0, 0, 0, 0, 0, 0, 0, 0, 0, 0, 0, 0, 0, 0, 0, 0, 0, 0, 0, 0, 0, 0, 0, 0, 0, 0, 0, 0, 0, 0, 0, 0, 0, 0, 0, 0, 0, 0, 0, 0, 0, 0, 0, 0, 0, 0, 0, 0, 0, 0, 0, 0, 0, 0, 0, 0, 0, 0, 0, 0, 0, 0, 0, 0, 0, 0, 0, 0, 0, 0, 0, 0, 0, 0, 0, 0, 0, 0, 0, 0, 0, 0, 0, 0, 0, 0, 0, 0, 0, 0, 0, 0, 0, 0, 0, 0, 0, 0, 0, 0, 0, 0, 0, 0, 0, 0, 0, 0, 0, 0, 0, 0, 0, 0, 0, 0, 0, 0, 0, 0, 0, 0, 0, 0, 0, 0, 0, 0, 0, 0, 0, 0, 0, 0, 0, 0, 0, 0, 0, 0, 0, 0, 0, 0, 0, 0, 0, 0, 0, 0, 0, 0, 0, 0, 0, 0, 0, 0, 0, 0, 0, 0, 0, 0, 0, 0, 0, 0, 0, 0, 0, 0, 0, 0, 0, 0, 0, 0, 0, 0, 0, 0, 0, 0, 0, 0, 0, 0, 0, 0, 0, 0, 0, 0, 0, 0, 0, 0, 0, 0, 0, 0, 0, 0, 0, 0, 0, 0, 0, 0, 0, 0, 0, 0, 0, 0, 0, 0, 0, 0, 0, 0, 0, 0, 0, 0, 0, 0, 0, 0, 0, 0, 0, 0, 0, 0, 0, 0, 0, 0, 0, 0, 0, 0, 0, 0, 0, 0, 0, 0, 0, 0, 0, 0, 0, 0, 0, 0, 0, 0, 0, 0, 0, 0, 0, 0, 0, 0, 0, 0, 0, 0, 0, 0, 0, 0, 0, 0, 0, 0, 0, 0, 0, 0, 0, 0, 0, 0, 0, 0, 0, 0, 0, 0, 0, 0, 0, 0, 0, 0, 0, 0, 0, 0, 0, 0, 0, 0, 0, 0, 0, 0, 0, 0, 0, 0, 0, 0, 0, 0, 0, 0, 0, 0, 0, 0, 0, 0, 0, 0, 0, 0, 0, 0, 0, 0, 0, 0, 0, 0, 0, 0, 0, 0, 0, 0, 0, 0, 0, 0, 0]}],\n",
       "                        {\"template\": {\"data\": {\"bar\": [{\"error_x\": {\"color\": \"#2a3f5f\"}, \"error_y\": {\"color\": \"#2a3f5f\"}, \"marker\": {\"line\": {\"color\": \"#E5ECF6\", \"width\": 0.5}}, \"type\": \"bar\"}], \"barpolar\": [{\"marker\": {\"line\": {\"color\": \"#E5ECF6\", \"width\": 0.5}}, \"type\": \"barpolar\"}], \"carpet\": [{\"aaxis\": {\"endlinecolor\": \"#2a3f5f\", \"gridcolor\": \"white\", \"linecolor\": \"white\", \"minorgridcolor\": \"white\", \"startlinecolor\": \"#2a3f5f\"}, \"baxis\": {\"endlinecolor\": \"#2a3f5f\", \"gridcolor\": \"white\", \"linecolor\": \"white\", \"minorgridcolor\": \"white\", \"startlinecolor\": \"#2a3f5f\"}, \"type\": \"carpet\"}], \"choropleth\": [{\"colorbar\": {\"outlinewidth\": 0, \"ticks\": \"\"}, \"type\": \"choropleth\"}], \"contour\": [{\"colorbar\": {\"outlinewidth\": 0, \"ticks\": \"\"}, \"colorscale\": [[0.0, \"#0d0887\"], [0.1111111111111111, \"#46039f\"], [0.2222222222222222, \"#7201a8\"], [0.3333333333333333, \"#9c179e\"], [0.4444444444444444, \"#bd3786\"], [0.5555555555555556, \"#d8576b\"], [0.6666666666666666, \"#ed7953\"], [0.7777777777777778, \"#fb9f3a\"], [0.8888888888888888, \"#fdca26\"], [1.0, \"#f0f921\"]], \"type\": \"contour\"}], \"contourcarpet\": [{\"colorbar\": {\"outlinewidth\": 0, \"ticks\": \"\"}, \"type\": \"contourcarpet\"}], \"heatmap\": [{\"colorbar\": {\"outlinewidth\": 0, \"ticks\": \"\"}, \"colorscale\": [[0.0, \"#0d0887\"], [0.1111111111111111, \"#46039f\"], [0.2222222222222222, \"#7201a8\"], [0.3333333333333333, \"#9c179e\"], [0.4444444444444444, \"#bd3786\"], [0.5555555555555556, \"#d8576b\"], [0.6666666666666666, \"#ed7953\"], [0.7777777777777778, \"#fb9f3a\"], [0.8888888888888888, \"#fdca26\"], [1.0, \"#f0f921\"]], \"type\": \"heatmap\"}], \"heatmapgl\": [{\"colorbar\": {\"outlinewidth\": 0, \"ticks\": \"\"}, \"colorscale\": [[0.0, \"#0d0887\"], [0.1111111111111111, \"#46039f\"], [0.2222222222222222, \"#7201a8\"], [0.3333333333333333, \"#9c179e\"], [0.4444444444444444, \"#bd3786\"], [0.5555555555555556, \"#d8576b\"], [0.6666666666666666, \"#ed7953\"], [0.7777777777777778, \"#fb9f3a\"], [0.8888888888888888, \"#fdca26\"], [1.0, \"#f0f921\"]], \"type\": \"heatmapgl\"}], \"histogram\": [{\"marker\": {\"colorbar\": {\"outlinewidth\": 0, \"ticks\": \"\"}}, \"type\": \"histogram\"}], \"histogram2d\": [{\"colorbar\": {\"outlinewidth\": 0, \"ticks\": \"\"}, \"colorscale\": [[0.0, \"#0d0887\"], [0.1111111111111111, \"#46039f\"], [0.2222222222222222, \"#7201a8\"], [0.3333333333333333, \"#9c179e\"], [0.4444444444444444, \"#bd3786\"], [0.5555555555555556, \"#d8576b\"], [0.6666666666666666, \"#ed7953\"], [0.7777777777777778, \"#fb9f3a\"], [0.8888888888888888, \"#fdca26\"], [1.0, \"#f0f921\"]], \"type\": \"histogram2d\"}], \"histogram2dcontour\": [{\"colorbar\": {\"outlinewidth\": 0, \"ticks\": \"\"}, \"colorscale\": [[0.0, \"#0d0887\"], [0.1111111111111111, \"#46039f\"], [0.2222222222222222, \"#7201a8\"], [0.3333333333333333, \"#9c179e\"], [0.4444444444444444, \"#bd3786\"], [0.5555555555555556, \"#d8576b\"], [0.6666666666666666, \"#ed7953\"], [0.7777777777777778, \"#fb9f3a\"], [0.8888888888888888, \"#fdca26\"], [1.0, \"#f0f921\"]], \"type\": \"histogram2dcontour\"}], \"mesh3d\": [{\"colorbar\": {\"outlinewidth\": 0, \"ticks\": \"\"}, \"type\": \"mesh3d\"}], \"parcoords\": [{\"line\": {\"colorbar\": {\"outlinewidth\": 0, \"ticks\": \"\"}}, \"type\": \"parcoords\"}], \"pie\": [{\"automargin\": true, \"type\": \"pie\"}], \"scatter\": [{\"marker\": {\"colorbar\": {\"outlinewidth\": 0, \"ticks\": \"\"}}, \"type\": \"scatter\"}], \"scatter3d\": [{\"line\": {\"colorbar\": {\"outlinewidth\": 0, \"ticks\": \"\"}}, \"marker\": {\"colorbar\": {\"outlinewidth\": 0, \"ticks\": \"\"}}, \"type\": \"scatter3d\"}], \"scattercarpet\": [{\"marker\": {\"colorbar\": {\"outlinewidth\": 0, \"ticks\": \"\"}}, \"type\": \"scattercarpet\"}], \"scattergeo\": [{\"marker\": {\"colorbar\": {\"outlinewidth\": 0, \"ticks\": \"\"}}, \"type\": \"scattergeo\"}], \"scattergl\": [{\"marker\": {\"colorbar\": {\"outlinewidth\": 0, \"ticks\": \"\"}}, \"type\": \"scattergl\"}], \"scattermapbox\": [{\"marker\": {\"colorbar\": {\"outlinewidth\": 0, \"ticks\": \"\"}}, \"type\": \"scattermapbox\"}], \"scatterpolar\": [{\"marker\": {\"colorbar\": {\"outlinewidth\": 0, \"ticks\": \"\"}}, \"type\": \"scatterpolar\"}], \"scatterpolargl\": [{\"marker\": {\"colorbar\": {\"outlinewidth\": 0, \"ticks\": \"\"}}, \"type\": \"scatterpolargl\"}], \"scatterternary\": [{\"marker\": {\"colorbar\": {\"outlinewidth\": 0, \"ticks\": \"\"}}, \"type\": \"scatterternary\"}], \"surface\": [{\"colorbar\": {\"outlinewidth\": 0, \"ticks\": \"\"}, \"colorscale\": [[0.0, \"#0d0887\"], [0.1111111111111111, \"#46039f\"], [0.2222222222222222, \"#7201a8\"], [0.3333333333333333, \"#9c179e\"], [0.4444444444444444, \"#bd3786\"], [0.5555555555555556, \"#d8576b\"], [0.6666666666666666, \"#ed7953\"], [0.7777777777777778, \"#fb9f3a\"], [0.8888888888888888, \"#fdca26\"], [1.0, \"#f0f921\"]], \"type\": \"surface\"}], \"table\": [{\"cells\": {\"fill\": {\"color\": \"#EBF0F8\"}, \"line\": {\"color\": \"white\"}}, \"header\": {\"fill\": {\"color\": \"#C8D4E3\"}, \"line\": {\"color\": \"white\"}}, \"type\": \"table\"}]}, \"layout\": {\"annotationdefaults\": {\"arrowcolor\": \"#2a3f5f\", \"arrowhead\": 0, \"arrowwidth\": 1}, \"coloraxis\": {\"colorbar\": {\"outlinewidth\": 0, \"ticks\": \"\"}}, \"colorscale\": {\"diverging\": [[0, \"#8e0152\"], [0.1, \"#c51b7d\"], [0.2, \"#de77ae\"], [0.3, \"#f1b6da\"], [0.4, \"#fde0ef\"], [0.5, \"#f7f7f7\"], [0.6, \"#e6f5d0\"], [0.7, \"#b8e186\"], [0.8, \"#7fbc41\"], [0.9, \"#4d9221\"], [1, \"#276419\"]], \"sequential\": [[0.0, \"#0d0887\"], [0.1111111111111111, \"#46039f\"], [0.2222222222222222, \"#7201a8\"], [0.3333333333333333, \"#9c179e\"], [0.4444444444444444, \"#bd3786\"], [0.5555555555555556, \"#d8576b\"], [0.6666666666666666, \"#ed7953\"], [0.7777777777777778, \"#fb9f3a\"], [0.8888888888888888, \"#fdca26\"], [1.0, \"#f0f921\"]], \"sequentialminus\": [[0.0, \"#0d0887\"], [0.1111111111111111, \"#46039f\"], [0.2222222222222222, \"#7201a8\"], [0.3333333333333333, \"#9c179e\"], [0.4444444444444444, \"#bd3786\"], [0.5555555555555556, \"#d8576b\"], [0.6666666666666666, \"#ed7953\"], [0.7777777777777778, \"#fb9f3a\"], [0.8888888888888888, \"#fdca26\"], [1.0, \"#f0f921\"]]}, \"colorway\": [\"#636efa\", \"#EF553B\", \"#00cc96\", \"#ab63fa\", \"#FFA15A\", \"#19d3f3\", \"#FF6692\", \"#B6E880\", \"#FF97FF\", \"#FECB52\"], \"font\": {\"color\": \"#2a3f5f\"}, \"geo\": {\"bgcolor\": \"white\", \"lakecolor\": \"white\", \"landcolor\": \"#E5ECF6\", \"showlakes\": true, \"showland\": true, \"subunitcolor\": \"white\"}, \"hoverlabel\": {\"align\": \"left\"}, \"hovermode\": \"closest\", \"mapbox\": {\"style\": \"light\"}, \"paper_bgcolor\": \"white\", \"plot_bgcolor\": \"#E5ECF6\", \"polar\": {\"angularaxis\": {\"gridcolor\": \"white\", \"linecolor\": \"white\", \"ticks\": \"\"}, \"bgcolor\": \"#E5ECF6\", \"radialaxis\": {\"gridcolor\": \"white\", \"linecolor\": \"white\", \"ticks\": \"\"}}, \"scene\": {\"xaxis\": {\"backgroundcolor\": \"#E5ECF6\", \"gridcolor\": \"white\", \"gridwidth\": 2, \"linecolor\": \"white\", \"showbackground\": true, \"ticks\": \"\", \"zerolinecolor\": \"white\"}, \"yaxis\": {\"backgroundcolor\": \"#E5ECF6\", \"gridcolor\": \"white\", \"gridwidth\": 2, \"linecolor\": \"white\", \"showbackground\": true, \"ticks\": \"\", \"zerolinecolor\": \"white\"}, \"zaxis\": {\"backgroundcolor\": \"#E5ECF6\", \"gridcolor\": \"white\", \"gridwidth\": 2, \"linecolor\": \"white\", \"showbackground\": true, \"ticks\": \"\", \"zerolinecolor\": \"white\"}}, \"shapedefaults\": {\"line\": {\"color\": \"#2a3f5f\"}}, \"ternary\": {\"aaxis\": {\"gridcolor\": \"white\", \"linecolor\": \"white\", \"ticks\": \"\"}, \"baxis\": {\"gridcolor\": \"white\", \"linecolor\": \"white\", \"ticks\": \"\"}, \"bgcolor\": \"#E5ECF6\", \"caxis\": {\"gridcolor\": \"white\", \"linecolor\": \"white\", \"ticks\": \"\"}}, \"title\": {\"x\": 0.05}, \"xaxis\": {\"automargin\": true, \"gridcolor\": \"white\", \"linecolor\": \"white\", \"ticks\": \"\", \"title\": {\"standoff\": 15}, \"zerolinecolor\": \"white\", \"zerolinewidth\": 2}, \"yaxis\": {\"automargin\": true, \"gridcolor\": \"white\", \"linecolor\": \"white\", \"ticks\": \"\", \"title\": {\"standoff\": 15}, \"zerolinecolor\": \"white\", \"zerolinewidth\": 2}}}, \"title\": {\"text\": \"Insulin vs Outcome\"}, \"xaxis\": {\"title\": {\"text\": \"Insulin\"}, \"zeroline\": false}, \"yaxis\": {\"title\": {\"text\": \"Outcome\"}, \"zeroline\": false}},\n",
       "                        {\"responsive\": true}\n",
       "                    ).then(function(){\n",
       "                            \n",
       "var gd = document.getElementById('e3852805-048d-494f-99b6-5e12f2971d95');\n",
       "var x = new MutationObserver(function (mutations, observer) {{\n",
       "        var display = window.getComputedStyle(gd).display;\n",
       "        if (!display || display === 'none') {{\n",
       "            console.log([gd, 'removed!']);\n",
       "            Plotly.purge(gd);\n",
       "            observer.disconnect();\n",
       "        }}\n",
       "}});\n",
       "\n",
       "// Listen for the removal of the full notebook cells\n",
       "var notebookContainer = gd.closest('#notebook-container');\n",
       "if (notebookContainer) {{\n",
       "    x.observe(notebookContainer, {childList: true});\n",
       "}}\n",
       "\n",
       "// Listen for the clearing of the current output cell\n",
       "var outputEl = gd.closest('.output');\n",
       "if (outputEl) {{\n",
       "    x.observe(outputEl, {childList: true});\n",
       "}}\n",
       "\n",
       "                        })\n",
       "                };\n",
       "                \n",
       "            </script>\n",
       "        </div>\n",
       "</body>\n",
       "</html>"
      ]
     },
     "metadata": {
      "tags": []
     },
     "output_type": "display_data"
    }
   ],
   "source": [
    "#one line of code\n"
   ]
  },
  {
   "cell_type": "markdown",
   "metadata": {
    "colab_type": "text",
    "id": "SDYRReXUeiVN"
   },
   "source": [
    "16. Represents 'Glucose' vs 'Pregnancies'. What is their relationship?\n",
    "---\n",
    "---"
   ]
  },
  {
   "cell_type": "code",
   "execution_count": 0,
   "metadata": {
    "colab": {
     "base_uri": "https://localhost:8080/",
     "height": 542
    },
    "colab_type": "code",
    "id": "ukCYquYXji-X",
    "outputId": "3a6a6da0-fa86-404b-c9db-aa5399a2c07f"
   },
   "outputs": [
    {
     "data": {
      "text/html": [
       "<html>\n",
       "<head><meta charset=\"utf-8\" /></head>\n",
       "<body>\n",
       "    <div>\n",
       "            <script src=\"https://cdnjs.cloudflare.com/ajax/libs/mathjax/2.7.5/MathJax.js?config=TeX-AMS-MML_SVG\"></script><script type=\"text/javascript\">if (window.MathJax) {MathJax.Hub.Config({SVG: {font: \"STIX-Web\"}});}</script>\n",
       "                <script type=\"text/javascript\">window.PlotlyConfig = {MathJaxConfig: 'local'};</script>\n",
       "        <script src=\"https://cdn.plot.ly/plotly-latest.min.js\"></script>    \n",
       "            <div id=\"0e7a2c81-8a57-4f3a-b299-967e19206fc7\" class=\"plotly-graph-div\" style=\"height:525px; width:100%;\"></div>\n",
       "            <script type=\"text/javascript\">\n",
       "                \n",
       "                    window.PLOTLYENV=window.PLOTLYENV || {};\n",
       "                    \n",
       "                if (document.getElementById(\"0e7a2c81-8a57-4f3a-b299-967e19206fc7\")) {\n",
       "                    Plotly.newPlot(\n",
       "                        '0e7a2c81-8a57-4f3a-b299-967e19206fc7',\n",
       "                        [{\"marker\": {\"color\": \"#FFD700\", \"line\": {\"width\": 1}}, \"mode\": \"markers\", \"name\": \"diabetic\", \"type\": \"scatter\", \"x\": [148, 183, 137, 78, 197, 125, 168, 189, 166, 100, 118, 107, 115, 196, 119, 143, 125, 147, 158, 102, 90, 111, 171, 180, 103, 176, 187, 133, 114, 109, 100, 126, 131, 137, 136, 134, 122, 163, 95, 171, 155, 160, 146, 124, 162, 113, 88, 117, 105, 173, 122, 170, 108, 156, 188, 152, 163, 131, 104, 102, 134, 179, 129, 130, 194, 181, 128, 109, 139, 159, 135, 158, 107, 109, 148, 196, 162, 184, 140, 112, 151, 109, 85, 112, 177, 158, 162, 142, 134, 171, 181, 179, 164, 139, 119, 184, 92, 113, 155, 141, 123, 138, 146, 101, 106, 146, 161, 108, 119, 107, 128, 128, 146, 100, 167, 144, 115, 161, 128, 124, 155, 109, 182, 194, 112, 124, 152, 122, 102, 180, 115, 152, 178, 0, 165, 125, 129, 196, 189, 146, 124, 133, 173, 140, 156, 116, 105, 144, 166, 158, 131, 193, 95, 136, 168, 115, 197, 172, 138, 173, 144, 129, 151, 184, 181, 95, 141, 189, 108, 117, 180, 104, 134, 175, 148, 120, 105, 158, 145, 135, 125, 195, 0, 180, 84, 163, 145, 130, 132, 129, 100, 128, 90, 186, 187, 125, 198, 121, 118, 197, 151, 124, 143, 176, 111, 132, 188, 173, 150, 183, 181, 174, 168, 138, 112, 119, 114, 104, 97, 147, 167, 179, 136, 155, 80, 199, 167, 145, 115, 145, 111, 195, 156, 121, 162, 125, 144, 158, 129, 142, 169, 125, 168, 115, 164, 93, 129, 187, 173, 97, 149, 130, 120, 174, 102, 120, 140, 147, 187, 162, 136, 181, 154, 128, 123, 190, 170, 126], \"y\": [6, 8, 0, 3, 2, 8, 10, 1, 5, 7, 0, 7, 1, 7, 9, 11, 10, 7, 3, 9, 2, 4, 9, 0, 7, 8, 7, 8, 7, 0, 2, 13, 0, 5, 15, 4, 1, 1, 0, 3, 8, 7, 4, 5, 0, 0, 1, 1, 0, 4, 9, 3, 10, 9, 8, 7, 17, 0, 6, 6, 6, 8, 0, 5, 7, 8, 1, 8, 5, 7, 11, 5, 3, 4, 4, 8, 5, 7, 0, 9, 12, 5, 5, 5, 0, 2, 3, 4, 6, 4, 7, 0, 9, 3, 6, 9, 12, 1, 11, 3, 4, 0, 2, 10, 7, 0, 7, 2, 1, 0, 2, 1, 2, 14, 0, 2, 5, 10, 0, 2, 2, 7, 3, 6, 3, 0, 13, 1, 2, 1, 5, 9, 7, 5, 9, 1, 13, 1, 5, 4, 6, 1, 3, 12, 4, 5, 8, 5, 5, 4, 0, 3, 4, 5, 5, 4, 8, 1, 0, 3, 4, 3, 8, 4, 1, 1, 0, 0, 8, 4, 0, 0, 2, 14, 10, 8, 2, 3, 0, 0, 4, 7, 6, 0, 12, 3, 9, 9, 4, 3, 8, 3, 10, 8, 5, 6, 0, 0, 2, 2, 0, 8, 8, 3, 11, 3, 0, 1, 7, 4, 1, 3, 7, 11, 9, 0, 7, 13, 7, 6, 1, 0, 11, 2, 3, 1, 8, 9, 6, 4, 10, 6, 9, 3, 0, 4, 1, 13, 7, 7, 3, 6, 1, 10, 9, 2, 10, 7, 3, 5, 1, 3, 8, 2, 1, 11, 9, 1, 3, 6, 4, 0, 8, 1, 0, 6, 9, 1]}, {\"marker\": {\"color\": \"#7EC0EE\", \"line\": {\"width\": 1}}, \"mode\": \"markers\", \"name\": \"healthy\", \"type\": \"scatter\", \"x\": [85, 89, 116, 115, 110, 139, 103, 126, 99, 97, 145, 117, 109, 88, 92, 122, 103, 138, 180, 133, 106, 159, 146, 71, 105, 103, 101, 88, 150, 73, 100, 146, 105, 84, 44, 141, 99, 109, 95, 146, 139, 129, 79, 0, 62, 95, 112, 113, 74, 83, 101, 110, 106, 100, 107, 80, 123, 81, 142, 144, 92, 71, 93, 151, 125, 81, 85, 126, 96, 144, 83, 89, 76, 78, 97, 99, 111, 107, 132, 120, 118, 84, 96, 125, 100, 93, 129, 105, 128, 106, 108, 154, 102, 57, 106, 147, 90, 136, 114, 153, 99, 109, 88, 151, 102, 114, 100, 148, 120, 110, 111, 87, 79, 75, 85, 143, 87, 119, 0, 73, 141, 111, 123, 85, 105, 113, 138, 108, 99, 103, 111, 96, 81, 147, 179, 125, 119, 142, 100, 87, 101, 197, 117, 79, 122, 74, 104, 91, 91, 146, 122, 165, 124, 111, 106, 129, 90, 86, 111, 114, 193, 191, 95, 142, 96, 128, 102, 108, 122, 71, 106, 100, 104, 114, 108, 129, 133, 136, 155, 96, 108, 78, 161, 151, 126, 112, 77, 150, 120, 137, 80, 106, 113, 112, 99, 115, 129, 112, 157, 179, 105, 118, 87, 106, 95, 165, 117, 130, 95, 0, 122, 95, 126, 139, 116, 99, 92, 137, 61, 90, 90, 88, 158, 103, 147, 99, 101, 81, 118, 84, 105, 122, 98, 87, 93, 107, 105, 109, 90, 125, 119, 100, 100, 131, 116, 127, 96, 82, 137, 72, 123, 101, 102, 112, 143, 143, 97, 83, 119, 94, 102, 115, 94, 135, 99, 89, 80, 139, 90, 140, 147, 97, 107, 83, 117, 100, 95, 120, 82, 91, 119, 100, 135, 86, 134, 120, 71, 74, 88, 115, 124, 74, 97, 154, 144, 137, 119, 136, 114, 137, 114, 126, 132, 123, 85, 84, 139, 173, 99, 194, 83, 89, 99, 80, 166, 110, 81, 154, 117, 84, 94, 96, 75, 130, 84, 120, 139, 91, 91, 99, 125, 76, 129, 68, 124, 114, 125, 87, 97, 116, 117, 111, 122, 107, 86, 91, 77, 105, 57, 127, 84, 88, 131, 164, 189, 116, 84, 114, 88, 84, 124, 97, 110, 103, 85, 87, 99, 91, 95, 99, 92, 154, 78, 130, 111, 98, 143, 119, 108, 133, 109, 121, 100, 93, 103, 73, 112, 82, 123, 67, 89, 109, 108, 96, 124, 124, 92, 152, 111, 106, 105, 106, 117, 68, 112, 92, 183, 94, 108, 90, 125, 132, 128, 94, 102, 111, 128, 92, 104, 94, 100, 102, 128, 90, 103, 157, 107, 91, 117, 123, 120, 106, 101, 120, 127, 162, 112, 98, 154, 165, 99, 68, 123, 91, 93, 101, 56, 95, 136, 129, 130, 107, 140, 107, 121, 90, 99, 127, 118, 122, 129, 110, 80, 127, 158, 126, 134, 102, 94, 108, 83, 114, 117, 111, 112, 116, 141, 175, 92, 106, 105, 95, 126, 65, 99, 102, 109, 153, 100, 81, 121, 108, 137, 106, 88, 89, 101, 122, 121, 93], \"y\": [1, 1, 5, 10, 4, 10, 1, 3, 8, 1, 13, 5, 5, 3, 6, 10, 4, 11, 3, 7, 7, 7, 1, 2, 7, 1, 1, 5, 7, 1, 0, 0, 0, 2, 5, 2, 5, 2, 1, 4, 5, 4, 1, 1, 7, 5, 2, 3, 2, 7, 0, 2, 13, 2, 1, 1, 4, 7, 2, 6, 2, 1, 6, 1, 0, 1, 2, 1, 1, 4, 3, 1, 4, 5, 4, 4, 6, 2, 5, 3, 1, 8, 2, 2, 0, 0, 0, 5, 3, 5, 2, 4, 0, 9, 2, 5, 2, 1, 4, 1, 2, 1, 2, 4, 7, 0, 2, 3, 4, 4, 3, 2, 1, 2, 6, 5, 6, 0, 1, 5, 4, 3, 9, 8, 1, 0, 1, 0, 2, 6, 5, 1, 2, 0, 7, 6, 7, 7, 1, 1, 0, 4, 0, 1, 4, 3, 0, 1, 4, 2, 10, 0, 9, 1, 9, 2, 2, 0, 3, 2, 1, 3, 4, 3, 5, 2, 0, 2, 3, 1, 13, 2, 0, 5, 2, 10, 7, 7, 5, 4, 5, 0, 0, 6, 0, 8, 5, 3, 2, 0, 6, 0, 3, 2, 3, 3, 4, 2, 1, 10, 6, 8, 2, 12, 1, 0, 0, 1, 1, 1, 5, 8, 8, 1, 3, 3, 4, 4, 3, 1, 3, 12, 5, 5, 4, 5, 0, 3, 0, 0, 2, 2, 0, 1, 0, 1, 0, 1, 1, 1, 1, 3, 1, 1, 4, 2, 3, 3, 6, 9, 2, 0, 6, 1, 1, 1, 1, 1, 1, 2, 0, 2, 0, 0, 2, 3, 1, 2, 1, 12, 5, 1, 6, 2, 4, 1, 0, 0, 1, 0, 2, 2, 1, 5, 9, 9, 1, 8, 5, 10, 0, 0, 0, 6, 1, 0, 0, 7, 4, 0, 7, 8, 4, 0, 4, 0, 1, 0, 4, 8, 2, 2, 4, 3, 6, 5, 2, 6, 2, 3, 7, 3, 10, 1, 2, 8, 0, 9, 2, 3, 7, 13, 6, 2, 3, 6, 3, 3, 1, 3, 0, 0, 2, 0, 1, 6, 1, 0, 0, 0, 4, 1, 4, 1, 4, 1, 3, 6, 1, 1, 7, 1, 8, 11, 11, 1, 6, 0, 2, 1, 6, 4, 3, 2, 3, 2, 1, 1, 6, 10, 6, 12, 8, 1, 6, 0, 2, 2, 6, 0, 1, 1, 1, 6, 1, 1, 1, 0, 1, 3, 6, 3, 6, 2, 2, 2, 6, 0, 2, 4, 0, 0, 5, 4, 0, 2, 1, 10, 5, 2, 1, 0, 4, 4, 3, 2, 0, 1, 1, 5, 2, 1, 2, 1, 11, 10, 1, 6, 9, 6, 1, 10, 3, 8, 0, 2, 2, 0, 5, 2, 3, 1, 1, 8, 2, 2, 0, 4, 4, 2, 2, 4, 6, 2, 3, 5, 0, 3, 10, 1, 4, 1, 5, 1, 4, 1, 0, 2, 2, 2, 2, 4, 0, 8, 2, 3, 1, 13, 12, 1, 1, 3, 7, 1, 2, 9, 10, 2, 5, 1]}],\n",
       "                        {\"template\": {\"data\": {\"bar\": [{\"error_x\": {\"color\": \"#2a3f5f\"}, \"error_y\": {\"color\": \"#2a3f5f\"}, \"marker\": {\"line\": {\"color\": \"#E5ECF6\", \"width\": 0.5}}, \"type\": \"bar\"}], \"barpolar\": [{\"marker\": {\"line\": {\"color\": \"#E5ECF6\", \"width\": 0.5}}, \"type\": \"barpolar\"}], \"carpet\": [{\"aaxis\": {\"endlinecolor\": \"#2a3f5f\", \"gridcolor\": \"white\", \"linecolor\": \"white\", \"minorgridcolor\": \"white\", \"startlinecolor\": \"#2a3f5f\"}, \"baxis\": {\"endlinecolor\": \"#2a3f5f\", \"gridcolor\": \"white\", \"linecolor\": \"white\", \"minorgridcolor\": \"white\", \"startlinecolor\": \"#2a3f5f\"}, \"type\": \"carpet\"}], \"choropleth\": [{\"colorbar\": {\"outlinewidth\": 0, \"ticks\": \"\"}, \"type\": \"choropleth\"}], \"contour\": [{\"colorbar\": {\"outlinewidth\": 0, \"ticks\": \"\"}, \"colorscale\": [[0.0, \"#0d0887\"], [0.1111111111111111, \"#46039f\"], [0.2222222222222222, \"#7201a8\"], [0.3333333333333333, \"#9c179e\"], [0.4444444444444444, \"#bd3786\"], [0.5555555555555556, \"#d8576b\"], [0.6666666666666666, \"#ed7953\"], [0.7777777777777778, \"#fb9f3a\"], [0.8888888888888888, \"#fdca26\"], [1.0, \"#f0f921\"]], \"type\": \"contour\"}], \"contourcarpet\": [{\"colorbar\": {\"outlinewidth\": 0, \"ticks\": \"\"}, \"type\": \"contourcarpet\"}], \"heatmap\": [{\"colorbar\": {\"outlinewidth\": 0, \"ticks\": \"\"}, \"colorscale\": [[0.0, \"#0d0887\"], [0.1111111111111111, \"#46039f\"], [0.2222222222222222, \"#7201a8\"], [0.3333333333333333, \"#9c179e\"], [0.4444444444444444, \"#bd3786\"], [0.5555555555555556, \"#d8576b\"], [0.6666666666666666, \"#ed7953\"], [0.7777777777777778, \"#fb9f3a\"], [0.8888888888888888, \"#fdca26\"], [1.0, \"#f0f921\"]], \"type\": \"heatmap\"}], \"heatmapgl\": [{\"colorbar\": {\"outlinewidth\": 0, \"ticks\": \"\"}, \"colorscale\": [[0.0, \"#0d0887\"], [0.1111111111111111, \"#46039f\"], [0.2222222222222222, \"#7201a8\"], [0.3333333333333333, \"#9c179e\"], [0.4444444444444444, \"#bd3786\"], [0.5555555555555556, \"#d8576b\"], [0.6666666666666666, \"#ed7953\"], [0.7777777777777778, \"#fb9f3a\"], [0.8888888888888888, \"#fdca26\"], [1.0, \"#f0f921\"]], \"type\": \"heatmapgl\"}], \"histogram\": [{\"marker\": {\"colorbar\": {\"outlinewidth\": 0, \"ticks\": \"\"}}, \"type\": \"histogram\"}], \"histogram2d\": [{\"colorbar\": {\"outlinewidth\": 0, \"ticks\": \"\"}, \"colorscale\": [[0.0, \"#0d0887\"], [0.1111111111111111, \"#46039f\"], [0.2222222222222222, \"#7201a8\"], [0.3333333333333333, \"#9c179e\"], [0.4444444444444444, \"#bd3786\"], [0.5555555555555556, \"#d8576b\"], [0.6666666666666666, \"#ed7953\"], [0.7777777777777778, \"#fb9f3a\"], [0.8888888888888888, \"#fdca26\"], [1.0, \"#f0f921\"]], \"type\": \"histogram2d\"}], \"histogram2dcontour\": [{\"colorbar\": {\"outlinewidth\": 0, \"ticks\": \"\"}, \"colorscale\": [[0.0, \"#0d0887\"], [0.1111111111111111, \"#46039f\"], [0.2222222222222222, \"#7201a8\"], [0.3333333333333333, \"#9c179e\"], [0.4444444444444444, \"#bd3786\"], [0.5555555555555556, \"#d8576b\"], [0.6666666666666666, \"#ed7953\"], [0.7777777777777778, \"#fb9f3a\"], [0.8888888888888888, \"#fdca26\"], [1.0, \"#f0f921\"]], \"type\": \"histogram2dcontour\"}], \"mesh3d\": [{\"colorbar\": {\"outlinewidth\": 0, \"ticks\": \"\"}, \"type\": \"mesh3d\"}], \"parcoords\": [{\"line\": {\"colorbar\": {\"outlinewidth\": 0, \"ticks\": \"\"}}, \"type\": \"parcoords\"}], \"pie\": [{\"automargin\": true, \"type\": \"pie\"}], \"scatter\": [{\"marker\": {\"colorbar\": {\"outlinewidth\": 0, \"ticks\": \"\"}}, \"type\": \"scatter\"}], \"scatter3d\": [{\"line\": {\"colorbar\": {\"outlinewidth\": 0, \"ticks\": \"\"}}, \"marker\": {\"colorbar\": {\"outlinewidth\": 0, \"ticks\": \"\"}}, \"type\": \"scatter3d\"}], \"scattercarpet\": [{\"marker\": {\"colorbar\": {\"outlinewidth\": 0, \"ticks\": \"\"}}, \"type\": \"scattercarpet\"}], \"scattergeo\": [{\"marker\": {\"colorbar\": {\"outlinewidth\": 0, \"ticks\": \"\"}}, \"type\": \"scattergeo\"}], \"scattergl\": [{\"marker\": {\"colorbar\": {\"outlinewidth\": 0, \"ticks\": \"\"}}, \"type\": \"scattergl\"}], \"scattermapbox\": [{\"marker\": {\"colorbar\": {\"outlinewidth\": 0, \"ticks\": \"\"}}, \"type\": \"scattermapbox\"}], \"scatterpolar\": [{\"marker\": {\"colorbar\": {\"outlinewidth\": 0, \"ticks\": \"\"}}, \"type\": \"scatterpolar\"}], \"scatterpolargl\": [{\"marker\": {\"colorbar\": {\"outlinewidth\": 0, \"ticks\": \"\"}}, \"type\": \"scatterpolargl\"}], \"scatterternary\": [{\"marker\": {\"colorbar\": {\"outlinewidth\": 0, \"ticks\": \"\"}}, \"type\": \"scatterternary\"}], \"surface\": [{\"colorbar\": {\"outlinewidth\": 0, \"ticks\": \"\"}, \"colorscale\": [[0.0, \"#0d0887\"], [0.1111111111111111, \"#46039f\"], [0.2222222222222222, \"#7201a8\"], [0.3333333333333333, \"#9c179e\"], [0.4444444444444444, \"#bd3786\"], [0.5555555555555556, \"#d8576b\"], [0.6666666666666666, \"#ed7953\"], [0.7777777777777778, \"#fb9f3a\"], [0.8888888888888888, \"#fdca26\"], [1.0, \"#f0f921\"]], \"type\": \"surface\"}], \"table\": [{\"cells\": {\"fill\": {\"color\": \"#EBF0F8\"}, \"line\": {\"color\": \"white\"}}, \"header\": {\"fill\": {\"color\": \"#C8D4E3\"}, \"line\": {\"color\": \"white\"}}, \"type\": \"table\"}]}, \"layout\": {\"annotationdefaults\": {\"arrowcolor\": \"#2a3f5f\", \"arrowhead\": 0, \"arrowwidth\": 1}, \"coloraxis\": {\"colorbar\": {\"outlinewidth\": 0, \"ticks\": \"\"}}, \"colorscale\": {\"diverging\": [[0, \"#8e0152\"], [0.1, \"#c51b7d\"], [0.2, \"#de77ae\"], [0.3, \"#f1b6da\"], [0.4, \"#fde0ef\"], [0.5, \"#f7f7f7\"], [0.6, \"#e6f5d0\"], [0.7, \"#b8e186\"], [0.8, \"#7fbc41\"], [0.9, \"#4d9221\"], [1, \"#276419\"]], \"sequential\": [[0.0, \"#0d0887\"], [0.1111111111111111, \"#46039f\"], [0.2222222222222222, \"#7201a8\"], [0.3333333333333333, \"#9c179e\"], [0.4444444444444444, \"#bd3786\"], [0.5555555555555556, \"#d8576b\"], [0.6666666666666666, \"#ed7953\"], [0.7777777777777778, \"#fb9f3a\"], [0.8888888888888888, \"#fdca26\"], [1.0, \"#f0f921\"]], \"sequentialminus\": [[0.0, \"#0d0887\"], [0.1111111111111111, \"#46039f\"], [0.2222222222222222, \"#7201a8\"], [0.3333333333333333, \"#9c179e\"], [0.4444444444444444, \"#bd3786\"], [0.5555555555555556, \"#d8576b\"], [0.6666666666666666, \"#ed7953\"], [0.7777777777777778, \"#fb9f3a\"], [0.8888888888888888, \"#fdca26\"], [1.0, \"#f0f921\"]]}, \"colorway\": [\"#636efa\", \"#EF553B\", \"#00cc96\", \"#ab63fa\", \"#FFA15A\", \"#19d3f3\", \"#FF6692\", \"#B6E880\", \"#FF97FF\", \"#FECB52\"], \"font\": {\"color\": \"#2a3f5f\"}, \"geo\": {\"bgcolor\": \"white\", \"lakecolor\": \"white\", \"landcolor\": \"#E5ECF6\", \"showlakes\": true, \"showland\": true, \"subunitcolor\": \"white\"}, \"hoverlabel\": {\"align\": \"left\"}, \"hovermode\": \"closest\", \"mapbox\": {\"style\": \"light\"}, \"paper_bgcolor\": \"white\", \"plot_bgcolor\": \"#E5ECF6\", \"polar\": {\"angularaxis\": {\"gridcolor\": \"white\", \"linecolor\": \"white\", \"ticks\": \"\"}, \"bgcolor\": \"#E5ECF6\", \"radialaxis\": {\"gridcolor\": \"white\", \"linecolor\": \"white\", \"ticks\": \"\"}}, \"scene\": {\"xaxis\": {\"backgroundcolor\": \"#E5ECF6\", \"gridcolor\": \"white\", \"gridwidth\": 2, \"linecolor\": \"white\", \"showbackground\": true, \"ticks\": \"\", \"zerolinecolor\": \"white\"}, \"yaxis\": {\"backgroundcolor\": \"#E5ECF6\", \"gridcolor\": \"white\", \"gridwidth\": 2, \"linecolor\": \"white\", \"showbackground\": true, \"ticks\": \"\", \"zerolinecolor\": \"white\"}, \"zaxis\": {\"backgroundcolor\": \"#E5ECF6\", \"gridcolor\": \"white\", \"gridwidth\": 2, \"linecolor\": \"white\", \"showbackground\": true, \"ticks\": \"\", \"zerolinecolor\": \"white\"}}, \"shapedefaults\": {\"line\": {\"color\": \"#2a3f5f\"}}, \"ternary\": {\"aaxis\": {\"gridcolor\": \"white\", \"linecolor\": \"white\", \"ticks\": \"\"}, \"baxis\": {\"gridcolor\": \"white\", \"linecolor\": \"white\", \"ticks\": \"\"}, \"bgcolor\": \"#E5ECF6\", \"caxis\": {\"gridcolor\": \"white\", \"linecolor\": \"white\", \"ticks\": \"\"}}, \"title\": {\"x\": 0.05}, \"xaxis\": {\"automargin\": true, \"gridcolor\": \"white\", \"linecolor\": \"white\", \"ticks\": \"\", \"title\": {\"standoff\": 15}, \"zerolinecolor\": \"white\", \"zerolinewidth\": 2}, \"yaxis\": {\"automargin\": true, \"gridcolor\": \"white\", \"linecolor\": \"white\", \"ticks\": \"\", \"title\": {\"standoff\": 15}, \"zerolinecolor\": \"white\", \"zerolinewidth\": 2}}}, \"title\": {\"text\": \"Glucose vs Pregnancies\"}, \"xaxis\": {\"title\": {\"text\": \"Glucose\"}, \"zeroline\": false}, \"yaxis\": {\"title\": {\"text\": \"Pregnancies\"}, \"zeroline\": false}},\n",
       "                        {\"responsive\": true}\n",
       "                    ).then(function(){\n",
       "                            \n",
       "var gd = document.getElementById('0e7a2c81-8a57-4f3a-b299-967e19206fc7');\n",
       "var x = new MutationObserver(function (mutations, observer) {{\n",
       "        var display = window.getComputedStyle(gd).display;\n",
       "        if (!display || display === 'none') {{\n",
       "            console.log([gd, 'removed!']);\n",
       "            Plotly.purge(gd);\n",
       "            observer.disconnect();\n",
       "        }}\n",
       "}});\n",
       "\n",
       "// Listen for the removal of the full notebook cells\n",
       "var notebookContainer = gd.closest('#notebook-container');\n",
       "if (notebookContainer) {{\n",
       "    x.observe(notebookContainer, {childList: true});\n",
       "}}\n",
       "\n",
       "// Listen for the clearing of the current output cell\n",
       "var outputEl = gd.closest('.output');\n",
       "if (outputEl) {{\n",
       "    x.observe(outputEl, {childList: true});\n",
       "}}\n",
       "\n",
       "                        })\n",
       "                };\n",
       "                \n",
       "            </script>\n",
       "        </div>\n",
       "</body>\n",
       "</html>"
      ]
     },
     "metadata": {
      "tags": []
     },
     "output_type": "display_data"
    }
   ],
   "source": [
    "# one line of code\n"
   ]
  },
  {
   "cell_type": "markdown",
   "metadata": {
    "colab_type": "text",
    "id": "VcMkz6PFLCga"
   },
   "source": [
    "# 3. Classification\n",
    "\n",
    "The classifier is an algorithm that will allow us to analyze a set of data and classify them into groups. \n",
    "\n",
    "In Machine Learning a classifier is used for data analysis in [supervised learning](https://es.wikipedia.org/wiki/Aprendizaje_supervisado).\n",
    "\n",
    "![Classification](https://static.javatpoint.com/tutorial/machine-learning/images/classification-algorithm-in-machine-learning.png)\n",
    "\n",
    "\n",
    "\n",
    "**Example**\n",
    "- Given a set of emails, determine which is spam and which is not.\n",
    "- Given a set of animal images, determine which ones are dogs.\n",
    "\n",
    "**Objective**\n",
    "- In this challenge, we want to achieve **clasificar** to people with diabetes (1) and non-diabetics (0). It is an exercise of **Classification**.\n",
    "- Below you can see the difference between \"Classification\" and \"regression\"\n",
    "![Classification vs regresión](https://res.cloudinary.com/practicaldev/image/fetch/s--c4Lfzdwy--/c_limit%2Cf_auto%2Cfl_progressive%2Cq_auto%2Cw_880/https://thepracticaldev.s3.amazonaws.com/i/mjshszqx4fj22hs12vfn.png)\n",
    "\n",
    "**Implementation**\n",
    "- Create a training dataset and a test dataset\n",
    "- Create a classifier using an [algorithm type](https://www.javatpoint.com/classification-algorithm-in-machine-learning): *RandomForest, XgBoost, KNN*\n",
    "- Train the classifier with the \"training data\" and the \"features\" that we want to take into account for the training.\n",
    "- Predict results using our test data set or using new data.\n",
    "- Determine the conclusions of the results obtained in the predictions, such as the% of success and precision obtained.\n"
   ]
  },
  {
   "cell_type": "code",
   "execution_count": 0,
   "metadata": {
    "colab": {},
    "colab_type": "code",
    "id": "cR_5UKYeji-3"
   },
   "outputs": [],
   "source": [
    "from sklearn.ensemble import RandomForestClassifier\n",
    "from sklearn.model_selection import train_test_split\n",
    "X =   # datosX\n",
    "y = # featureAPredecir_y"
   ]
  },
  {
   "cell_type": "markdown",
   "metadata": {
    "colab_type": "text",
    "id": "TeAUH2_OxRte"
   },
   "source": [
    "17. Create a training data set and a test data set\n",
    "---"
   ]
  },
  {
   "cell_type": "code",
   "execution_count": 0,
   "metadata": {
    "colab": {},
    "colab_type": "code",
    "id": "XcBUj4MWxE9W"
   },
   "outputs": [],
   "source": [
    "# one line of code\n",
    "X_train, X_test, y_train, y_test = train_test_split(\"escribe aquí\")\n",
    "\n"
   ]
  },
  {
   "cell_type": "markdown",
   "metadata": {
    "colab_type": "text",
    "id": "YU2v4UkmxYGN"
   },
   "source": [
    "18. Create the classifier and train it\n",
    "---"
   ]
  },
  {
   "cell_type": "code",
   "execution_count": 0,
   "metadata": {
    "colab": {
     "base_uri": "https://localhost:8080/",
     "height": 34
    },
    "colab_type": "code",
    "id": "uP-CEFVWYeu1",
    "outputId": "0fb7ba32-b5ee-491c-f78b-52df4811381f"
   },
   "outputs": [
    {
     "name": "stdout",
     "output_type": "stream",
     "text": [
      "0.952755905511811\n"
     ]
    }
   ],
   "source": [
    "# Create Random Forest classifier\n",
    "# one line of code\n",
    " classif = RandomForestClassifier(\"write here\")\n",
    "\n",
    "\n",
    "# Train the classifier with training data and features\n",
    "# one line of code\n",
    "classif.fit(\"write here\")\n"
   ]
  },
  {
   "cell_type": "markdown",
   "metadata": {
    "colab_type": "text",
    "id": "ZwAdpKdYxiL1"
   },
   "source": [
    "19. Predict results and determine success. Get as accurate as possible!\n",
    "---"
   ]
  },
  {
   "cell_type": "code",
   "execution_count": 0,
   "metadata": {
    "colab": {},
    "colab_type": "code",
    "id": "2_cqm1dQxhTu"
   },
   "outputs": [],
   "source": [
    "# Apply classif.predict on test X data (X_test)\n",
    "# one line of code\n",
    "y_pred =\n",
    "\n",
    "# Show result of classifier prediction\n",
    "print((len(y_test)-sum(abs(y_test-y_pred)))/len(y_test))"
   ]
  },
  {
   "cell_type": "markdown",
   "metadata": {
    "colab_type": "text",
    "id": "IJHuIsDH8YCM"
   },
   "source": [
    "# 4. confusion matrix\n",
    "\n",
    "The confusion matrix is ​​a metric that will allow us to know the performance and accuracy of a classification made with Machine Learning.\n",
    "We can find additional information to understand your objective at the following link: [ConfusionMatrix](https://towardsdatascience.com/understanding-confusion-matrix-a9ad42dcfd62)\n",
    "![texto alternativo](https://miro.medium.com/max/578/1*7EYylA6XlXSGBCF77j_rOA.png)"
   ]
  },
  {
   "cell_type": "markdown",
   "metadata": {
    "colab_type": "text",
    "id": "pupqHg4nyKy-"
   },
   "source": [
    "20. We will create a confusion matrix to analyze the previous predictions obtained from our classifier.\n",
    "---"
   ]
  },
  {
   "cell_type": "code",
   "execution_count": 0,
   "metadata": {
    "colab": {
     "base_uri": "https://localhost:8080/",
     "height": 279
    },
    "colab_type": "code",
    "id": "7_-VMqi-ji-9",
    "outputId": "495835f5-a6e4-46f0-99b4-b839a592890c"
   },
   "outputs": [
    {
     "data": {
      "image/png": "[encoded data removed]",
      "text/plain": [
       "<Figure size 432x288 with 2 Axes>"
      ]
     },
     "metadata": {
      "tags": []
     },
     "output_type": "display_data"
    }
   ],
   "source": [
    "from sklearn.metrics import confusion_matrix, plot_confusion_matrix\n",
    "disp = plot_confusion_matrix(classif, X_test, y_test,cmap=plt.cm.Blues,normalize = 'true')"
   ]
  },
  {
   "cell_type": "markdown",
   "metadata": {
    "colab_type": "text",
    "id": "gUSAUxX7rLxN"
   },
   "source": [
    "What percentage of cases is located in each quadrant? In medicine, is a false positive or a false negative worse? Discuss the matrix here and answer the questions:"
   ]
  },
  {
   "cell_type": "markdown",
   "metadata": {
    "colab_type": "text",
    "id": "jkXgO_B0D76K"
   },
   "source": [
    "### Confusion matrix with more information"
   ]
  },
  {
   "cell_type": "code",
   "execution_count": 0,
   "metadata": {
    "colab": {},
    "colab_type": "code",
    "id": "GQCwaPBjTSsJ"
   },
   "outputs": [],
   "source": [
    "# DO NOT MODIFY, JUST EXECUTE with SHIFT ENTER\n",
    "## https://github.com/DTrimarchi10/confusion_matrix\n",
    "import numpy as np\n",
    "import matplotlib.pyplot as plt\n",
    "import seaborn as sns\n",
    "\n",
    "def make_confusion_matrix(cf, group_names=None, categories='auto', count=True, percent=True, cbar=True, xyticks=True, xyplotlabels=True, sum_stats=True, figsize=None, cmap='Blues', title=None):\n",
    "    blanks = ['' for i in range(cf.size)]\n",
    "\n",
    "    if group_names and len(group_names)==cf.size:\n",
    "        group_labels = [\"{}\\n\".format(value) for value in group_names]\n",
    "    else:\n",
    "        group_labels = blanks\n",
    "\n",
    "    if count:\n",
    "        group_counts = [\"{0:0.0f}\\n\".format(value) for value in cf.flatten()]\n",
    "    else:\n",
    "        group_counts = blanks\n",
    "\n",
    "    if percent:\n",
    "        group_percentages = [\"{0:.2%}\".format(value) for value in cf.flatten()/np.sum(cf)]\n",
    "    else:\n",
    "        group_percentages = blanks\n",
    "\n",
    "    box_labels = [f\"{v1}{v2}{v3}\".strip() for v1, v2, v3 in zip(group_labels,group_counts,group_percentages)]\n",
    "    box_labels = np.asarray(box_labels).reshape(cf.shape[0],cf.shape[1])\n",
    "\n",
    "    if sum_stats:\n",
    "        accuracy  = np.trace(cf) / float(np.sum(cf))\n",
    "\n",
    "        if len(cf)==2:\n",
    "            precision = cf[1,1] / sum(cf[:,1])\n",
    "            recall    = cf[1,1] / sum(cf[1,:])\n",
    "            f1_score  = 2*precision*recall / (precision + recall)\n",
    "            stats_text = \"\\n\\nAccuracy={:0.3f}\\nPrecision={:0.3f}\\nRecall={:0.3f}\\nF1 Score={:0.3f}\".format(\n",
    "                accuracy,precision,recall,f1_score)\n",
    "        else:\n",
    "            stats_text = \"\\n\\nAccuracy={:0.3f}\".format(accuracy)\n",
    "    else:\n",
    "        stats_text = \"\"\n",
    "\n",
    "    if figsize==None:\n",
    "        figsize = plt.rcParams.get('figure.figsize')\n",
    "\n",
    "    if xyticks==False:\n",
    "        categories=False\n",
    "\n",
    "    plt.figure(figsize=figsize)\n",
    "    sns.heatmap(cf,annot=box_labels,fmt=\"\",cmap=cmap,cbar=cbar,xticklabels=categories,yticklabels=categories)\n",
    "\n",
    "    if xyplotlabels:\n",
    "        plt.ylabel('True label')\n",
    "        plt.xlabel('Predicted label' + stats_text)\n",
    "    else:\n",
    "        plt.xlabel(stats_text)\n",
    "    \n",
    "    if title:\n",
    "        plt.title(title)"
   ]
  },
  {
   "cell_type": "code",
   "execution_count": 0,
   "metadata": {
    "colab": {
     "base_uri": "https://localhost:8080/",
     "height": 337
    },
    "colab_type": "code",
    "id": "4UegSGai5xFf",
    "outputId": "f76e883f-a67b-4408-e4be-a8ae1f158b1e"
   },
   "outputs": [
    {
     "data": {
      "image/png": "[encoded data removed]",
      "text/plain": [
       "<Figure size 432x288 with 2 Axes>"
      ]
     },
     "metadata": {
      "tags": []
     },
     "output_type": "display_data"
    }
   ],
   "source": [
    "# Show Confusion Matrix with additional metrics\n",
    "# DO NOT MODIFY, just run\n",
    "labels = ['True Neg','False Pos','False Neg','True Pos']\n",
    "categories = ['Zero', 'One']\n",
    "cf_matrix = confusion_matrix(y_test, y_pred)\n",
    "make_confusion_matrix(cf_matrix, group_names=labels, categories=categories, cmap='binary')"
   ]
  },
  {
   "cell_type": "markdown",
   "metadata": {
    "colab_type": "text",
    "id": "yDaWuiSlx7nH"
   },
   "source": [
    "# 5. Improve prediction\n",
    "\n",
    "Improving the prediction and result of our algorithm is possible:\n",
    "\n",
    "\n",
    "*   Increase the dataset or improve the quality of existing data.\n",
    "*   **Optimize hyperparameters** of our data set and our classifier (*random_state*).\n",
    "\n",
    "The following is intended to improve prediction by\"*hyperparameter optimization*\"."
   ]
  },
  {
   "cell_type": "code",
   "execution_count": 0,
   "metadata": {
    "colab": {
     "base_uri": "https://localhost:8080/",
     "height": 1000
    },
    "colab_type": "code",
    "id": "XYPrGVffYmCO",
    "outputId": "d9062119-21a2-48be-9051-bbab7ab48c16"
   },
   "outputs": [
    {
     "name": "stdout",
     "output_type": "stream",
     "text": [
      "1\n",
      "2\n",
      "3\n",
      "4\n",
      "5\n",
      "6\n",
      "7\n",
      "8\n",
      "9\n",
      "10\n",
      "11\n",
      "12\n",
      "13\n",
      "14\n",
      "15\n",
      "16\n",
      "17\n",
      "18\n",
      "19\n",
      "20\n",
      "21\n",
      "22\n",
      "23\n",
      "24\n",
      "25\n",
      "26\n",
      "27\n",
      "28\n",
      "29\n",
      "30\n",
      "31\n",
      "32\n",
      "33\n",
      "34\n",
      "35\n",
      "36\n",
      "37\n",
      "38\n",
      "39\n",
      "40\n",
      "41\n",
      "42\n",
      "43\n",
      "44\n",
      "45\n",
      "46\n",
      "47\n",
      "48\n",
      "49\n",
      "50\n",
      "51\n",
      "52\n",
      "53\n",
      "54\n",
      "55\n",
      "56\n",
      "57\n",
      "58\n",
      "59\n",
      "60\n",
      "61\n",
      "62\n",
      "63\n",
      "64\n",
      "65\n",
      "66\n",
      "67\n",
      "68\n",
      "69\n",
      "70\n",
      "71\n",
      "72\n",
      "73\n",
      "74\n",
      "75\n",
      "76\n",
      "77\n",
      "78\n",
      "79\n",
      "80\n",
      "81\n",
      "82\n",
      "83\n",
      "84\n",
      "85\n",
      "86\n",
      "87\n",
      "88\n",
      "89\n",
      "90\n",
      "91\n",
      "92\n",
      "93\n",
      "94\n",
      "95\n",
      "96\n",
      "97\n",
      "98\n",
      "99\n",
      "100\n",
      "101\n",
      "102\n",
      "103\n",
      "104\n",
      "105\n",
      "106\n",
      "107\n",
      "108\n",
      "109\n",
      "110\n",
      "111\n",
      "112\n",
      "113\n",
      "114\n",
      "115\n",
      "116\n",
      "117\n",
      "118\n",
      "119\n",
      "120\n",
      "121\n",
      "122\n",
      "123\n",
      "124\n",
      "125\n",
      "126\n",
      "127\n",
      "128\n",
      "129\n",
      "130\n",
      "131\n",
      "132\n",
      "133\n",
      "134\n",
      "135\n",
      "136\n",
      "137\n",
      "138\n",
      "139\n",
      "140\n",
      "141\n",
      "142\n",
      "143\n",
      "144\n",
      "145\n",
      "146\n",
      "147\n",
      "148\n",
      "149\n",
      "150\n",
      "151\n",
      "152\n",
      "153\n",
      "154\n",
      "155\n",
      "156\n",
      "157\n",
      "158\n",
      "159\n",
      "160\n",
      "161\n",
      "162\n",
      "163\n",
      "164\n",
      "165\n",
      "166\n",
      "167\n",
      "168\n",
      "169\n",
      "170\n",
      "171\n",
      "172\n",
      "173\n",
      "174\n",
      "175\n",
      "176\n",
      "177\n",
      "178\n",
      "179\n",
      "180\n",
      "181\n",
      "182\n",
      "183\n",
      "184\n",
      "185\n",
      "186\n",
      "187\n",
      "188\n",
      "189\n",
      "190\n",
      "191\n",
      "192\n",
      "193\n",
      "194\n",
      "195\n",
      "196\n",
      "197\n",
      "198\n",
      "199\n",
      "200\n",
      "201\n",
      "202\n",
      "203\n",
      "204\n",
      "205\n",
      "206\n",
      "207\n",
      "208\n",
      "209\n",
      "210\n",
      "211\n",
      "212\n",
      "213\n",
      "214\n",
      "215\n",
      "216\n",
      "217\n",
      "218\n",
      "219\n",
      "220\n",
      "221\n",
      "222\n",
      "223\n",
      "224\n",
      "225\n",
      "226\n",
      "227\n",
      "228\n",
      "229\n",
      "230\n",
      "231\n",
      "232\n",
      "233\n",
      "234\n",
      "235\n",
      "236\n",
      "237\n",
      "238\n",
      "239\n",
      "240\n",
      "241\n",
      "242\n",
      "243\n",
      "244\n",
      "245\n",
      "246\n",
      "247\n",
      "248\n",
      "249\n",
      "250\n",
      "251\n",
      "252\n",
      "253\n",
      "254\n",
      "255\n",
      "256\n",
      "257\n",
      "258\n",
      "259\n",
      "260\n",
      "261\n",
      "262\n",
      "263\n",
      "264\n",
      "265\n",
      "266\n",
      "267\n",
      "268\n",
      "269\n",
      "270\n",
      "271\n",
      "272\n",
      "273\n",
      "274\n",
      "275\n",
      "276\n",
      "277\n",
      "278\n",
      "279\n",
      "280\n",
      "281\n",
      "282\n",
      "283\n",
      "284\n",
      "285\n",
      "286\n",
      "287\n",
      "288\n",
      "289\n",
      "290\n",
      "291\n",
      "292\n",
      "293\n",
      "294\n",
      "295\n",
      "296\n",
      "297\n",
      "298\n",
      "299\n",
      "300\n",
      "301\n",
      "302\n",
      "303\n",
      "304\n",
      "305\n",
      "306\n",
      "307\n",
      "308\n",
      "309\n",
      "310\n",
      "311\n",
      "312\n",
      "313\n",
      "314\n",
      "315\n",
      "316\n",
      "317\n",
      "318\n",
      "319\n",
      "320\n",
      "321\n",
      "322\n",
      "323\n",
      "324\n",
      "325\n",
      "326\n",
      "327\n",
      "328\n",
      "329\n",
      "330\n",
      "331\n",
      "332\n",
      "333\n",
      "334\n",
      "335\n",
      "336\n",
      "337\n",
      "338\n",
      "339\n",
      "340\n",
      "341\n",
      "342\n",
      "343\n",
      "344\n",
      "345\n",
      "346\n",
      "347\n",
      "348\n",
      "349\n",
      "350\n",
      "351\n",
      "352\n",
      "353\n",
      "354\n",
      "355\n",
      "356\n",
      "357\n",
      "358\n",
      "359\n",
      "360\n",
      "361\n",
      "362\n",
      "363\n",
      "364\n",
      "365\n",
      "366\n",
      "367\n",
      "368\n",
      "369\n",
      "370\n",
      "371\n",
      "372\n",
      "373\n",
      "374\n",
      "375\n",
      "376\n",
      "377\n",
      "378\n",
      "379\n",
      "380\n",
      "381\n",
      "382\n",
      "383\n",
      "384\n",
      "385\n",
      "386\n",
      "387\n",
      "388\n",
      "389\n",
      "390\n",
      "391\n",
      "392\n",
      "393\n",
      "394\n",
      "395\n",
      "396\n",
      "397\n",
      "398\n",
      "399\n",
      "400\n",
      "401\n",
      "402\n",
      "403\n",
      "404\n",
      "405\n",
      "406\n",
      "407\n",
      "408\n",
      "409\n",
      "410\n",
      "411\n",
      "412\n",
      "413\n",
      "414\n",
      "415\n",
      "416\n",
      "417\n",
      "418\n",
      "419\n",
      "420\n",
      "421\n",
      "422\n",
      "423\n",
      "424\n",
      "425\n",
      "426\n",
      "427\n",
      "428\n",
      "429\n",
      "430\n",
      "431\n",
      "432\n",
      "433\n",
      "434\n",
      "435\n",
      "436\n",
      "437\n",
      "438\n",
      "439\n",
      "440\n",
      "441\n",
      "442\n",
      "443\n",
      "444\n",
      "445\n",
      "446\n",
      "447\n",
      "448\n",
      "449\n",
      "450\n",
      "451\n",
      "452\n",
      "453\n",
      "454\n",
      "455\n",
      "456\n",
      "457\n",
      "458\n",
      "459\n",
      "460\n",
      "461\n",
      "462\n",
      "463\n",
      "464\n",
      "465\n",
      "466\n",
      "467\n",
      "468\n",
      "469\n",
      "470\n",
      "471\n",
      "472\n",
      "473\n",
      "474\n",
      "475\n",
      "476\n",
      "477\n",
      "478\n",
      "479\n",
      "480\n",
      "481\n",
      "482\n",
      "483\n",
      "484\n",
      "485\n",
      "486\n",
      "487\n",
      "488\n",
      "489\n",
      "490\n",
      "491\n",
      "492\n",
      "493\n",
      "494\n",
      "495\n",
      "496\n",
      "497\n",
      "498\n",
      "499\n",
      "500\n",
      "501\n",
      "502\n",
      "503\n",
      "504\n",
      "505\n",
      "506\n",
      "507\n",
      "508\n",
      "509\n",
      "510\n",
      "511\n",
      "512\n",
      "513\n",
      "514\n",
      "515\n",
      "516\n",
      "517\n",
      "518\n",
      "519\n",
      "520\n",
      "521\n",
      "522\n",
      "523\n",
      "524\n",
      "525\n",
      "526\n",
      "527\n",
      "528\n",
      "529\n",
      "530\n",
      "531\n",
      "532\n",
      "533\n",
      "534\n",
      "535\n",
      "536\n",
      "537\n",
      "538\n",
      "539\n",
      "540\n",
      "541\n",
      "542\n",
      "543\n",
      "544\n",
      "545\n",
      "546\n",
      "547\n",
      "548\n",
      "549\n",
      "550\n",
      "551\n",
      "552\n",
      "553\n",
      "554\n",
      "555\n",
      "556\n",
      "557\n",
      "558\n",
      "559\n",
      "560\n",
      "561\n",
      "562\n",
      "563\n",
      "564\n",
      "565\n",
      "566\n",
      "567\n",
      "568\n",
      "569\n",
      "570\n",
      "571\n",
      "572\n",
      "573\n",
      "574\n",
      "575\n",
      "576\n",
      "577\n",
      "578\n",
      "579\n",
      "580\n",
      "581\n",
      "582\n",
      "583\n",
      "584\n",
      "585\n",
      "586\n",
      "587\n",
      "588\n",
      "589\n",
      "590\n",
      "591\n",
      "592\n",
      "593\n",
      "594\n",
      "595\n",
      "596\n",
      "597\n",
      "598\n",
      "599\n",
      "600\n",
      "601\n",
      "602\n",
      "603\n",
      "604\n",
      "605\n",
      "606\n",
      "607\n",
      "608\n",
      "609\n",
      "610\n",
      "611\n",
      "612\n",
      "613\n",
      "614\n",
      "615\n",
      "616\n",
      "617\n",
      "618\n",
      "619\n",
      "620\n",
      "621\n",
      "622\n",
      "623\n",
      "624\n",
      "625\n",
      "626\n",
      "627\n",
      "628\n",
      "629\n",
      "630\n",
      "631\n",
      "632\n",
      "633\n",
      "634\n",
      "635\n",
      "636\n",
      "637\n",
      "638\n",
      "639\n",
      "640\n",
      "641\n",
      "642\n",
      "643\n",
      "644\n",
      "645\n",
      "646\n",
      "647\n",
      "648\n",
      "649\n",
      "650\n",
      "651\n",
      "652\n",
      "653\n",
      "654\n",
      "655\n",
      "656\n",
      "657\n",
      "658\n",
      "659\n",
      "660\n",
      "661\n",
      "662\n",
      "663\n",
      "664\n",
      "665\n",
      "666\n",
      "667\n",
      "668\n",
      "669\n",
      "670\n",
      "671\n",
      "672\n",
      "673\n",
      "674\n",
      "675\n",
      "676\n",
      "677\n",
      "678\n",
      "679\n",
      "680\n",
      "681\n",
      "682\n",
      "683\n",
      "684\n",
      "685\n",
      "686\n",
      "687\n",
      "688\n",
      "689\n",
      "690\n",
      "691\n",
      "692\n",
      "693\n",
      "694\n",
      "695\n",
      "696\n",
      "697\n",
      "698\n",
      "699\n",
      "700\n",
      "701\n",
      "702\n",
      "703\n",
      "704\n",
      "705\n",
      "706\n",
      "707\n",
      "708\n",
      "709\n",
      "710\n",
      "711\n",
      "712\n",
      "713\n",
      "714\n",
      "715\n",
      "716\n",
      "717\n",
      "718\n",
      "719\n",
      "720\n",
      "721\n",
      "722\n",
      "723\n",
      "724\n",
      "725\n",
      "726\n",
      "727\n",
      "728\n",
      "729\n",
      "730\n",
      "731\n",
      "732\n",
      "733\n",
      "734\n",
      "735\n",
      "736\n",
      "737\n",
      "738\n",
      "739\n",
      "740\n",
      "741\n",
      "742\n",
      "743\n",
      "744\n",
      "745\n",
      "746\n",
      "747\n",
      "748\n",
      "749\n",
      "750\n",
      "751\n",
      "752\n",
      "753\n",
      "754\n",
      "755\n",
      "756\n",
      "757\n",
      "758\n",
      "759\n",
      "760\n",
      "761\n",
      "762\n",
      "763\n",
      "764\n",
      "765\n",
      "766\n",
      "767\n",
      "768\n",
      "769\n",
      "770\n",
      "771\n",
      "772\n",
      "773\n",
      "774\n",
      "775\n",
      "776\n",
      "777\n",
      "778\n",
      "779\n",
      "780\n",
      "781\n",
      "782\n",
      "783\n",
      "784\n",
      "785\n",
      "786\n",
      "787\n",
      "788\n",
      "789\n",
      "790\n",
      "791\n",
      "792\n",
      "793\n",
      "794\n",
      "795\n",
      "796\n",
      "797\n",
      "798\n",
      "799\n",
      "800\n",
      "801\n",
      "802\n",
      "803\n",
      "804\n",
      "805\n",
      "806\n",
      "807\n",
      "808\n",
      "809\n",
      "810\n",
      "811\n",
      "812\n",
      "813\n",
      "814\n",
      "815\n",
      "816\n",
      "817\n",
      "818\n",
      "819\n",
      "820\n",
      "821\n",
      "822\n",
      "823\n",
      "824\n",
      "825\n",
      "826\n",
      "827\n",
      "828\n",
      "829\n",
      "830\n",
      "831\n",
      "832\n",
      "833\n",
      "834\n",
      "835\n",
      "836\n",
      "837\n",
      "838\n",
      "839\n",
      "840\n",
      "841\n",
      "842\n",
      "843\n",
      "844\n",
      "845\n",
      "846\n",
      "847\n",
      "848\n",
      "849\n",
      "850\n",
      "851\n",
      "852\n",
      "853\n",
      "854\n",
      "855\n",
      "856\n",
      "857\n",
      "858\n",
      "859\n",
      "860\n",
      "861\n",
      "862\n",
      "863\n",
      "864\n",
      "865\n",
      "866\n",
      "867\n",
      "868\n",
      "869\n",
      "870\n",
      "871\n",
      "872\n",
      "873\n",
      "874\n",
      "875\n",
      "876\n",
      "877\n",
      "878\n",
      "879\n",
      "880\n",
      "881\n",
      "882\n",
      "883\n",
      "884\n",
      "885\n",
      "886\n",
      "887\n",
      "888\n",
      "889\n",
      "890\n",
      "891\n",
      "892\n",
      "893\n",
      "894\n",
      "895\n",
      "896\n",
      "897\n",
      "898\n",
      "899\n",
      "900\n",
      "901\n",
      "902\n",
      "903\n",
      "904\n",
      "905\n",
      "906\n",
      "907\n",
      "908\n",
      "909\n",
      "910\n",
      "911\n",
      "912\n",
      "913\n",
      "914\n",
      "915\n",
      "916\n",
      "917\n",
      "918\n",
      "919\n",
      "920\n",
      "921\n",
      "922\n",
      "923\n",
      "924\n",
      "925\n",
      "926\n",
      "927\n",
      "928\n",
      "929\n",
      "930\n",
      "931\n",
      "932\n",
      "933\n",
      "934\n",
      "935\n",
      "936\n",
      "937\n",
      "938\n",
      "939\n",
      "940\n",
      "941\n",
      "942\n",
      "943\n",
      "944\n",
      "945\n",
      "946\n",
      "947\n",
      "948\n",
      "949\n",
      "950\n",
      "951\n",
      "952\n",
      "953\n",
      "954\n",
      "955\n",
      "956\n",
      "957\n",
      "958\n",
      "959\n",
      "960\n",
      "961\n",
      "962\n",
      "963\n",
      "964\n",
      "965\n",
      "966\n",
      "967\n",
      "968\n",
      "969\n",
      "970\n",
      "971\n",
      "972\n",
      "973\n",
      "974\n",
      "975\n",
      "976\n",
      "977\n",
      "978\n",
      "979\n",
      "980\n",
      "981\n",
      "982\n",
      "983\n",
      "984\n",
      "985\n",
      "986\n",
      "987\n",
      "988\n",
      "989\n",
      "990\n",
      "991\n",
      "992\n",
      "993\n",
      "994\n",
      "995\n",
      "996\n",
      "997\n",
      "998\n",
      "999\n",
      "0.9291338582677166\n",
      "1\n"
     ]
    }
   ],
   "source": [
    "max_y_predicted = 0.0\n",
    "max_j = 0\n",
    "\n",
    "# Apply a loop to change the value of the variable hyperparameter: random_forest, with values from 1 to 1000\n",
    "for j in range(1,1000):\n",
    "  # CREATE TRAINING AND TEST DATA SET--> X_train, X_test, y_train, y_test = train_test_split(X, y, test_size=0.33, random_state=j)\n",
    "  # CREATE CLASSIFIER ...\n",
    "  # TRAIN THE CLASSIFIER ...\n",
    "  # PREDICT ...\n",
    "  \n",
    "  # SHOW PREDICTION\n",
    "  y_p = (len(y_test)-sum(abs(y_test-y_pred)))/len(y_test)\n",
    "\n",
    "  # SAVE MAXIMUM PREDICTION WITH modifying random_forest\n",
    "  if (y_p > max_y_predicted):\n",
    "    max_y_predicted = y_p\n",
    "    max_j = j\n",
    "  print(j)\n",
    "  ## print((len(y_test)-sum(abs(y_test-y_pred)))/len(y_test))\n",
    "\n",
    "# VISUALIZE THE MAXIMUM PREDICTION obtained WITH the modification of the hyperparameter random_forest\n",
    "print(max_y_predicted)\n",
    "print(max_j)"
   ]
  }
 ],
 "metadata": {
  "accelerator": "GPU",
  "colab": {
   "collapsed_sections": [],
   "name": "reto_diabetes.ipynb",
   "provenance": []
  },
  "kernelspec": {
   "display_name": "Python 3",
   "language": "python",
   "name": "python3"
  },
  "language_info": {
   "codemirror_mode": {
    "name": "ipython",
    "version": 3
   },
   "file_extension": ".py",
   "mimetype": "text/x-python",
   "name": "python",
   "nbconvert_exporter": "python",
   "pygments_lexer": "ipython3",
   "version": "3.7.4"
  }
 },
 "nbformat": 4,
 "nbformat_minor": 1
}
